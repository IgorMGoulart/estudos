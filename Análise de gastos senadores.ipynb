{
 "cells": [
  {
   "cell_type": "markdown",
   "id": "5741a16c",
   "metadata": {},
   "source": [
    "### Desafio 7 Days of Coding"
   ]
  },
  {
   "cell_type": "code",
   "execution_count": 1,
   "id": "d06a53a8",
   "metadata": {},
   "outputs": [],
   "source": [
    "import pandas as pd\n",
    "import numpy as np\n",
    "import seaborn as sns"
   ]
  },
  {
   "cell_type": "code",
   "execution_count": 2,
   "id": "7ac75048",
   "metadata": {},
   "outputs": [],
   "source": [
    "dados2008 = pd.read_csv('despesa_ceaps_2008.csv', encoding = 'latin1', sep = ';', header= 1)\n",
    "dados2009 = pd.read_csv('despesa_ceaps_2009.csv', encoding = 'latin1', sep = ';', header= 1)\n",
    "dados2010 = pd.read_csv('despesa_ceaps_2010.csv', encoding = 'latin1', sep = ';', header= 1)\n",
    "dados2011 = pd.read_csv('despesa_ceaps_2011.csv', encoding = 'latin1', sep = ';', header= 1)\n",
    "dados2012 = pd.read_csv('despesa_ceaps_2012.csv', encoding = 'latin1', sep = ';', header= 1)\n",
    "dados2013 = pd.read_csv('despesa_ceaps_2013.csv', encoding = 'latin1', sep = ';', header= 1)\n",
    "dados2014 = pd.read_csv('despesa_ceaps_2014.csv', encoding = 'latin1', sep = ';', header= 1)\n",
    "dados2015 = pd.read_csv('despesa_ceaps_2015.csv', encoding = 'latin1', sep = ';', header= 1)\n",
    "dados2016 = pd.read_csv('despesa_ceaps_2016.csv', encoding = 'latin1', sep = ';', header= 1)\n",
    "dados2017 = pd.read_csv('despesa_ceaps_2017.csv', encoding = 'latin1', sep = ';', header= 1)\n",
    "dados2018 = pd.read_csv('despesa_ceaps_2018.csv', encoding = 'latin1', sep = ';', header= 1)\n",
    "dados2019 = pd.read_csv('despesa_ceaps_2019.csv', encoding = 'latin1', sep = ';', header= 1)\n",
    "dados2020 = pd.read_csv('despesa_ceaps_2020.csv', encoding = 'latin1', sep = ';', header= 1)\n",
    "dados2021 = pd.read_csv('despesa_ceaps_2021.csv', encoding = 'latin1', sep = ';', header= 1)\n",
    "dados2022 = pd.read_csv('despesa_ceaps_2022.csv', encoding = 'latin1', sep = ';', header= 1)"
   ]
  },
  {
   "cell_type": "code",
   "execution_count": 3,
   "id": "572ef8c2",
   "metadata": {},
   "outputs": [
    {
     "name": "stdout",
     "output_type": "stream",
     "text": [
      "<class 'pandas.core.frame.DataFrame'>\n",
      "RangeIndex: 2449 entries, 0 to 2448\n",
      "Data columns (total 11 columns):\n",
      " #   Column             Non-Null Count  Dtype  \n",
      "---  ------             --------------  -----  \n",
      " 0   ANO                2449 non-null   int64  \n",
      " 1   MES                2449 non-null   int64  \n",
      " 2   SENADOR            2449 non-null   object \n",
      " 3   TIPO_DESPESA       2449 non-null   object \n",
      " 4   CNPJ_CPF           0 non-null      float64\n",
      " 5   FORNECEDOR         0 non-null      float64\n",
      " 6   DOCUMENTO          0 non-null      float64\n",
      " 7   DATA               0 non-null      float64\n",
      " 8   DETALHAMENTO       0 non-null      float64\n",
      " 9   VALOR_REEMBOLSADO  2449 non-null   object \n",
      " 10  COD_DOCUMENTO      2449 non-null   int64  \n",
      "dtypes: float64(5), int64(3), object(3)\n",
      "memory usage: 210.6+ KB\n"
     ]
    }
   ],
   "source": [
    "dados2008.info()"
   ]
  },
  {
   "cell_type": "code",
   "execution_count": 4,
   "id": "4e5c0783",
   "metadata": {},
   "outputs": [],
   "source": [
    "dados = pd.concat([dados2008, dados2009,dados2010,dados2011,dados2012,dados2013,dados2014,dados2015,dados2016,dados2017,dados2018,dados2019,dados2020,dados2021,dados2022])"
   ]
  },
  {
   "cell_type": "code",
   "execution_count": 5,
   "id": "58d32275",
   "metadata": {
    "scrolled": false
   },
   "outputs": [
    {
     "data": {
      "text/html": [
       "<div>\n",
       "<style scoped>\n",
       "    .dataframe tbody tr th:only-of-type {\n",
       "        vertical-align: middle;\n",
       "    }\n",
       "\n",
       "    .dataframe tbody tr th {\n",
       "        vertical-align: top;\n",
       "    }\n",
       "\n",
       "    .dataframe thead th {\n",
       "        text-align: right;\n",
       "    }\n",
       "</style>\n",
       "<table border=\"1\" class=\"dataframe\">\n",
       "  <thead>\n",
       "    <tr style=\"text-align: right;\">\n",
       "      <th></th>\n",
       "      <th>ANO</th>\n",
       "      <th>MES</th>\n",
       "      <th>SENADOR</th>\n",
       "      <th>TIPO_DESPESA</th>\n",
       "      <th>CNPJ_CPF</th>\n",
       "      <th>FORNECEDOR</th>\n",
       "      <th>DOCUMENTO</th>\n",
       "      <th>DATA</th>\n",
       "      <th>DETALHAMENTO</th>\n",
       "      <th>VALOR_REEMBOLSADO</th>\n",
       "      <th>COD_DOCUMENTO</th>\n",
       "    </tr>\n",
       "  </thead>\n",
       "  <tbody>\n",
       "    <tr>\n",
       "      <th>0</th>\n",
       "      <td>2008</td>\n",
       "      <td>9</td>\n",
       "      <td>ADA MELLO</td>\n",
       "      <td>Contratação de consultorias, assessorias, pesq...</td>\n",
       "      <td>NaN</td>\n",
       "      <td>NaN</td>\n",
       "      <td>NaN</td>\n",
       "      <td>NaN</td>\n",
       "      <td>NaN</td>\n",
       "      <td>12351,52</td>\n",
       "      <td>2.008091e+12</td>\n",
       "    </tr>\n",
       "    <tr>\n",
       "      <th>1</th>\n",
       "      <td>2008</td>\n",
       "      <td>9</td>\n",
       "      <td>ADA MELLO</td>\n",
       "      <td>Locomoção, hospedagem, alimentação, combustíve...</td>\n",
       "      <td>NaN</td>\n",
       "      <td>NaN</td>\n",
       "      <td>NaN</td>\n",
       "      <td>NaN</td>\n",
       "      <td>NaN</td>\n",
       "      <td>386,6</td>\n",
       "      <td>2.008091e+12</td>\n",
       "    </tr>\n",
       "    <tr>\n",
       "      <th>2</th>\n",
       "      <td>2008</td>\n",
       "      <td>10</td>\n",
       "      <td>ADA MELLO</td>\n",
       "      <td>Contratação de consultorias, assessorias, pesq...</td>\n",
       "      <td>NaN</td>\n",
       "      <td>NaN</td>\n",
       "      <td>NaN</td>\n",
       "      <td>NaN</td>\n",
       "      <td>NaN</td>\n",
       "      <td>12351,52</td>\n",
       "      <td>2.008101e+12</td>\n",
       "    </tr>\n",
       "    <tr>\n",
       "      <th>3</th>\n",
       "      <td>2008</td>\n",
       "      <td>10</td>\n",
       "      <td>ADA MELLO</td>\n",
       "      <td>Locomoção, hospedagem, alimentação, combustíve...</td>\n",
       "      <td>NaN</td>\n",
       "      <td>NaN</td>\n",
       "      <td>NaN</td>\n",
       "      <td>NaN</td>\n",
       "      <td>NaN</td>\n",
       "      <td>2610,68</td>\n",
       "      <td>2.008101e+12</td>\n",
       "    </tr>\n",
       "    <tr>\n",
       "      <th>4</th>\n",
       "      <td>2008</td>\n",
       "      <td>11</td>\n",
       "      <td>ADA MELLO</td>\n",
       "      <td>Contratação de consultorias, assessorias, pesq...</td>\n",
       "      <td>NaN</td>\n",
       "      <td>NaN</td>\n",
       "      <td>NaN</td>\n",
       "      <td>NaN</td>\n",
       "      <td>NaN</td>\n",
       "      <td>12351,52</td>\n",
       "      <td>2.008111e+12</td>\n",
       "    </tr>\n",
       "    <tr>\n",
       "      <th>...</th>\n",
       "      <td>...</td>\n",
       "      <td>...</td>\n",
       "      <td>...</td>\n",
       "      <td>...</td>\n",
       "      <td>...</td>\n",
       "      <td>...</td>\n",
       "      <td>...</td>\n",
       "      <td>...</td>\n",
       "      <td>...</td>\n",
       "      <td>...</td>\n",
       "      <td>...</td>\n",
       "    </tr>\n",
       "    <tr>\n",
       "      <th>16777</th>\n",
       "      <td>2022</td>\n",
       "      <td>12</td>\n",
       "      <td>ZEQUINHA MARINHO</td>\n",
       "      <td>Passagens aéreas, aquáticas e terrestres nacio...</td>\n",
       "      <td>22.052.777/0001-32</td>\n",
       "      <td>Exceller Tour</td>\n",
       "      <td>WIXHAI</td>\n",
       "      <td>06/12/2022</td>\n",
       "      <td>Companhia Aérea: LATAM, Localizador: WIXHAI. P...</td>\n",
       "      <td>2893,04</td>\n",
       "      <td>2.191398e+06</td>\n",
       "    </tr>\n",
       "    <tr>\n",
       "      <th>16778</th>\n",
       "      <td>2022</td>\n",
       "      <td>12</td>\n",
       "      <td>ZEQUINHA MARINHO</td>\n",
       "      <td>Passagens aéreas, aquáticas e terrestres nacio...</td>\n",
       "      <td>22.052.777/0001-32</td>\n",
       "      <td>Exceller Tour</td>\n",
       "      <td>WITOLM</td>\n",
       "      <td>09/12/2022</td>\n",
       "      <td>Companhia Aérea: GOL, Localizador: WITOLM. Pas...</td>\n",
       "      <td>1180,19</td>\n",
       "      <td>2.192272e+06</td>\n",
       "    </tr>\n",
       "    <tr>\n",
       "      <th>16779</th>\n",
       "      <td>2022</td>\n",
       "      <td>12</td>\n",
       "      <td>ZEQUINHA MARINHO</td>\n",
       "      <td>Passagens aéreas, aquáticas e terrestres nacio...</td>\n",
       "      <td>22.052.777/0001-32</td>\n",
       "      <td>Exceller Tour</td>\n",
       "      <td>THPKVQ</td>\n",
       "      <td>20/12/2022</td>\n",
       "      <td>Companhia Aérea: TAM, Localizador: THPKVQ. Pas...</td>\n",
       "      <td>2671,9</td>\n",
       "      <td>2.192274e+06</td>\n",
       "    </tr>\n",
       "    <tr>\n",
       "      <th>16780</th>\n",
       "      <td>2022</td>\n",
       "      <td>12</td>\n",
       "      <td>ZEQUINHA MARINHO</td>\n",
       "      <td>Passagens aéreas, aquáticas e terrestres nacio...</td>\n",
       "      <td>22.052.777/0001-32</td>\n",
       "      <td>Exceller Tour</td>\n",
       "      <td>QNN9HX</td>\n",
       "      <td>21/12/2022</td>\n",
       "      <td>Companhia Aérea: AZUL, Localizador: QNN9HX. Pa...</td>\n",
       "      <td>1334,31</td>\n",
       "      <td>2.192244e+06</td>\n",
       "    </tr>\n",
       "    <tr>\n",
       "      <th>16781</th>\n",
       "      <td>2022</td>\n",
       "      <td>12</td>\n",
       "      <td>ZEQUINHA MARINHO</td>\n",
       "      <td>Passagens aéreas, aquáticas e terrestres nacio...</td>\n",
       "      <td>22.052.777/0001-32</td>\n",
       "      <td>Exceller Tour</td>\n",
       "      <td>WMQWBX</td>\n",
       "      <td>30/12/2022</td>\n",
       "      <td>Companhia Aérea: TAM, Localizador: WMQWBX. Pas...</td>\n",
       "      <td>2250,72</td>\n",
       "      <td>2.193622e+06</td>\n",
       "    </tr>\n",
       "  </tbody>\n",
       "</table>\n",
       "<p>317963 rows × 11 columns</p>\n",
       "</div>"
      ],
      "text/plain": [
       "        ANO  MES           SENADOR  \\\n",
       "0      2008    9         ADA MELLO   \n",
       "1      2008    9         ADA MELLO   \n",
       "2      2008   10         ADA MELLO   \n",
       "3      2008   10         ADA MELLO   \n",
       "4      2008   11         ADA MELLO   \n",
       "...     ...  ...               ...   \n",
       "16777  2022   12  ZEQUINHA MARINHO   \n",
       "16778  2022   12  ZEQUINHA MARINHO   \n",
       "16779  2022   12  ZEQUINHA MARINHO   \n",
       "16780  2022   12  ZEQUINHA MARINHO   \n",
       "16781  2022   12  ZEQUINHA MARINHO   \n",
       "\n",
       "                                            TIPO_DESPESA            CNPJ_CPF  \\\n",
       "0      Contratação de consultorias, assessorias, pesq...                 NaN   \n",
       "1      Locomoção, hospedagem, alimentação, combustíve...                 NaN   \n",
       "2      Contratação de consultorias, assessorias, pesq...                 NaN   \n",
       "3      Locomoção, hospedagem, alimentação, combustíve...                 NaN   \n",
       "4      Contratação de consultorias, assessorias, pesq...                 NaN   \n",
       "...                                                  ...                 ...   \n",
       "16777  Passagens aéreas, aquáticas e terrestres nacio...  22.052.777/0001-32   \n",
       "16778  Passagens aéreas, aquáticas e terrestres nacio...  22.052.777/0001-32   \n",
       "16779  Passagens aéreas, aquáticas e terrestres nacio...  22.052.777/0001-32   \n",
       "16780  Passagens aéreas, aquáticas e terrestres nacio...  22.052.777/0001-32   \n",
       "16781  Passagens aéreas, aquáticas e terrestres nacio...  22.052.777/0001-32   \n",
       "\n",
       "          FORNECEDOR DOCUMENTO        DATA  \\\n",
       "0                NaN       NaN         NaN   \n",
       "1                NaN       NaN         NaN   \n",
       "2                NaN       NaN         NaN   \n",
       "3                NaN       NaN         NaN   \n",
       "4                NaN       NaN         NaN   \n",
       "...              ...       ...         ...   \n",
       "16777  Exceller Tour    WIXHAI  06/12/2022   \n",
       "16778  Exceller Tour    WITOLM  09/12/2022   \n",
       "16779  Exceller Tour    THPKVQ  20/12/2022   \n",
       "16780  Exceller Tour    QNN9HX  21/12/2022   \n",
       "16781  Exceller Tour    WMQWBX  30/12/2022   \n",
       "\n",
       "                                            DETALHAMENTO VALOR_REEMBOLSADO  \\\n",
       "0                                                    NaN          12351,52   \n",
       "1                                                    NaN             386,6   \n",
       "2                                                    NaN          12351,52   \n",
       "3                                                    NaN           2610,68   \n",
       "4                                                    NaN          12351,52   \n",
       "...                                                  ...               ...   \n",
       "16777  Companhia Aérea: LATAM, Localizador: WIXHAI. P...           2893,04   \n",
       "16778  Companhia Aérea: GOL, Localizador: WITOLM. Pas...           1180,19   \n",
       "16779  Companhia Aérea: TAM, Localizador: THPKVQ. Pas...            2671,9   \n",
       "16780  Companhia Aérea: AZUL, Localizador: QNN9HX. Pa...           1334,31   \n",
       "16781  Companhia Aérea: TAM, Localizador: WMQWBX. Pas...           2250,72   \n",
       "\n",
       "       COD_DOCUMENTO  \n",
       "0       2.008091e+12  \n",
       "1       2.008091e+12  \n",
       "2       2.008101e+12  \n",
       "3       2.008101e+12  \n",
       "4       2.008111e+12  \n",
       "...              ...  \n",
       "16777   2.191398e+06  \n",
       "16778   2.192272e+06  \n",
       "16779   2.192274e+06  \n",
       "16780   2.192244e+06  \n",
       "16781   2.193622e+06  \n",
       "\n",
       "[317963 rows x 11 columns]"
      ]
     },
     "execution_count": 5,
     "metadata": {},
     "output_type": "execute_result"
    }
   ],
   "source": [
    "dados"
   ]
  },
  {
   "cell_type": "code",
   "execution_count": 6,
   "id": "469f53ee",
   "metadata": {},
   "outputs": [],
   "source": [
    "dados.drop_duplicates(inplace = True)"
   ]
  },
  {
   "cell_type": "code",
   "execution_count": 7,
   "id": "10db020f",
   "metadata": {},
   "outputs": [
    {
     "name": "stdout",
     "output_type": "stream",
     "text": [
      "<class 'pandas.core.frame.DataFrame'>\n",
      "Int64Index: 317963 entries, 0 to 16781\n",
      "Data columns (total 11 columns):\n",
      " #   Column             Non-Null Count   Dtype  \n",
      "---  ------             --------------   -----  \n",
      " 0   ANO                317963 non-null  int64  \n",
      " 1   MES                317963 non-null  int64  \n",
      " 2   SENADOR            317963 non-null  object \n",
      " 3   TIPO_DESPESA       317963 non-null  object \n",
      " 4   CNPJ_CPF           314819 non-null  object \n",
      " 5   FORNECEDOR         314819 non-null  object \n",
      " 6   DOCUMENTO          293153 non-null  object \n",
      " 7   DATA               314819 non-null  object \n",
      " 8   DETALHAMENTO       180631 non-null  object \n",
      " 9   VALOR_REEMBOLSADO  317963 non-null  object \n",
      " 10  COD_DOCUMENTO      317961 non-null  float64\n",
      "dtypes: float64(1), int64(2), object(8)\n",
      "memory usage: 29.1+ MB\n"
     ]
    }
   ],
   "source": [
    "dados.info()"
   ]
  },
  {
   "cell_type": "code",
   "execution_count": 8,
   "id": "76080383",
   "metadata": {},
   "outputs": [
    {
     "data": {
      "text/plain": [
       "0"
      ]
     },
     "execution_count": 8,
     "metadata": {},
     "output_type": "execute_result"
    }
   ],
   "source": [
    "dados['VALOR_REEMBOLSADO'].isna().sum()"
   ]
  },
  {
   "cell_type": "code",
   "execution_count": 9,
   "id": "442096fa",
   "metadata": {},
   "outputs": [
    {
     "name": "stdout",
     "output_type": "stream",
     "text": [
      "<class 'pandas.core.frame.DataFrame'>\n",
      "Int64Index: 317963 entries, 0 to 16781\n",
      "Data columns (total 11 columns):\n",
      " #   Column             Non-Null Count   Dtype  \n",
      "---  ------             --------------   -----  \n",
      " 0   ANO                317963 non-null  int64  \n",
      " 1   MES                317963 non-null  int64  \n",
      " 2   SENADOR            317963 non-null  object \n",
      " 3   TIPO_DESPESA       317963 non-null  object \n",
      " 4   CNPJ_CPF           314819 non-null  object \n",
      " 5   FORNECEDOR         314819 non-null  object \n",
      " 6   DOCUMENTO          293153 non-null  object \n",
      " 7   DATA               314819 non-null  object \n",
      " 8   DETALHAMENTO       180631 non-null  object \n",
      " 9   VALOR_REEMBOLSADO  317963 non-null  object \n",
      " 10  COD_DOCUMENTO      317961 non-null  float64\n",
      "dtypes: float64(1), int64(2), object(8)\n",
      "memory usage: 29.1+ MB\n"
     ]
    }
   ],
   "source": [
    "dados.info()"
   ]
  },
  {
   "cell_type": "code",
   "execution_count": 10,
   "id": "a1e6496f",
   "metadata": {
    "scrolled": false
   },
   "outputs": [],
   "source": [
    "dados['Data'] = dados['MES'].astype(str ) + '/' + dados['ANO'].astype(str)"
   ]
  },
  {
   "cell_type": "code",
   "execution_count": 11,
   "id": "6753dc6b",
   "metadata": {},
   "outputs": [],
   "source": [
    "dados = dados.drop('DATA', axis = 1) "
   ]
  },
  {
   "cell_type": "code",
   "execution_count": 12,
   "id": "f8bb1aa4",
   "metadata": {},
   "outputs": [],
   "source": [
    "dados['Data'] = pd.to_datetime(dados['Data'], format='%m/%Y')"
   ]
  },
  {
   "cell_type": "code",
   "execution_count": 13,
   "id": "ba694b08",
   "metadata": {},
   "outputs": [
    {
     "name": "stdout",
     "output_type": "stream",
     "text": [
      "<class 'pandas.core.frame.DataFrame'>\n",
      "Int64Index: 317963 entries, 0 to 16781\n",
      "Data columns (total 11 columns):\n",
      " #   Column             Non-Null Count   Dtype         \n",
      "---  ------             --------------   -----         \n",
      " 0   ANO                317963 non-null  int64         \n",
      " 1   MES                317963 non-null  int64         \n",
      " 2   SENADOR            317963 non-null  object        \n",
      " 3   TIPO_DESPESA       317963 non-null  object        \n",
      " 4   CNPJ_CPF           314819 non-null  object        \n",
      " 5   FORNECEDOR         314819 non-null  object        \n",
      " 6   DOCUMENTO          293153 non-null  object        \n",
      " 7   DETALHAMENTO       180631 non-null  object        \n",
      " 8   VALOR_REEMBOLSADO  317963 non-null  object        \n",
      " 9   COD_DOCUMENTO      317961 non-null  float64       \n",
      " 10  Data               317963 non-null  datetime64[ns]\n",
      "dtypes: datetime64[ns](1), float64(1), int64(2), object(7)\n",
      "memory usage: 29.1+ MB\n"
     ]
    }
   ],
   "source": [
    "dados.info()"
   ]
  },
  {
   "cell_type": "code",
   "execution_count": 14,
   "id": "0fa30ffb",
   "metadata": {},
   "outputs": [],
   "source": [
    "dados['VALOR_REEMBOLSADO'] = dados['VALOR_REEMBOLSADO'].str.replace(',', '.')"
   ]
  },
  {
   "cell_type": "code",
   "execution_count": 15,
   "id": "ac446afb",
   "metadata": {},
   "outputs": [],
   "source": [
    "dados.reset_index(inplace = True, drop = True)"
   ]
  },
  {
   "cell_type": "code",
   "execution_count": 16,
   "id": "6be14a57",
   "metadata": {
    "scrolled": true
   },
   "outputs": [
    {
     "data": {
      "text/plain": [
       "(317963, 11)"
      ]
     },
     "execution_count": 16,
     "metadata": {},
     "output_type": "execute_result"
    }
   ],
   "source": [
    "dados.shape"
   ]
  },
  {
   "cell_type": "code",
   "execution_count": 17,
   "id": "200a251c",
   "metadata": {
    "scrolled": true
   },
   "outputs": [
    {
     "name": "stdout",
     "output_type": "stream",
     "text": [
      "<class 'pandas.core.frame.DataFrame'>\n",
      "RangeIndex: 317963 entries, 0 to 317962\n",
      "Data columns (total 11 columns):\n",
      " #   Column             Non-Null Count   Dtype         \n",
      "---  ------             --------------   -----         \n",
      " 0   ANO                317963 non-null  int64         \n",
      " 1   MES                317963 non-null  int64         \n",
      " 2   SENADOR            317963 non-null  object        \n",
      " 3   TIPO_DESPESA       317963 non-null  object        \n",
      " 4   CNPJ_CPF           314819 non-null  object        \n",
      " 5   FORNECEDOR         314819 non-null  object        \n",
      " 6   DOCUMENTO          293153 non-null  object        \n",
      " 7   DETALHAMENTO       180631 non-null  object        \n",
      " 8   VALOR_REEMBOLSADO  317963 non-null  object        \n",
      " 9   COD_DOCUMENTO      317961 non-null  float64       \n",
      " 10  Data               317963 non-null  datetime64[ns]\n",
      "dtypes: datetime64[ns](1), float64(1), int64(2), object(7)\n",
      "memory usage: 26.7+ MB\n"
     ]
    }
   ],
   "source": [
    "dados.info()"
   ]
  },
  {
   "cell_type": "code",
   "execution_count": 18,
   "id": "bc1366fe",
   "metadata": {},
   "outputs": [],
   "source": [
    "dados['COD_DOCUMENTO'] = dados['COD_DOCUMENTO'].dropna()"
   ]
  },
  {
   "cell_type": "code",
   "execution_count": 19,
   "id": "d3d1f58c",
   "metadata": {},
   "outputs": [],
   "source": [
    "dados['COD_DOCUMENTO'] = dados['COD_DOCUMENTO'].apply('{:.2f}'.format)\n"
   ]
  },
  {
   "cell_type": "code",
   "execution_count": 20,
   "id": "a8b7950b",
   "metadata": {
    "scrolled": false
   },
   "outputs": [
    {
     "name": "stderr",
     "output_type": "stream",
     "text": [
      "C:\\Users\\igorm\\AppData\\Local\\Temp\\ipykernel_10456\\689948983.py:1: FutureWarning: The default value of regex will change from True to False in a future version.\n",
      "  dados['COD_DOCUMENTO'] = dados['COD_DOCUMENTO'].str.replace('.00','')\n"
     ]
    }
   ],
   "source": [
    "dados['COD_DOCUMENTO'] = dados['COD_DOCUMENTO'].str.replace('.00','')"
   ]
  },
  {
   "cell_type": "code",
   "execution_count": 21,
   "id": "b6ede6ab",
   "metadata": {},
   "outputs": [],
   "source": [
    "procura = dados[dados['VALOR_REEMBOLSADO'] == '1\\r\\n675.55'].index"
   ]
  },
  {
   "cell_type": "code",
   "execution_count": 22,
   "id": "b862e6dd",
   "metadata": {},
   "outputs": [],
   "source": [
    "dados = dados.drop(procura)"
   ]
  },
  {
   "cell_type": "code",
   "execution_count": 23,
   "id": "56c54ab5",
   "metadata": {},
   "outputs": [],
   "source": [
    "dados['VALOR_REEMBOLSADO'] = dados['VALOR_REEMBOLSADO'].astype(float)"
   ]
  },
  {
   "cell_type": "code",
   "execution_count": 24,
   "id": "fd1cca6c",
   "metadata": {
    "scrolled": true
   },
   "outputs": [
    {
     "name": "stdout",
     "output_type": "stream",
     "text": [
      "<class 'pandas.core.frame.DataFrame'>\n",
      "Int64Index: 317962 entries, 0 to 317962\n",
      "Data columns (total 11 columns):\n",
      " #   Column             Non-Null Count   Dtype         \n",
      "---  ------             --------------   -----         \n",
      " 0   ANO                317962 non-null  int64         \n",
      " 1   MES                317962 non-null  int64         \n",
      " 2   SENADOR            317962 non-null  object        \n",
      " 3   TIPO_DESPESA       317962 non-null  object        \n",
      " 4   CNPJ_CPF           314818 non-null  object        \n",
      " 5   FORNECEDOR         314818 non-null  object        \n",
      " 6   DOCUMENTO          293152 non-null  object        \n",
      " 7   DETALHAMENTO       180630 non-null  object        \n",
      " 8   VALOR_REEMBOLSADO  317962 non-null  float64       \n",
      " 9   COD_DOCUMENTO      317962 non-null  object        \n",
      " 10  Data               317962 non-null  datetime64[ns]\n",
      "dtypes: datetime64[ns](1), float64(1), int64(2), object(7)\n",
      "memory usage: 29.1+ MB\n"
     ]
    }
   ],
   "source": [
    "dados.info()"
   ]
  },
  {
   "cell_type": "code",
   "execution_count": 25,
   "id": "cea48fe7",
   "metadata": {
    "scrolled": true
   },
   "outputs": [
    {
     "data": {
      "text/html": [
       "<div>\n",
       "<style scoped>\n",
       "    .dataframe tbody tr th:only-of-type {\n",
       "        vertical-align: middle;\n",
       "    }\n",
       "\n",
       "    .dataframe tbody tr th {\n",
       "        vertical-align: top;\n",
       "    }\n",
       "\n",
       "    .dataframe thead th {\n",
       "        text-align: right;\n",
       "    }\n",
       "</style>\n",
       "<table border=\"1\" class=\"dataframe\">\n",
       "  <thead>\n",
       "    <tr style=\"text-align: right;\">\n",
       "      <th></th>\n",
       "      <th>ANO</th>\n",
       "      <th>MES</th>\n",
       "      <th>VALOR_REEMBOLSADO</th>\n",
       "    </tr>\n",
       "  </thead>\n",
       "  <tbody>\n",
       "    <tr>\n",
       "      <th>count</th>\n",
       "      <td>317962.00</td>\n",
       "      <td>317962.00</td>\n",
       "      <td>317962.00</td>\n",
       "    </tr>\n",
       "    <tr>\n",
       "      <th>mean</th>\n",
       "      <td>2015.15</td>\n",
       "      <td>6.64</td>\n",
       "      <td>1031.73</td>\n",
       "    </tr>\n",
       "    <tr>\n",
       "      <th>std</th>\n",
       "      <td>3.75</td>\n",
       "      <td>3.31</td>\n",
       "      <td>5682.04</td>\n",
       "    </tr>\n",
       "    <tr>\n",
       "      <th>min</th>\n",
       "      <td>2008.00</td>\n",
       "      <td>1.00</td>\n",
       "      <td>-1500.00</td>\n",
       "    </tr>\n",
       "    <tr>\n",
       "      <th>25%</th>\n",
       "      <td>2012.00</td>\n",
       "      <td>4.00</td>\n",
       "      <td>100.00</td>\n",
       "    </tr>\n",
       "    <tr>\n",
       "      <th>50%</th>\n",
       "      <td>2015.00</td>\n",
       "      <td>7.00</td>\n",
       "      <td>283.49</td>\n",
       "    </tr>\n",
       "    <tr>\n",
       "      <th>75%</th>\n",
       "      <td>2018.00</td>\n",
       "      <td>10.00</td>\n",
       "      <td>1000.00</td>\n",
       "    </tr>\n",
       "    <tr>\n",
       "      <th>max</th>\n",
       "      <td>2022.00</td>\n",
       "      <td>12.00</td>\n",
       "      <td>2016557.00</td>\n",
       "    </tr>\n",
       "  </tbody>\n",
       "</table>\n",
       "</div>"
      ],
      "text/plain": [
       "            ANO       MES  VALOR_REEMBOLSADO\n",
       "count 317962.00 317962.00          317962.00\n",
       "mean    2015.15      6.64            1031.73\n",
       "std        3.75      3.31            5682.04\n",
       "min     2008.00      1.00           -1500.00\n",
       "25%     2012.00      4.00             100.00\n",
       "50%     2015.00      7.00             283.49\n",
       "75%     2018.00     10.00            1000.00\n",
       "max     2022.00     12.00         2016557.00"
      ]
     },
     "execution_count": 25,
     "metadata": {},
     "output_type": "execute_result"
    }
   ],
   "source": [
    "pd.set_option('display.precision', 2)\n",
    "pd.set_option('display.float_format',lambda x: '%0.2f'% x)\n",
    "describe = dados.describe()\n",
    "describe"
   ]
  },
  {
   "cell_type": "code",
   "execution_count": 26,
   "id": "07b8488b",
   "metadata": {},
   "outputs": [],
   "source": [
    "dados_sem_na = dados.dropna(subset = ['CNPJ_CPF', 'DOCUMENTO']).reset_index(drop = True)"
   ]
  },
  {
   "cell_type": "code",
   "execution_count": 27,
   "id": "9ab1b05f",
   "metadata": {},
   "outputs": [
    {
     "name": "stdout",
     "output_type": "stream",
     "text": [
      "<class 'pandas.core.frame.DataFrame'>\n",
      "RangeIndex: 293152 entries, 0 to 293151\n",
      "Data columns (total 11 columns):\n",
      " #   Column             Non-Null Count   Dtype         \n",
      "---  ------             --------------   -----         \n",
      " 0   ANO                293152 non-null  int64         \n",
      " 1   MES                293152 non-null  int64         \n",
      " 2   SENADOR            293152 non-null  object        \n",
      " 3   TIPO_DESPESA       293152 non-null  object        \n",
      " 4   CNPJ_CPF           293152 non-null  object        \n",
      " 5   FORNECEDOR         293152 non-null  object        \n",
      " 6   DOCUMENTO          293152 non-null  object        \n",
      " 7   DETALHAMENTO       168007 non-null  object        \n",
      " 8   VALOR_REEMBOLSADO  293152 non-null  float64       \n",
      " 9   COD_DOCUMENTO      293152 non-null  object        \n",
      " 10  Data               293152 non-null  datetime64[ns]\n",
      "dtypes: datetime64[ns](1), float64(1), int64(2), object(7)\n",
      "memory usage: 24.6+ MB\n"
     ]
    }
   ],
   "source": [
    "dados_sem_na.info()"
   ]
  },
  {
   "cell_type": "code",
   "execution_count": 28,
   "id": "15706558",
   "metadata": {},
   "outputs": [
    {
     "data": {
      "image/png": "[encoded data removed]",
      "text/plain": [
       "<Figure size 640x480 with 1 Axes>"
      ]
     },
     "metadata": {},
     "output_type": "display_data"
    }
   ],
   "source": [
    "ax = sns.boxplot(data = dados_sem_na ,x = 'VALOR_REEMBOLSADO')"
   ]
  },
  {
   "cell_type": "code",
   "execution_count": 29,
   "id": "2128fe49",
   "metadata": {},
   "outputs": [],
   "source": [
    "describe = dados_sem_na.describe()"
   ]
  },
  {
   "cell_type": "code",
   "execution_count": 30,
   "id": "11be11bb",
   "metadata": {},
   "outputs": [
    {
     "data": {
      "text/html": [
       "<div>\n",
       "<style scoped>\n",
       "    .dataframe tbody tr th:only-of-type {\n",
       "        vertical-align: middle;\n",
       "    }\n",
       "\n",
       "    .dataframe tbody tr th {\n",
       "        vertical-align: top;\n",
       "    }\n",
       "\n",
       "    .dataframe thead th {\n",
       "        text-align: right;\n",
       "    }\n",
       "</style>\n",
       "<table border=\"1\" class=\"dataframe\">\n",
       "  <thead>\n",
       "    <tr style=\"text-align: right;\">\n",
       "      <th></th>\n",
       "      <th>Column</th>\n",
       "      <th>Q1</th>\n",
       "      <th>Q3</th>\n",
       "      <th>IQR</th>\n",
       "      <th>lower_bound</th>\n",
       "      <th>upper_bound</th>\n",
       "    </tr>\n",
       "  </thead>\n",
       "  <tbody>\n",
       "    <tr>\n",
       "      <th>0</th>\n",
       "      <td>VALOR_REEMBOLSADO</td>\n",
       "      <td>100.00</td>\n",
       "      <td>976.25</td>\n",
       "      <td>876.25</td>\n",
       "      <td>-1214.37</td>\n",
       "      <td>2290.61</td>\n",
       "    </tr>\n",
       "  </tbody>\n",
       "</table>\n",
       "</div>"
      ],
      "text/plain": [
       "              Column     Q1     Q3    IQR  lower_bound  upper_bound\n",
       "0  VALOR_REEMBOLSADO 100.00 976.25 876.25     -1214.37      2290.61"
      ]
     },
     "execution_count": 30,
     "metadata": {},
     "output_type": "execute_result"
    }
   ],
   "source": [
    "Q1_VALOR_REEMBOLSADO = describe.loc['25%'][2]\n",
    "Q3_VALOR_REEMBOLSADO = describe.loc['75%'][2]\n",
    "IQR_VALOR_REEMBOLSADO = Q3_VALOR_REEMBOLSADO - Q1_VALOR_REEMBOLSADO\n",
    "\n",
    "import pandas as pd\n",
    "\n",
    "data = {\n",
    "    'Column': ['VALOR_REEMBOLSADO'],\n",
    "    'Q1': [Q1_VALOR_REEMBOLSADO],\n",
    "    'Q3': [Q3_VALOR_REEMBOLSADO],\n",
    "    'IQR': [IQR_VALOR_REEMBOLSADO]\n",
    "}\n",
    "\n",
    "quartiles = pd.DataFrame(data)\n",
    "quartiles['lower_bound'] = quartiles['Q1'] - (1.5* quartiles['IQR'])\n",
    "quartiles['upper_bound'] = quartiles['Q3'] + (1.5* quartiles['IQR'])\n",
    "quartiles"
   ]
  },
  {
   "cell_type": "code",
   "execution_count": 31,
   "id": "4b8b4ba4",
   "metadata": {},
   "outputs": [],
   "source": [
    "dados_sem_out  = dados_sem_na.query('VALOR_REEMBOLSADO <= 2290.61')\n",
    "dados_sem_out = dados_sem_out.query('VALOR_REEMBOLSADO >= -1214.37')"
   ]
  },
  {
   "cell_type": "code",
   "execution_count": 32,
   "id": "27728f4d",
   "metadata": {},
   "outputs": [
    {
     "name": "stdout",
     "output_type": "stream",
     "text": [
      "<class 'pandas.core.frame.DataFrame'>\n",
      "Int64Index: 265365 entries, 1 to 293151\n",
      "Data columns (total 11 columns):\n",
      " #   Column             Non-Null Count   Dtype         \n",
      "---  ------             --------------   -----         \n",
      " 0   ANO                265365 non-null  int64         \n",
      " 1   MES                265365 non-null  int64         \n",
      " 2   SENADOR            265365 non-null  object        \n",
      " 3   TIPO_DESPESA       265365 non-null  object        \n",
      " 4   CNPJ_CPF           265365 non-null  object        \n",
      " 5   FORNECEDOR         265365 non-null  object        \n",
      " 6   DOCUMENTO          265365 non-null  object        \n",
      " 7   DETALHAMENTO       152616 non-null  object        \n",
      " 8   VALOR_REEMBOLSADO  265365 non-null  float64       \n",
      " 9   COD_DOCUMENTO      265365 non-null  object        \n",
      " 10  Data               265365 non-null  datetime64[ns]\n",
      "dtypes: datetime64[ns](1), float64(1), int64(2), object(7)\n",
      "memory usage: 24.3+ MB\n"
     ]
    }
   ],
   "source": [
    "dados_sem_out.info()"
   ]
  },
  {
   "cell_type": "code",
   "execution_count": 33,
   "id": "64ddb083",
   "metadata": {},
   "outputs": [
    {
     "data": {
      "image/png": "[encoded data removed]",
      "text/plain": [
       "<Figure size 640x480 with 1 Axes>"
      ]
     },
     "metadata": {},
     "output_type": "display_data"
    }
   ],
   "source": [
    "ax = sns.boxplot(data = dados_sem_out ,x = 'VALOR_REEMBOLSADO')"
   ]
  },
  {
   "cell_type": "code",
   "execution_count": 34,
   "id": "5767f8f9",
   "metadata": {},
   "outputs": [
    {
     "name": "stderr",
     "output_type": "stream",
     "text": [
      "C:\\Users\\igorm\\anaconda3\\lib\\site-packages\\seaborn\\distributions.py:2619: FutureWarning: `distplot` is a deprecated function and will be removed in a future version. Please adapt your code to use either `displot` (a figure-level function with similar flexibility) or `histplot` (an axes-level function for histograms).\n",
      "  warnings.warn(msg, FutureWarning)\n"
     ]
    },
    {
     "data": {
      "image/png": "[encoded data removed]",
      "text/plain": [
       "<Figure size 640x480 with 1 Axes>"
      ]
     },
     "metadata": {},
     "output_type": "display_data"
    }
   ],
   "source": [
    "ax = sns.distplot(x =dados_sem_out['VALOR_REEMBOLSADO'])"
   ]
  },
  {
   "cell_type": "code",
   "execution_count": 35,
   "id": "8933c1a3",
   "metadata": {},
   "outputs": [
    {
     "data": {
      "text/plain": [
       "array(['ADELMIR SANTANA', 'ALMEIDA LIMA', 'ALOIZIO MERCADANTE',\n",
       "       'ANTONIO CARLOS JUNIOR', 'ANTÔNIO CARLOS VALADARES',\n",
       "       'AUGUSTO BOTELHO', 'CÉSAR BORGES', 'CÍCERO LUCENA',\n",
       "       'CRISTOVAM BUARQUE', 'DELCIDIO DO AMARAL', 'DEMÓSTENES TORRES',\n",
       "       'EDUARDO AZEREDO', 'EDUARDO SUPLICY', 'EFRAIM MORAIS',\n",
       "       'ELISEU RESENDE', 'EPITÁCIO CAFETEIRA', 'EXPEDITO JUNIOR',\n",
       "       'FÁTIMA CLEIDE', 'FERNANDO COLLOR', 'FLÁVIO ARNS', 'FLÁVIO TORRES',\n",
       "       'FLEXA RIBEIRO', 'FRANCISCO DORNELLES', 'GARIBALDI ALVES FILHO',\n",
       "       'GERALDO MESQUITA JÚNIOR', 'GERSON CAMATA', 'GILBERTO GOELLNER',\n",
       "       'GIM ARGELLO', 'HERÁCLITO FORTES', 'IDELI SALVATTI',\n",
       "       'INÁCIO ARRUDA', 'JARBAS VASCONCELOS', 'JAYME CAMPOS',\n",
       "       'JEFFERSON PRAIA', 'JOÃO DURVAL', 'JOÃO PEDRO', 'JOÃO RIBEIRO',\n",
       "       'JOÃO TENÓRIO', 'JOÃO VICENTE CLAUDINO', 'JOSÉ AGRIPINO',\n",
       "       'JOSÉ NERY', 'KÁTIA ABREU', 'LEOMAR QUINTANILHA', 'LOBÃO FILHO',\n",
       "       'LÚCIA VÂNIA', 'MAGNO MALTA', 'MÃO SANTA', 'MARCELO CRIVELLA',\n",
       "       'MARCONI PERILLO', 'MARIA DO CARMO ALVES', 'MARINA SILVA',\n",
       "       'MÁRIO COUTO', 'MARISA SERRANO', 'MAURO FECURY',\n",
       "       'MOZARILDO CAVALCANTI', 'NEUTO DE CONTO', 'OSMAR DIAS',\n",
       "       'OSVALDO SOBRINHO', 'PAPALÉO PAES', 'PATRÍCIA SABOYA GOMES',\n",
       "       'PAULO DUQUE', 'PAULO PAIM', 'RAIMUNDO COLOMBO', 'RENAN CALHEIROS',\n",
       "       'RENATO CASAGRANDE', 'ROBERTO CAVALCANTI', 'ROMERO JUCÁ',\n",
       "       'ROMEU TUMA', 'ROSALBA CIARLINI', 'SADI CASSOL', 'SÉRGIO GUERRA',\n",
       "       'SÉRGIO ZAMBIASI', 'SERYS SLHESSARENKO', 'TASSO JEREISSATI',\n",
       "       'TIÃO VIANA', 'VALDIR RAUPP', 'VALTER PEREIRA',\n",
       "       'WELLINGTON SALGADO DE OLIVEIRA', 'ACIR GURGACZ', 'ALFREDO COTAIT',\n",
       "       'ALFREDO NASCIMENTO', 'ARTHUR VIRGÍLIO', 'BELINI MEURER',\n",
       "       'HÉLIO COSTA', 'JOÃO FAUSTINO', 'JORGE YANAI', 'JOSÉ BEZERRA',\n",
       "       'NÍURA DEMARCHI', 'SELMA ELIAS', 'AÉCIO NEVES',\n",
       "       'ALOYSIO NUNES FERREIRA', 'ALVARO DIAS', 'ANA AMÉLIA', 'ANA RITA',\n",
       "       'ÂNGELA PORTELA', 'ANÍBAL DINIZ', 'ANTONIO RUSSO',\n",
       "       'ARMANDO MONTEIRO', 'ATAÍDES OLIVEIRA', 'BENEDITO DE LIRA',\n",
       "       'BLAIRO MAGGI', 'CASILDO MALDANER', 'CÁSSIO CUNHA LIMA',\n",
       "       'CIRO NOGUEIRA', 'CLÉSIO ANDRADE', 'CLÓVIS FECURY', 'CYRO MIRANDA',\n",
       "       'DANIMAR CRISTINA', 'EDUARDO AMORIM', 'EDUARDO BRAGA',\n",
       "       'GARIBALDI ALVES', 'GEOVANI BORGES', 'GLEISI HOFFMANN',\n",
       "       'HUMBERTO COSTA', 'IVO CASSOL', 'IVONETE DANTAS',\n",
       "       'JOÃO ALBERTO SOUZA', 'JOÃO CAPIBERIBE', 'JORGE VIANA',\n",
       "       'JOSÉ PIMENTEL', 'LAURO ANTÔNIO', 'LÍDICE DA MATA',\n",
       "       'LINDBERGH FARIAS', 'LUIZ CARLOS', 'LUIZ HENRIQUE',\n",
       "       'MARINOR BRITO', 'MARTA SUPLICY', 'PAULO BAUER', 'PAULO DAVIM',\n",
       "       'PEDRO SIMON', 'PEDRO TAQUES', 'RANDOLFE RODRIGUES',\n",
       "       'REDITARIO CASSOL', 'RICARDO FERRAÇO', 'ROBERTO REQUIÃO',\n",
       "       'SÉRGIO PETECÃO', 'SÉRGIO SOUZA', 'VANESSA GRAZZIOTIN',\n",
       "       'VICENTINHO ALVES', 'VITAL DO RÊGO', 'WALDEMIR MOKA',\n",
       "       'WALTER PINHEIRO', 'WELLINGTON DIAS', 'WILSON SANTIAGO',\n",
       "       'ZEZÉ PERRELLA', 'ANTONIO CARLOS RODRIGUES', 'ASSIS GURGACZ',\n",
       "       'CIDINHO SANTOS', 'EDUARDO LOPES', 'JADER BARBALHO', 'JOÃO COSTA',\n",
       "       'MARCO ANTÔNIO COSTA', 'SODRÉ SANTORO', 'TOMÁS CORREIA',\n",
       "       'WILDER MORAIS', 'JOSÉ SARNEY', 'RUBEN FIGUEIRÓ',\n",
       "       'ANTONIO AURELIANO', 'DOUGLAS CINTRA', 'FLEURY', 'KAKÁ ANDRADE',\n",
       "       'ODACIR SOARES', 'ANTONIO ANASTASIA', 'DALIRIO BEBER',\n",
       "       'DÁRIO BERGER', 'DAVI ALCOLUMBRE', 'DONIZETI NOGUEIRA',\n",
       "       'EDISON LOBÃO', 'ELMANO FÉRRER', 'FÁTIMA BEZERRA',\n",
       "       'FERNANDO BEZERRA COELHO', 'FERNANDO RIBEIRO', 'GLADSON CAMELI',\n",
       "       'HÉLIO JOSÉ', 'JOSÉ MARANHÃO', 'JOSÉ MEDEIROS', 'JOSÉ SERRA',\n",
       "       'LASIER MARTINS', 'OMAR AZIZ', 'OTTO ALENCAR', 'PAULO ROCHA',\n",
       "       'RAIMUNDO LIRA', 'REGINA SOUSA', 'RICARDO FRANCO', 'ROBERTO ROCHA',\n",
       "       'ROMÁRIO', 'RONALDO CAIADO', 'ROSE DE FREITAS', 'SANDRA BRAGA',\n",
       "       'SIMONE TEBET', 'TELMÁRIO MOTA', 'WELLINGTON FAGUNDES', 'DECA',\n",
       "       'GILBERTO PISELO', 'JOSÉ ANÍBAL', 'PASTOR VALADARES',\n",
       "       'PEDRO CHAVES DOS SANTOS FILHO', 'PINTO ITAMARATY',\n",
       "       'ROBERTO MUNIZ', 'VIRGINIO DE CARVALHO', 'WIRLANDE DA LUZ',\n",
       "       'AIRTON SANDOVAL', 'ELBER BATALHA', 'PASTOR BEL',\n",
       "       'SÉRGIO DE CASTRO', 'THIERES PINTO', 'GIVAGO TENÓRIO',\n",
       "       'GUARACY SILVEIRA', 'IONE GUIMARÃES', 'JOSÉ AMAURI',\n",
       "       'RODRIGUES PALMA', 'RUDSON LEITE', 'ZÉ SANTANA',\n",
       "       'ALESSANDRO VIEIRA', 'ANGELO CORONEL', 'AROLDE DE OLIVEIRA',\n",
       "       'CARLOS VIANA', 'CHICO RODRIGUES', 'CID GOMES', 'CONFÚCIO MOURA',\n",
       "       'DANIELLA RIBEIRO', 'EDUARDO GIRÃO', 'EDUARDO GOMES',\n",
       "       'ELIZIANE GAMA', 'ESPERIDIÃO AMIN', 'FABIANO CONTARATO',\n",
       "       'FLÁVIO BOLSONARO', 'IRAJÁ', 'IZALCI LUCAS', 'JAQUES WAGNER',\n",
       "       'JEAN PAUL PRATES', 'JORGINHO MELLO', 'JUÍZA SELMA',\n",
       "       'LUCAS BARRETO', 'LUIS CARLOS HEINZE', 'LUIZ CARLOS DO CARMO',\n",
       "       'LUIZ PASTORE', 'MAILZA GOMES', 'MAJOR OLIMPIO', 'MARA GABRILLI',\n",
       "       'MARCELO CASTRO', 'MARCIO BITTAR', 'MARCOS DO VAL',\n",
       "       'MARCOS ROGÉRIO', 'MECIAS DE JESUS', 'NELSINHO TRAD',\n",
       "       'ORIOVISTO GUIMARÃES', 'PAULO ALBUQUERQUE', 'PLÍNIO VALÉRIO',\n",
       "       'PRISCO BEZERRA', 'RENILDE BULHÕES', 'RODRIGO CUNHA',\n",
       "       'RODRIGO PACHECO', 'ROGÉRIO CARVALHO', 'SIQUEIRA CAMPOS',\n",
       "       'SORAYA THRONICKE', 'STYVENSON VALENTIM', 'VANDERLAN CARDOSO',\n",
       "       'VENEZIANO VITAL DO RÊGO', 'WEVERTON ROCHA', 'ZENAIDE MAIA',\n",
       "       'ZEQUINHA MARINHO', 'CARLOS FÁVARO', 'CARLOS PORTINHO',\n",
       "       'DIEGO TAVARES', 'NEY SUASSUNA', 'CHIQUINHO FEITOSA',\n",
       "       'ELIANE NOGUEIRA', 'GIORDANO', 'MARIA ELIZA DE AGUIAR E SILVA',\n",
       "       'NAILDE PANTA', 'NILDA GONDIM', 'ALEXANDRE SILVEIRA',\n",
       "       'DRA. EUDÓCIA', 'EDUARDO VELLOSO', 'FABIO GARCIA',\n",
       "       'FERNANDO DUEIRE', 'IVETE DA SILVEIRA', 'JULIO VENTURA',\n",
       "       'MARGARETH BUZETTI', 'MARIA DAS VITÓRIAS', 'OGARI PACHECO',\n",
       "       'RAFAEL TENÓRIO', 'ROBERTH BRINGEL', 'SAMUEL ARAUJO'], dtype=object)"
      ]
     },
     "execution_count": 35,
     "metadata": {},
     "output_type": "execute_result"
    }
   ],
   "source": [
    "dados_sem_out['SENADOR'].unique()"
   ]
  },
  {
   "cell_type": "code",
   "execution_count": 36,
   "id": "1f12719a",
   "metadata": {},
   "outputs": [
    {
     "data": {
      "text/plain": [
       "123457    06.164.253/0001-87\n",
       "94428     02.012.862/0001-60\n",
       "195152    16.978.175/0001-08\n",
       "176601    01.974.138/0001-54\n",
       "272072    16.978.175/0001-08\n",
       "50978     02.012.862/0001-60\n",
       "89121     45.543.915/0325-47\n",
       "67843     02.012.862/0001-60\n",
       "111503    07.575.651/0001-59\n",
       "228072    07.575.651/0001-59\n",
       "152282    00.426.741/0001-39\n",
       "91420     02.012.862/0001-60\n",
       "142066    07.240.641/0002-43\n",
       "246610    00.306.597/0031-12\n",
       "264560    25.089.509/0001-83\n",
       "33395     06.164.253/0001-87\n",
       "61757     12.550.441/0001-46\n",
       "95806     02.012.862/0001-60\n",
       "16901     07.089.342/0002-50\n",
       "142295    07.575.651/0001-59\n",
       "Name: CNPJ_CPF, dtype: object"
      ]
     },
     "execution_count": 36,
     "metadata": {},
     "output_type": "execute_result"
    }
   ],
   "source": [
    "dados_sem_out['CNPJ_CPF'].sample(20)"
   ]
  },
  {
   "cell_type": "code",
   "execution_count": 37,
   "id": "291b6a4c",
   "metadata": {},
   "outputs": [
    {
     "data": {
      "text/html": [
       "<div>\n",
       "<style scoped>\n",
       "    .dataframe tbody tr th:only-of-type {\n",
       "        vertical-align: middle;\n",
       "    }\n",
       "\n",
       "    .dataframe tbody tr th {\n",
       "        vertical-align: top;\n",
       "    }\n",
       "\n",
       "    .dataframe thead th {\n",
       "        text-align: right;\n",
       "    }\n",
       "</style>\n",
       "<table border=\"1\" class=\"dataframe\">\n",
       "  <thead>\n",
       "    <tr style=\"text-align: right;\">\n",
       "      <th></th>\n",
       "      <th>ANO</th>\n",
       "      <th>MES</th>\n",
       "      <th>SENADOR</th>\n",
       "      <th>TIPO_DESPESA</th>\n",
       "      <th>CNPJ_CPF</th>\n",
       "      <th>FORNECEDOR</th>\n",
       "      <th>DOCUMENTO</th>\n",
       "      <th>DETALHAMENTO</th>\n",
       "      <th>VALOR_REEMBOLSADO</th>\n",
       "      <th>COD_DOCUMENTO</th>\n",
       "      <th>Data</th>\n",
       "    </tr>\n",
       "  </thead>\n",
       "  <tbody>\n",
       "    <tr>\n",
       "      <th>1</th>\n",
       "      <td>2009</td>\n",
       "      <td>4</td>\n",
       "      <td>ADELMIR SANTANA</td>\n",
       "      <td>Locomoção, hospedagem, alimentação, combustíve...</td>\n",
       "      <td>00.306.597/0016-83</td>\n",
       "      <td>Cascol combustíveis para veículos Ltda</td>\n",
       "      <td>106471</td>\n",
       "      <td>NaN</td>\n",
       "      <td>179.01</td>\n",
       "      <td>165740</td>\n",
       "      <td>2009-04-01</td>\n",
       "    </tr>\n",
       "    <tr>\n",
       "      <th>2</th>\n",
       "      <td>2009</td>\n",
       "      <td>4</td>\n",
       "      <td>ADELMIR SANTANA</td>\n",
       "      <td>Locomoção, hospedagem, alimentação, combustíve...</td>\n",
       "      <td>00.358.192/0001-02</td>\n",
       "      <td>Ribeiro e Pereira Ltda</td>\n",
       "      <td>77472</td>\n",
       "      <td>NaN</td>\n",
       "      <td>30.00</td>\n",
       "      <td>165739</td>\n",
       "      <td>2009-04-01</td>\n",
       "    </tr>\n",
       "    <tr>\n",
       "      <th>3</th>\n",
       "      <td>2009</td>\n",
       "      <td>4</td>\n",
       "      <td>ADELMIR SANTANA</td>\n",
       "      <td>Locomoção, hospedagem, alimentação, combustíve...</td>\n",
       "      <td>06.098.111/0001-69</td>\n",
       "      <td>Tudo de Bom Comércio de alimentos Ltda</td>\n",
       "      <td>10169</td>\n",
       "      <td>NaN</td>\n",
       "      <td>215.80</td>\n",
       "      <td>165741</td>\n",
       "      <td>2009-04-01</td>\n",
       "    </tr>\n",
       "    <tr>\n",
       "      <th>5</th>\n",
       "      <td>2009</td>\n",
       "      <td>5</td>\n",
       "      <td>ADELMIR SANTANA</td>\n",
       "      <td>Locomoção, hospedagem, alimentação, combustíve...</td>\n",
       "      <td>00.493.924/0001-77</td>\n",
       "      <td>ML alimentações e diversões S/A</td>\n",
       "      <td>78068</td>\n",
       "      <td>NaN</td>\n",
       "      <td>420.00</td>\n",
       "      <td>167179</td>\n",
       "      <td>2009-05-01</td>\n",
       "    </tr>\n",
       "    <tr>\n",
       "      <th>6</th>\n",
       "      <td>2009</td>\n",
       "      <td>5</td>\n",
       "      <td>ADELMIR SANTANA</td>\n",
       "      <td>Locomoção, hospedagem, alimentação, combustíve...</td>\n",
       "      <td>65.430.340/0002-89</td>\n",
       "      <td>Parigi - Restaurante fasano LTDA</td>\n",
       "      <td>46727</td>\n",
       "      <td>NaN</td>\n",
       "      <td>546.00</td>\n",
       "      <td>167180</td>\n",
       "      <td>2009-05-01</td>\n",
       "    </tr>\n",
       "    <tr>\n",
       "      <th>...</th>\n",
       "      <td>...</td>\n",
       "      <td>...</td>\n",
       "      <td>...</td>\n",
       "      <td>...</td>\n",
       "      <td>...</td>\n",
       "      <td>...</td>\n",
       "      <td>...</td>\n",
       "      <td>...</td>\n",
       "      <td>...</td>\n",
       "      <td>...</td>\n",
       "      <td>...</td>\n",
       "    </tr>\n",
       "    <tr>\n",
       "      <th>293144</th>\n",
       "      <td>2022</td>\n",
       "      <td>12</td>\n",
       "      <td>ZEQUINHA MARINHO</td>\n",
       "      <td>Locomoção, hospedagem, alimentação, combustíve...</td>\n",
       "      <td>02.280.133/0042-62</td>\n",
       "      <td>POSTO ICCAR LTDA.</td>\n",
       "      <td>197440</td>\n",
       "      <td>NaN</td>\n",
       "      <td>200.03</td>\n",
       "      <td>2192250</td>\n",
       "      <td>2022-12-01</td>\n",
       "    </tr>\n",
       "    <tr>\n",
       "      <th>293145</th>\n",
       "      <td>2022</td>\n",
       "      <td>12</td>\n",
       "      <td>ZEQUINHA MARINHO</td>\n",
       "      <td>Locomoção, hospedagem, alimentação, combustíve...</td>\n",
       "      <td>28.298.039/0001-56</td>\n",
       "      <td>REDE POSTO POMBAL LTDA.</td>\n",
       "      <td>000221800</td>\n",
       "      <td>NaN</td>\n",
       "      <td>200.00</td>\n",
       "      <td>2192249</td>\n",
       "      <td>2022-12-01</td>\n",
       "    </tr>\n",
       "    <tr>\n",
       "      <th>293148</th>\n",
       "      <td>2022</td>\n",
       "      <td>12</td>\n",
       "      <td>ZEQUINHA MARINHO</td>\n",
       "      <td>Passagens aéreas, aquáticas e terrestres nacio...</td>\n",
       "      <td>22.052.777/0001-32</td>\n",
       "      <td>Exceller Tour</td>\n",
       "      <td>WITOLM</td>\n",
       "      <td>Companhia Aérea: GOL, Localizador: WITOLM. Pas...</td>\n",
       "      <td>1180.19</td>\n",
       "      <td>2192272</td>\n",
       "      <td>2022-12-01</td>\n",
       "    </tr>\n",
       "    <tr>\n",
       "      <th>293150</th>\n",
       "      <td>2022</td>\n",
       "      <td>12</td>\n",
       "      <td>ZEQUINHA MARINHO</td>\n",
       "      <td>Passagens aéreas, aquáticas e terrestres nacio...</td>\n",
       "      <td>22.052.777/0001-32</td>\n",
       "      <td>Exceller Tour</td>\n",
       "      <td>QNN9HX</td>\n",
       "      <td>Companhia Aérea: AZUL, Localizador: QNN9HX. Pa...</td>\n",
       "      <td>1334.31</td>\n",
       "      <td>2192244</td>\n",
       "      <td>2022-12-01</td>\n",
       "    </tr>\n",
       "    <tr>\n",
       "      <th>293151</th>\n",
       "      <td>2022</td>\n",
       "      <td>12</td>\n",
       "      <td>ZEQUINHA MARINHO</td>\n",
       "      <td>Passagens aéreas, aquáticas e terrestres nacio...</td>\n",
       "      <td>22.052.777/0001-32</td>\n",
       "      <td>Exceller Tour</td>\n",
       "      <td>WMQWBX</td>\n",
       "      <td>Companhia Aérea: TAM, Localizador: WMQWBX. Pas...</td>\n",
       "      <td>2250.72</td>\n",
       "      <td>2193622</td>\n",
       "      <td>2022-12-01</td>\n",
       "    </tr>\n",
       "  </tbody>\n",
       "</table>\n",
       "<p>265365 rows × 11 columns</p>\n",
       "</div>"
      ],
      "text/plain": [
       "         ANO  MES           SENADOR  \\\n",
       "1       2009    4   ADELMIR SANTANA   \n",
       "2       2009    4   ADELMIR SANTANA   \n",
       "3       2009    4   ADELMIR SANTANA   \n",
       "5       2009    5   ADELMIR SANTANA   \n",
       "6       2009    5   ADELMIR SANTANA   \n",
       "...      ...  ...               ...   \n",
       "293144  2022   12  ZEQUINHA MARINHO   \n",
       "293145  2022   12  ZEQUINHA MARINHO   \n",
       "293148  2022   12  ZEQUINHA MARINHO   \n",
       "293150  2022   12  ZEQUINHA MARINHO   \n",
       "293151  2022   12  ZEQUINHA MARINHO   \n",
       "\n",
       "                                             TIPO_DESPESA            CNPJ_CPF  \\\n",
       "1       Locomoção, hospedagem, alimentação, combustíve...  00.306.597/0016-83   \n",
       "2       Locomoção, hospedagem, alimentação, combustíve...  00.358.192/0001-02   \n",
       "3       Locomoção, hospedagem, alimentação, combustíve...  06.098.111/0001-69   \n",
       "5       Locomoção, hospedagem, alimentação, combustíve...  00.493.924/0001-77   \n",
       "6       Locomoção, hospedagem, alimentação, combustíve...  65.430.340/0002-89   \n",
       "...                                                   ...                 ...   \n",
       "293144  Locomoção, hospedagem, alimentação, combustíve...  02.280.133/0042-62   \n",
       "293145  Locomoção, hospedagem, alimentação, combustíve...  28.298.039/0001-56   \n",
       "293148  Passagens aéreas, aquáticas e terrestres nacio...  22.052.777/0001-32   \n",
       "293150  Passagens aéreas, aquáticas e terrestres nacio...  22.052.777/0001-32   \n",
       "293151  Passagens aéreas, aquáticas e terrestres nacio...  22.052.777/0001-32   \n",
       "\n",
       "                                    FORNECEDOR  DOCUMENTO  \\\n",
       "1       Cascol combustíveis para veículos Ltda     106471   \n",
       "2                       Ribeiro e Pereira Ltda      77472   \n",
       "3       Tudo de Bom Comércio de alimentos Ltda      10169   \n",
       "5              ML alimentações e diversões S/A      78068   \n",
       "6             Parigi - Restaurante fasano LTDA      46727   \n",
       "...                                        ...        ...   \n",
       "293144                       POSTO ICCAR LTDA.     197440   \n",
       "293145                 REDE POSTO POMBAL LTDA.  000221800   \n",
       "293148                           Exceller Tour     WITOLM   \n",
       "293150                           Exceller Tour     QNN9HX   \n",
       "293151                           Exceller Tour     WMQWBX   \n",
       "\n",
       "                                             DETALHAMENTO  VALOR_REEMBOLSADO  \\\n",
       "1                                                     NaN             179.01   \n",
       "2                                                     NaN              30.00   \n",
       "3                                                     NaN             215.80   \n",
       "5                                                     NaN             420.00   \n",
       "6                                                     NaN             546.00   \n",
       "...                                                   ...                ...   \n",
       "293144                                                NaN             200.03   \n",
       "293145                                                NaN             200.00   \n",
       "293148  Companhia Aérea: GOL, Localizador: WITOLM. Pas...            1180.19   \n",
       "293150  Companhia Aérea: AZUL, Localizador: QNN9HX. Pa...            1334.31   \n",
       "293151  Companhia Aérea: TAM, Localizador: WMQWBX. Pas...            2250.72   \n",
       "\n",
       "       COD_DOCUMENTO       Data  \n",
       "1             165740 2009-04-01  \n",
       "2             165739 2009-04-01  \n",
       "3             165741 2009-04-01  \n",
       "5             167179 2009-05-01  \n",
       "6             167180 2009-05-01  \n",
       "...              ...        ...  \n",
       "293144       2192250 2022-12-01  \n",
       "293145       2192249 2022-12-01  \n",
       "293148       2192272 2022-12-01  \n",
       "293150       2192244 2022-12-01  \n",
       "293151       2193622 2022-12-01  \n",
       "\n",
       "[265365 rows x 11 columns]"
      ]
     },
     "execution_count": 37,
     "metadata": {},
     "output_type": "execute_result"
    }
   ],
   "source": [
    "dados_sem_out"
   ]
  },
  {
   "cell_type": "code",
   "execution_count": 38,
   "id": "b871c4df",
   "metadata": {
    "scrolled": false
   },
   "outputs": [
    {
     "data": {
      "text/html": [
       "<div>\n",
       "<style scoped>\n",
       "    .dataframe tbody tr th:only-of-type {\n",
       "        vertical-align: middle;\n",
       "    }\n",
       "\n",
       "    .dataframe tbody tr th {\n",
       "        vertical-align: top;\n",
       "    }\n",
       "\n",
       "    .dataframe thead th {\n",
       "        text-align: right;\n",
       "    }\n",
       "</style>\n",
       "<table border=\"1\" class=\"dataframe\">\n",
       "  <thead>\n",
       "    <tr style=\"text-align: right;\">\n",
       "      <th></th>\n",
       "      <th></th>\n",
       "      <th>VALOR_REEMBOLSADO</th>\n",
       "    </tr>\n",
       "    <tr>\n",
       "      <th>ANO</th>\n",
       "      <th>SENADOR</th>\n",
       "      <th></th>\n",
       "    </tr>\n",
       "  </thead>\n",
       "  <tbody>\n",
       "    <tr>\n",
       "      <th>2021</th>\n",
       "      <th>VENEZIANO VITAL DO RÊGO</th>\n",
       "      <td>339056.46</td>\n",
       "    </tr>\n",
       "    <tr>\n",
       "      <th>2013</th>\n",
       "      <th>LÍDICE DA MATA</th>\n",
       "      <td>333026.24</td>\n",
       "    </tr>\n",
       "    <tr>\n",
       "      <th>2019</th>\n",
       "      <th>VENEZIANO VITAL DO RÊGO</th>\n",
       "      <td>324669.83</td>\n",
       "    </tr>\n",
       "    <tr>\n",
       "      <th>2013</th>\n",
       "      <th>WALDEMIR MOKA</th>\n",
       "      <td>323909.77</td>\n",
       "    </tr>\n",
       "    <tr>\n",
       "      <th>2012</th>\n",
       "      <th>LÍDICE DA MATA</th>\n",
       "      <td>313101.16</td>\n",
       "    </tr>\n",
       "    <tr>\n",
       "      <th>...</th>\n",
       "      <th>...</th>\n",
       "      <td>...</td>\n",
       "    </tr>\n",
       "    <tr>\n",
       "      <th>2022</th>\n",
       "      <th>JEAN PAUL PRATES</th>\n",
       "      <td>222236.62</td>\n",
       "    </tr>\n",
       "    <tr>\n",
       "      <th>2021</th>\n",
       "      <th>LUCAS BARRETO</th>\n",
       "      <td>222187.59</td>\n",
       "    </tr>\n",
       "    <tr>\n",
       "      <th rowspan=\"2\" valign=\"top\">2013</th>\n",
       "      <th>LUIZ HENRIQUE</th>\n",
       "      <td>221625.55</td>\n",
       "    </tr>\n",
       "    <tr>\n",
       "      <th>LINDBERGH FARIAS</th>\n",
       "      <td>221560.90</td>\n",
       "    </tr>\n",
       "    <tr>\n",
       "      <th>2018</th>\n",
       "      <th>WELLINGTON FAGUNDES</th>\n",
       "      <td>221437.83</td>\n",
       "    </tr>\n",
       "  </tbody>\n",
       "</table>\n",
       "<p>100 rows × 1 columns</p>\n",
       "</div>"
      ],
      "text/plain": [
       "                              VALOR_REEMBOLSADO\n",
       "ANO  SENADOR                                   \n",
       "2021 VENEZIANO VITAL DO RÊGO          339056.46\n",
       "2013 LÍDICE DA MATA                   333026.24\n",
       "2019 VENEZIANO VITAL DO RÊGO          324669.83\n",
       "2013 WALDEMIR MOKA                    323909.77\n",
       "2012 LÍDICE DA MATA                   313101.16\n",
       "...                                         ...\n",
       "2022 JEAN PAUL PRATES                 222236.62\n",
       "2021 LUCAS BARRETO                    222187.59\n",
       "2013 LUIZ HENRIQUE                    221625.55\n",
       "     LINDBERGH FARIAS                 221560.90\n",
       "2018 WELLINGTON FAGUNDES              221437.83\n",
       "\n",
       "[100 rows x 1 columns]"
      ]
     },
     "execution_count": 38,
     "metadata": {},
     "output_type": "execute_result"
    }
   ],
   "source": [
    "maiores_gastos  =dados_sem_out.groupby(['ANO', 'SENADOR'])[['VALOR_REEMBOLSADO']].sum().sort_values('VALOR_REEMBOLSADO',ascending = False).head(100)\n",
    "maiores_gastos"
   ]
  },
  {
   "cell_type": "code",
   "execution_count": 39,
   "id": "2cfa9959",
   "metadata": {},
   "outputs": [
    {
     "data": {
      "text/plain": [
       "<AxesSubplot: xlabel='ANO,SENADOR'>"
      ]
     },
     "execution_count": 39,
     "metadata": {},
     "output_type": "execute_result"
    },
    {
     "data": {
      "image/png": "[encoded data removed]",
      "text/plain": [
       "<Figure size 640x480 with 1 Axes>"
      ]
     },
     "metadata": {},
     "output_type": "display_data"
    }
   ],
   "source": [
    "maiores_gastos.head(10).plot.bar()"
   ]
  },
  {
   "cell_type": "code",
   "execution_count": 40,
   "id": "82b42c07",
   "metadata": {},
   "outputs": [
    {
     "name": "stdout",
     "output_type": "stream",
     "text": [
      "<class 'pandas.core.frame.DataFrame'>\n",
      "MultiIndex: 100 entries, (2021, 'VENEZIANO VITAL DO RÊGO') to (2018, 'WELLINGTON FAGUNDES')\n",
      "Data columns (total 1 columns):\n",
      " #   Column             Non-Null Count  Dtype  \n",
      "---  ------             --------------  -----  \n",
      " 0   VALOR_REEMBOLSADO  100 non-null    float64\n",
      "dtypes: float64(1)\n",
      "memory usage: 3.5+ KB\n"
     ]
    }
   ],
   "source": [
    "maiores_gastos.info()"
   ]
  },
  {
   "cell_type": "code",
   "execution_count": 41,
   "id": "17463f85",
   "metadata": {},
   "outputs": [
    {
     "data": {
      "text/html": [
       "<div>\n",
       "<style scoped>\n",
       "    .dataframe tbody tr th:only-of-type {\n",
       "        vertical-align: middle;\n",
       "    }\n",
       "\n",
       "    .dataframe tbody tr th {\n",
       "        vertical-align: top;\n",
       "    }\n",
       "\n",
       "    .dataframe thead th {\n",
       "        text-align: right;\n",
       "    }\n",
       "</style>\n",
       "<table border=\"1\" class=\"dataframe\">\n",
       "  <thead>\n",
       "    <tr style=\"text-align: right;\">\n",
       "      <th></th>\n",
       "      <th>ANO</th>\n",
       "      <th>MES</th>\n",
       "      <th>VALOR_REEMBOLSADO</th>\n",
       "    </tr>\n",
       "  </thead>\n",
       "  <tbody>\n",
       "    <tr>\n",
       "      <th>ANO</th>\n",
       "      <td>1.00</td>\n",
       "      <td>-0.06</td>\n",
       "      <td>0.19</td>\n",
       "    </tr>\n",
       "    <tr>\n",
       "      <th>MES</th>\n",
       "      <td>-0.06</td>\n",
       "      <td>1.00</td>\n",
       "      <td>0.02</td>\n",
       "    </tr>\n",
       "    <tr>\n",
       "      <th>VALOR_REEMBOLSADO</th>\n",
       "      <td>0.19</td>\n",
       "      <td>0.02</td>\n",
       "      <td>1.00</td>\n",
       "    </tr>\n",
       "  </tbody>\n",
       "</table>\n",
       "</div>"
      ],
      "text/plain": [
       "                    ANO   MES  VALOR_REEMBOLSADO\n",
       "ANO                1.00 -0.06               0.19\n",
       "MES               -0.06  1.00               0.02\n",
       "VALOR_REEMBOLSADO  0.19  0.02               1.00"
      ]
     },
     "execution_count": 41,
     "metadata": {},
     "output_type": "execute_result"
    }
   ],
   "source": [
    "dados_sem_out.corr()"
   ]
  },
  {
   "cell_type": "code",
   "execution_count": 42,
   "id": "4f3611d0",
   "metadata": {},
   "outputs": [],
   "source": [
    "dados2= pd.read_csv('dataset_ceaps_forecasting - dataset_ceaps_forecasting.csv')"
   ]
  },
  {
   "cell_type": "code",
   "execution_count": 43,
   "id": "c5a6080a",
   "metadata": {
    "scrolled": true
   },
   "outputs": [
    {
     "data": {
      "text/html": [
       "<div>\n",
       "<style scoped>\n",
       "    .dataframe tbody tr th:only-of-type {\n",
       "        vertical-align: middle;\n",
       "    }\n",
       "\n",
       "    .dataframe tbody tr th {\n",
       "        vertical-align: top;\n",
       "    }\n",
       "\n",
       "    .dataframe thead th {\n",
       "        text-align: right;\n",
       "    }\n",
       "</style>\n",
       "<table border=\"1\" class=\"dataframe\">\n",
       "  <thead>\n",
       "    <tr style=\"text-align: right;\">\n",
       "      <th></th>\n",
       "      <th>ds</th>\n",
       "      <th>y</th>\n",
       "    </tr>\n",
       "  </thead>\n",
       "  <tbody>\n",
       "    <tr>\n",
       "      <th>0</th>\n",
       "      <td>2018-01-01</td>\n",
       "      <td>13.062.460.000.000.000</td>\n",
       "    </tr>\n",
       "    <tr>\n",
       "      <th>1</th>\n",
       "      <td>2018-01-02</td>\n",
       "      <td>61972.66</td>\n",
       "    </tr>\n",
       "    <tr>\n",
       "      <th>2</th>\n",
       "      <td>2018-01-03</td>\n",
       "      <td>54.424.439.999.999.900</td>\n",
       "    </tr>\n",
       "    <tr>\n",
       "      <th>3</th>\n",
       "      <td>2018-01-04</td>\n",
       "      <td>21775.57</td>\n",
       "    </tr>\n",
       "    <tr>\n",
       "      <th>4</th>\n",
       "      <td>2018-01-05</td>\n",
       "      <td>41703.32</td>\n",
       "    </tr>\n",
       "  </tbody>\n",
       "</table>\n",
       "</div>"
      ],
      "text/plain": [
       "           ds                       y\n",
       "0  2018-01-01  13.062.460.000.000.000\n",
       "1  2018-01-02                61972.66\n",
       "2  2018-01-03  54.424.439.999.999.900\n",
       "3  2018-01-04                21775.57\n",
       "4  2018-01-05                41703.32"
      ]
     },
     "execution_count": 43,
     "metadata": {},
     "output_type": "execute_result"
    }
   ],
   "source": [
    "dados2.head()"
   ]
  },
  {
   "cell_type": "code",
   "execution_count": 44,
   "id": "92f52f99",
   "metadata": {},
   "outputs": [
    {
     "name": "stdout",
     "output_type": "stream",
     "text": [
      "<class 'pandas.core.frame.DataFrame'>\n",
      "RangeIndex: 1461 entries, 0 to 1460\n",
      "Data columns (total 2 columns):\n",
      " #   Column  Non-Null Count  Dtype \n",
      "---  ------  --------------  ----- \n",
      " 0   ds      1461 non-null   object\n",
      " 1   y       1461 non-null   object\n",
      "dtypes: object(2)\n",
      "memory usage: 23.0+ KB\n"
     ]
    }
   ],
   "source": [
    "dados2.info()"
   ]
  },
  {
   "cell_type": "code",
   "execution_count": 45,
   "id": "d2fec27a",
   "metadata": {},
   "outputs": [],
   "source": [
    "from prophet import Prophet"
   ]
  },
  {
   "cell_type": "code",
   "execution_count": 46,
   "id": "8dd913ef",
   "metadata": {},
   "outputs": [
    {
     "data": {
      "text/html": [
       "<div>\n",
       "<style scoped>\n",
       "    .dataframe tbody tr th:only-of-type {\n",
       "        vertical-align: middle;\n",
       "    }\n",
       "\n",
       "    .dataframe tbody tr th {\n",
       "        vertical-align: top;\n",
       "    }\n",
       "\n",
       "    .dataframe thead th {\n",
       "        text-align: right;\n",
       "    }\n",
       "</style>\n",
       "<table border=\"1\" class=\"dataframe\">\n",
       "  <thead>\n",
       "    <tr style=\"text-align: right;\">\n",
       "      <th></th>\n",
       "      <th>Data</th>\n",
       "      <th>VALOR_REEMBOLSADO</th>\n",
       "    </tr>\n",
       "  </thead>\n",
       "  <tbody>\n",
       "    <tr>\n",
       "      <th>1</th>\n",
       "      <td>2009-04-01</td>\n",
       "      <td>179.01</td>\n",
       "    </tr>\n",
       "    <tr>\n",
       "      <th>2</th>\n",
       "      <td>2009-04-01</td>\n",
       "      <td>30.00</td>\n",
       "    </tr>\n",
       "    <tr>\n",
       "      <th>3</th>\n",
       "      <td>2009-04-01</td>\n",
       "      <td>215.80</td>\n",
       "    </tr>\n",
       "    <tr>\n",
       "      <th>5</th>\n",
       "      <td>2009-05-01</td>\n",
       "      <td>420.00</td>\n",
       "    </tr>\n",
       "    <tr>\n",
       "      <th>6</th>\n",
       "      <td>2009-05-01</td>\n",
       "      <td>546.00</td>\n",
       "    </tr>\n",
       "    <tr>\n",
       "      <th>...</th>\n",
       "      <td>...</td>\n",
       "      <td>...</td>\n",
       "    </tr>\n",
       "    <tr>\n",
       "      <th>293144</th>\n",
       "      <td>2022-12-01</td>\n",
       "      <td>200.03</td>\n",
       "    </tr>\n",
       "    <tr>\n",
       "      <th>293145</th>\n",
       "      <td>2022-12-01</td>\n",
       "      <td>200.00</td>\n",
       "    </tr>\n",
       "    <tr>\n",
       "      <th>293148</th>\n",
       "      <td>2022-12-01</td>\n",
       "      <td>1180.19</td>\n",
       "    </tr>\n",
       "    <tr>\n",
       "      <th>293150</th>\n",
       "      <td>2022-12-01</td>\n",
       "      <td>1334.31</td>\n",
       "    </tr>\n",
       "    <tr>\n",
       "      <th>293151</th>\n",
       "      <td>2022-12-01</td>\n",
       "      <td>2250.72</td>\n",
       "    </tr>\n",
       "  </tbody>\n",
       "</table>\n",
       "<p>265365 rows × 2 columns</p>\n",
       "</div>"
      ],
      "text/plain": [
       "             Data  VALOR_REEMBOLSADO\n",
       "1      2009-04-01             179.01\n",
       "2      2009-04-01              30.00\n",
       "3      2009-04-01             215.80\n",
       "5      2009-05-01             420.00\n",
       "6      2009-05-01             546.00\n",
       "...           ...                ...\n",
       "293144 2022-12-01             200.03\n",
       "293145 2022-12-01             200.00\n",
       "293148 2022-12-01            1180.19\n",
       "293150 2022-12-01            1334.31\n",
       "293151 2022-12-01            2250.72\n",
       "\n",
       "[265365 rows x 2 columns]"
      ]
     },
     "execution_count": 46,
     "metadata": {},
     "output_type": "execute_result"
    }
   ],
   "source": [
    "dados_reg = dados_sem_out[['Data','VALOR_REEMBOLSADO']]\n",
    "dados_reg"
   ]
  },
  {
   "cell_type": "code",
   "execution_count": 47,
   "id": "14b6644a",
   "metadata": {
    "scrolled": true
   },
   "outputs": [
    {
     "name": "stderr",
     "output_type": "stream",
     "text": [
      "C:\\Users\\igorm\\AppData\\Local\\Temp\\ipykernel_10456\\2552565265.py:1: SettingWithCopyWarning: \n",
      "A value is trying to be set on a copy of a slice from a DataFrame\n",
      "\n",
      "See the caveats in the documentation: https://pandas.pydata.org/pandas-docs/stable/user_guide/indexing.html#returning-a-view-versus-a-copy\n",
      "  dados_reg.rename(columns={'Data':'ds', 'VALOR_REEMBOLSADO':'y'}, inplace = True)\n"
     ]
    }
   ],
   "source": [
    "dados_reg.rename(columns={'Data':'ds', 'VALOR_REEMBOLSADO':'y'}, inplace = True)"
   ]
  },
  {
   "cell_type": "code",
   "execution_count": 48,
   "id": "e553b904",
   "metadata": {},
   "outputs": [
    {
     "data": {
      "text/html": [
       "<div>\n",
       "<style scoped>\n",
       "    .dataframe tbody tr th:only-of-type {\n",
       "        vertical-align: middle;\n",
       "    }\n",
       "\n",
       "    .dataframe tbody tr th {\n",
       "        vertical-align: top;\n",
       "    }\n",
       "\n",
       "    .dataframe thead th {\n",
       "        text-align: right;\n",
       "    }\n",
       "</style>\n",
       "<table border=\"1\" class=\"dataframe\">\n",
       "  <thead>\n",
       "    <tr style=\"text-align: right;\">\n",
       "      <th></th>\n",
       "      <th>ds</th>\n",
       "      <th>y</th>\n",
       "    </tr>\n",
       "  </thead>\n",
       "  <tbody>\n",
       "    <tr>\n",
       "      <th>1</th>\n",
       "      <td>2009-04-01</td>\n",
       "      <td>179.01</td>\n",
       "    </tr>\n",
       "    <tr>\n",
       "      <th>2</th>\n",
       "      <td>2009-04-01</td>\n",
       "      <td>30.00</td>\n",
       "    </tr>\n",
       "    <tr>\n",
       "      <th>3</th>\n",
       "      <td>2009-04-01</td>\n",
       "      <td>215.80</td>\n",
       "    </tr>\n",
       "    <tr>\n",
       "      <th>5</th>\n",
       "      <td>2009-05-01</td>\n",
       "      <td>420.00</td>\n",
       "    </tr>\n",
       "    <tr>\n",
       "      <th>6</th>\n",
       "      <td>2009-05-01</td>\n",
       "      <td>546.00</td>\n",
       "    </tr>\n",
       "    <tr>\n",
       "      <th>...</th>\n",
       "      <td>...</td>\n",
       "      <td>...</td>\n",
       "    </tr>\n",
       "    <tr>\n",
       "      <th>293144</th>\n",
       "      <td>2022-12-01</td>\n",
       "      <td>200.03</td>\n",
       "    </tr>\n",
       "    <tr>\n",
       "      <th>293145</th>\n",
       "      <td>2022-12-01</td>\n",
       "      <td>200.00</td>\n",
       "    </tr>\n",
       "    <tr>\n",
       "      <th>293148</th>\n",
       "      <td>2022-12-01</td>\n",
       "      <td>1180.19</td>\n",
       "    </tr>\n",
       "    <tr>\n",
       "      <th>293150</th>\n",
       "      <td>2022-12-01</td>\n",
       "      <td>1334.31</td>\n",
       "    </tr>\n",
       "    <tr>\n",
       "      <th>293151</th>\n",
       "      <td>2022-12-01</td>\n",
       "      <td>2250.72</td>\n",
       "    </tr>\n",
       "  </tbody>\n",
       "</table>\n",
       "<p>265365 rows × 2 columns</p>\n",
       "</div>"
      ],
      "text/plain": [
       "               ds       y\n",
       "1      2009-04-01  179.01\n",
       "2      2009-04-01   30.00\n",
       "3      2009-04-01  215.80\n",
       "5      2009-05-01  420.00\n",
       "6      2009-05-01  546.00\n",
       "...           ...     ...\n",
       "293144 2022-12-01  200.03\n",
       "293145 2022-12-01  200.00\n",
       "293148 2022-12-01 1180.19\n",
       "293150 2022-12-01 1334.31\n",
       "293151 2022-12-01 2250.72\n",
       "\n",
       "[265365 rows x 2 columns]"
      ]
     },
     "execution_count": 48,
     "metadata": {},
     "output_type": "execute_result"
    }
   ],
   "source": [
    "dados_reg"
   ]
  },
  {
   "cell_type": "code",
   "execution_count": 49,
   "id": "6e8e4d3f",
   "metadata": {},
   "outputs": [
    {
     "name": "stderr",
     "output_type": "stream",
     "text": [
      "13:18:26 - cmdstanpy - INFO - Chain [1] start processing\n",
      "13:19:15 - cmdstanpy - INFO - Chain [1] done processing\n"
     ]
    },
    {
     "data": {
      "text/plain": [
       "<prophet.forecaster.Prophet at 0x185e6a34190>"
      ]
     },
     "execution_count": 49,
     "metadata": {},
     "output_type": "execute_result"
    }
   ],
   "source": [
    "m = Prophet()\n",
    "m.fit(dados_reg)"
   ]
  },
  {
   "cell_type": "code",
   "execution_count": 50,
   "id": "873fe150",
   "metadata": {},
   "outputs": [
    {
     "data": {
      "text/html": [
       "<div>\n",
       "<style scoped>\n",
       "    .dataframe tbody tr th:only-of-type {\n",
       "        vertical-align: middle;\n",
       "    }\n",
       "\n",
       "    .dataframe tbody tr th {\n",
       "        vertical-align: top;\n",
       "    }\n",
       "\n",
       "    .dataframe thead th {\n",
       "        text-align: right;\n",
       "    }\n",
       "</style>\n",
       "<table border=\"1\" class=\"dataframe\">\n",
       "  <thead>\n",
       "    <tr style=\"text-align: right;\">\n",
       "      <th></th>\n",
       "      <th>ds</th>\n",
       "    </tr>\n",
       "  </thead>\n",
       "  <tbody>\n",
       "    <tr>\n",
       "      <th>525</th>\n",
       "      <td>2023-11-27</td>\n",
       "    </tr>\n",
       "    <tr>\n",
       "      <th>526</th>\n",
       "      <td>2023-11-28</td>\n",
       "    </tr>\n",
       "    <tr>\n",
       "      <th>527</th>\n",
       "      <td>2023-11-29</td>\n",
       "    </tr>\n",
       "    <tr>\n",
       "      <th>528</th>\n",
       "      <td>2023-11-30</td>\n",
       "    </tr>\n",
       "    <tr>\n",
       "      <th>529</th>\n",
       "      <td>2023-12-01</td>\n",
       "    </tr>\n",
       "  </tbody>\n",
       "</table>\n",
       "</div>"
      ],
      "text/plain": [
       "            ds\n",
       "525 2023-11-27\n",
       "526 2023-11-28\n",
       "527 2023-11-29\n",
       "528 2023-11-30\n",
       "529 2023-12-01"
      ]
     },
     "execution_count": 50,
     "metadata": {},
     "output_type": "execute_result"
    }
   ],
   "source": [
    "future = m.make_future_dataframe(periods=365)\n",
    "future.tail()"
   ]
  },
  {
   "cell_type": "code",
   "execution_count": 51,
   "id": "3f8a82c4",
   "metadata": {},
   "outputs": [
    {
     "data": {
      "text/html": [
       "<div>\n",
       "<style scoped>\n",
       "    .dataframe tbody tr th:only-of-type {\n",
       "        vertical-align: middle;\n",
       "    }\n",
       "\n",
       "    .dataframe tbody tr th {\n",
       "        vertical-align: top;\n",
       "    }\n",
       "\n",
       "    .dataframe thead th {\n",
       "        text-align: right;\n",
       "    }\n",
       "</style>\n",
       "<table border=\"1\" class=\"dataframe\">\n",
       "  <thead>\n",
       "    <tr style=\"text-align: right;\">\n",
       "      <th></th>\n",
       "      <th>ds</th>\n",
       "      <th>yhat</th>\n",
       "      <th>yhat_lower</th>\n",
       "      <th>yhat_upper</th>\n",
       "    </tr>\n",
       "  </thead>\n",
       "  <tbody>\n",
       "    <tr>\n",
       "      <th>0</th>\n",
       "      <td>2009-04-01</td>\n",
       "      <td>229.16</td>\n",
       "      <td>-415.00</td>\n",
       "      <td>882.05</td>\n",
       "    </tr>\n",
       "    <tr>\n",
       "      <th>1</th>\n",
       "      <td>2009-05-01</td>\n",
       "      <td>214.13</td>\n",
       "      <td>-405.34</td>\n",
       "      <td>927.80</td>\n",
       "    </tr>\n",
       "    <tr>\n",
       "      <th>2</th>\n",
       "      <td>2009-06-01</td>\n",
       "      <td>217.93</td>\n",
       "      <td>-445.44</td>\n",
       "      <td>937.59</td>\n",
       "    </tr>\n",
       "    <tr>\n",
       "      <th>3</th>\n",
       "      <td>2009-07-01</td>\n",
       "      <td>220.51</td>\n",
       "      <td>-409.67</td>\n",
       "      <td>892.34</td>\n",
       "    </tr>\n",
       "    <tr>\n",
       "      <th>4</th>\n",
       "      <td>2009-08-01</td>\n",
       "      <td>229.88</td>\n",
       "      <td>-519.23</td>\n",
       "      <td>940.48</td>\n",
       "    </tr>\n",
       "  </tbody>\n",
       "</table>\n",
       "</div>"
      ],
      "text/plain": [
       "          ds   yhat  yhat_lower  yhat_upper\n",
       "0 2009-04-01 229.16     -415.00      882.05\n",
       "1 2009-05-01 214.13     -405.34      927.80\n",
       "2 2009-06-01 217.93     -445.44      937.59\n",
       "3 2009-07-01 220.51     -409.67      892.34\n",
       "4 2009-08-01 229.88     -519.23      940.48"
      ]
     },
     "execution_count": 51,
     "metadata": {},
     "output_type": "execute_result"
    }
   ],
   "source": [
    "forecast = m.predict(future)\n",
    "forecast[['ds', 'yhat', 'yhat_lower', 'yhat_upper']].head()\n"
   ]
  },
  {
   "cell_type": "code",
   "execution_count": 52,
   "id": "bc6dc021",
   "metadata": {},
   "outputs": [
    {
     "name": "stdout",
     "output_type": "stream",
     "text": [
      "<class 'pandas.core.frame.DataFrame'>\n",
      "RangeIndex: 530 entries, 0 to 529\n",
      "Data columns (total 16 columns):\n",
      " #   Column                      Non-Null Count  Dtype         \n",
      "---  ------                      --------------  -----         \n",
      " 0   ds                          530 non-null    datetime64[ns]\n",
      " 1   trend                       530 non-null    float64       \n",
      " 2   yhat_lower                  530 non-null    float64       \n",
      " 3   yhat_upper                  530 non-null    float64       \n",
      " 4   trend_lower                 530 non-null    float64       \n",
      " 5   trend_upper                 530 non-null    float64       \n",
      " 6   additive_terms              530 non-null    float64       \n",
      " 7   additive_terms_lower        530 non-null    float64       \n",
      " 8   additive_terms_upper        530 non-null    float64       \n",
      " 9   yearly                      530 non-null    float64       \n",
      " 10  yearly_lower                530 non-null    float64       \n",
      " 11  yearly_upper                530 non-null    float64       \n",
      " 12  multiplicative_terms        530 non-null    float64       \n",
      " 13  multiplicative_terms_lower  530 non-null    float64       \n",
      " 14  multiplicative_terms_upper  530 non-null    float64       \n",
      " 15  yhat                        530 non-null    float64       \n",
      "dtypes: datetime64[ns](1), float64(15)\n",
      "memory usage: 66.4 KB\n"
     ]
    }
   ],
   "source": [
    "forecast.info()"
   ]
  },
  {
   "cell_type": "code",
   "execution_count": 53,
   "id": "7421d861",
   "metadata": {},
   "outputs": [
    {
     "data": {
      "image/png": "[encoded data removed]",
      "text/plain": [
       "<Figure size 900x600 with 2 Axes>"
      ]
     },
     "metadata": {},
     "output_type": "display_data"
    }
   ],
   "source": [
    "fig2 = m.plot_components(forecast)\n"
   ]
  },
  {
   "cell_type": "code",
   "execution_count": 54,
   "id": "4460f50c",
   "metadata": {},
   "outputs": [],
   "source": [
    "forecast['month'] = forecast['ds'].dt.month"
   ]
  },
  {
   "cell_type": "code",
   "execution_count": 55,
   "id": "209d0dae",
   "metadata": {},
   "outputs": [],
   "source": [
    "gastos_previsto_2023 = forecast.groupby('month')[['yhat']].sum().head(3)"
   ]
  },
  {
   "cell_type": "code",
   "execution_count": 56,
   "id": "2178b540",
   "metadata": {},
   "outputs": [],
   "source": [
    "gastos_previsto_2023.reset_index(inplace = True)"
   ]
  },
  {
   "cell_type": "code",
   "execution_count": 57,
   "id": "552fb163",
   "metadata": {
    "scrolled": true
   },
   "outputs": [],
   "source": [
    "gastos_previsto_2023.rename(columns = {'month':'mes','yhat':'previsao_reembolso'}, inplace = True)"
   ]
  },
  {
   "cell_type": "code",
   "execution_count": 58,
   "id": "b4a675e7",
   "metadata": {},
   "outputs": [
    {
     "data": {
      "text/html": [
       "<div>\n",
       "<style scoped>\n",
       "    .dataframe tbody tr th:only-of-type {\n",
       "        vertical-align: middle;\n",
       "    }\n",
       "\n",
       "    .dataframe tbody tr th {\n",
       "        vertical-align: top;\n",
       "    }\n",
       "\n",
       "    .dataframe thead th {\n",
       "        text-align: right;\n",
       "    }\n",
       "</style>\n",
       "<table border=\"1\" class=\"dataframe\">\n",
       "  <thead>\n",
       "    <tr style=\"text-align: right;\">\n",
       "      <th></th>\n",
       "      <th>mes</th>\n",
       "      <th>previsao_reembolso</th>\n",
       "    </tr>\n",
       "  </thead>\n",
       "  <tbody>\n",
       "    <tr>\n",
       "      <th>0</th>\n",
       "      <td>1</td>\n",
       "      <td>25272.40</td>\n",
       "    </tr>\n",
       "    <tr>\n",
       "      <th>1</th>\n",
       "      <td>2</td>\n",
       "      <td>22391.39</td>\n",
       "    </tr>\n",
       "    <tr>\n",
       "      <th>2</th>\n",
       "      <td>3</td>\n",
       "      <td>26494.38</td>\n",
       "    </tr>\n",
       "  </tbody>\n",
       "</table>\n",
       "</div>"
      ],
      "text/plain": [
       "   mes  previsao_reembolso\n",
       "0    1            25272.40\n",
       "1    2            22391.39\n",
       "2    3            26494.38"
      ]
     },
     "execution_count": 58,
     "metadata": {},
     "output_type": "execute_result"
    }
   ],
   "source": [
    "gastos_previsto_2023"
   ]
  },
  {
   "cell_type": "code",
   "execution_count": 59,
   "id": "61b03912",
   "metadata": {},
   "outputs": [],
   "source": [
    "gastos_previsto_2023['mes'] = gastos_previsto_2023['mes'].replace(1, 'Jan').replace(2, 'Fev').replace(3, 'Mar')"
   ]
  },
  {
   "cell_type": "code",
   "execution_count": 60,
   "id": "6de25e3b",
   "metadata": {},
   "outputs": [
    {
     "data": {
      "text/html": [
       "<div>\n",
       "<style scoped>\n",
       "    .dataframe tbody tr th:only-of-type {\n",
       "        vertical-align: middle;\n",
       "    }\n",
       "\n",
       "    .dataframe tbody tr th {\n",
       "        vertical-align: top;\n",
       "    }\n",
       "\n",
       "    .dataframe thead th {\n",
       "        text-align: right;\n",
       "    }\n",
       "</style>\n",
       "<table border=\"1\" class=\"dataframe\">\n",
       "  <thead>\n",
       "    <tr style=\"text-align: right;\">\n",
       "      <th></th>\n",
       "      <th>mes</th>\n",
       "      <th>previsao_reembolso</th>\n",
       "    </tr>\n",
       "  </thead>\n",
       "  <tbody>\n",
       "    <tr>\n",
       "      <th>0</th>\n",
       "      <td>Jan</td>\n",
       "      <td>25272.40</td>\n",
       "    </tr>\n",
       "    <tr>\n",
       "      <th>1</th>\n",
       "      <td>Fev</td>\n",
       "      <td>22391.39</td>\n",
       "    </tr>\n",
       "    <tr>\n",
       "      <th>2</th>\n",
       "      <td>Mar</td>\n",
       "      <td>26494.38</td>\n",
       "    </tr>\n",
       "  </tbody>\n",
       "</table>\n",
       "</div>"
      ],
      "text/plain": [
       "   mes  previsao_reembolso\n",
       "0  Jan            25272.40\n",
       "1  Fev            22391.39\n",
       "2  Mar            26494.38"
      ]
     },
     "execution_count": 60,
     "metadata": {},
     "output_type": "execute_result"
    }
   ],
   "source": [
    "gastos_previsto_2023"
   ]
  }
 ],
 "metadata": {
  "kernelspec": {
   "display_name": "Python 3 (ipykernel)",
   "language": "python",
   "name": "python3"
  },
  "language_info": {
   "codemirror_mode": {
    "name": "ipython",
    "version": 3
   },
   "file_extension": ".py",
   "mimetype": "text/x-python",
   "name": "python",
   "nbconvert_exporter": "python",
   "pygments_lexer": "ipython3",
   "version": "3.9.13"
  }
 },
 "nbformat": 4,
 "nbformat_minor": 5
}
