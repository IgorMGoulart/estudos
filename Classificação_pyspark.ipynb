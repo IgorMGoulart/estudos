{
  "cells": [
    {
      "cell_type": "markdown",
      "source": [
        "Preparando os Dados**"
      ],
      "metadata": {
        "id": "BwhP2rhUGI_k"
      }
    },
    {
      "cell_type": "code",
      "source": [
        "!pip install pyspark"
      ],
      "metadata": {
        "colab": {
          "base_uri": "https://localhost:8080/"
        },
        "id": "4Gs-5LKuvWmE",
        "outputId": "0383a805-ebe7-4381-a9f3-fb491a4c4070"
      },
      "execution_count": null,
      "outputs": [
        {
          "output_type": "stream",
          "name": "stdout",
          "text": [
            "Requirement already satisfied: pyspark in /usr/local/lib/python3.10/dist-packages (3.4.1)\n",
            "Requirement already satisfied: py4j==0.10.9.7 in /usr/local/lib/python3.10/dist-packages (from pyspark) (0.10.9.7)\n"
          ]
        }
      ]
    },
    {
      "cell_type": "code",
      "source": [
        "from pyspark.sql import SparkSession"
      ],
      "metadata": {
        "id": "1_WixBVIvvB-"
      },
      "execution_count": null,
      "outputs": []
    },
    {
      "cell_type": "code",
      "source": [
        "spark = SparkSession.builder.master('local[*]').appName(\"Classificação com Spark\").getOrCreate()\n",
        "spark"
      ],
      "metadata": {
        "colab": {
          "base_uri": "https://localhost:8080/",
          "height": 219
        },
        "id": "H02jOAtLOpQY",
        "outputId": "2530e4e6-b44c-4a17-e45c-fa692d85ad98"
      },
      "execution_count": null,
      "outputs": [
        {
          "output_type": "execute_result",
          "data": {
            "text/plain": [
              "<pyspark.sql.session.SparkSession at 0x7c0f69af1420>"
            ],
            "text/html": [
              "\n",
              "            <div>\n",
              "                <p><b>SparkSession - in-memory</b></p>\n",
              "                \n",
              "        <div>\n",
              "            <p><b>SparkContext</b></p>\n",
              "\n",
              "            <p><a href=\"http://24e72ae84f33:4040\">Spark UI</a></p>\n",
              "\n",
              "            <dl>\n",
              "              <dt>Version</dt>\n",
              "                <dd><code>v3.4.1</code></dd>\n",
              "              <dt>Master</dt>\n",
              "                <dd><code>local[*]</code></dd>\n",
              "              <dt>AppName</dt>\n",
              "                <dd><code>Classificação com Spark</code></dd>\n",
              "            </dl>\n",
              "        </div>\n",
              "        \n",
              "            </div>\n",
              "        "
            ]
          },
          "metadata": {},
          "execution_count": 270
        }
      ]
    },
    {
      "cell_type": "markdown",
      "source": [
        "## **1.3 Carregamento dos Dados**"
      ],
      "metadata": {
        "id": "BOQSXCsB-XJ4"
      }
    },
    {
      "cell_type": "code",
      "source": [
        "dados = spark.read.csv('dados_clientes.csv', sep=',', header=True, inferSchema=True)"
      ],
      "metadata": {
        "id": "iIjhbXvgPMSy"
      },
      "execution_count": null,
      "outputs": []
    },
    {
      "cell_type": "code",
      "source": [
        "dados"
      ],
      "metadata": {
        "id": "bItkwybT-BOG",
        "colab": {
          "base_uri": "https://localhost:8080/"
        },
        "outputId": "a8d9b535-0293-4577-f1a9-11acdedbb60d"
      },
      "execution_count": null,
      "outputs": [
        {
          "output_type": "execute_result",
          "data": {
            "text/plain": [
              "DataFrame[id: int, Churn: string, Mais65anos: int, Conjuge: string, Dependentes: string, MesesDeContrato: int, TelefoneFixo: string, MaisDeUmaLinhaTelefonica: string, Internet: string, SegurancaOnline: string, BackupOnline: string, SeguroDispositivo: string, SuporteTecnico: string, TVaCabo: string, StreamingFilmes: string, TipoContrato: string, ContaCorreio: string, MetodoPagamento: string, MesesCobrados: double]"
            ]
          },
          "metadata": {},
          "execution_count": 272
        }
      ]
    },
    {
      "cell_type": "code",
      "source": [
        "dados.show()"
      ],
      "metadata": {
        "id": "WMx7nLWW-BIV",
        "colab": {
          "base_uri": "https://localhost:8080/"
        },
        "outputId": "49ec54df-30ec-40aa-ceac-2cb92ab474f9"
      },
      "execution_count": null,
      "outputs": [
        {
          "output_type": "stream",
          "name": "stdout",
          "text": [
            "+---+-----+----------+-------+-----------+---------------+------------+------------------------+-----------+------------------+------------------+------------------+------------------+------------------+------------------+------------+------------+----------------+-------------+\n",
            "| id|Churn|Mais65anos|Conjuge|Dependentes|MesesDeContrato|TelefoneFixo|MaisDeUmaLinhaTelefonica|   Internet|   SegurancaOnline|      BackupOnline| SeguroDispositivo|    SuporteTecnico|           TVaCabo|   StreamingFilmes|TipoContrato|ContaCorreio| MetodoPagamento|MesesCobrados|\n",
            "+---+-----+----------+-------+-----------+---------------+------------+------------------------+-----------+------------------+------------------+------------------+------------------+------------------+------------------+------------+------------+----------------+-------------+\n",
            "|  0|  Nao|         0|    Sim|        Nao|              1|         Nao|    SemServicoTelefonico|        DSL|               Nao|               Sim|               Nao|               Nao|               Nao|               Nao| Mensalmente|         Sim|BoletoEletronico|        29.85|\n",
            "|  1|  Nao|         0|    Nao|        Nao|             34|         Sim|                     Nao|        DSL|               Sim|               Nao|               Sim|               Nao|               Nao|               Nao|       UmAno|         Nao|          Boleto|        56.95|\n",
            "|  2|  Sim|         0|    Nao|        Nao|              2|         Sim|                     Nao|        DSL|               Sim|               Sim|               Nao|               Nao|               Nao|               Nao| Mensalmente|         Sim|          Boleto|        53.85|\n",
            "|  3|  Nao|         0|    Nao|        Nao|             45|         Nao|    SemServicoTelefonico|        DSL|               Sim|               Nao|               Sim|               Sim|               Nao|               Nao|       UmAno|         Nao|   DebitoEmConta|         42.3|\n",
            "|  4|  Sim|         0|    Nao|        Nao|              2|         Sim|                     Nao|FibraOptica|               Nao|               Nao|               Nao|               Nao|               Nao|               Nao| Mensalmente|         Sim|BoletoEletronico|         70.7|\n",
            "|  5|  Sim|         0|    Nao|        Nao|              8|         Sim|                     Sim|FibraOptica|               Nao|               Nao|               Sim|               Nao|               Sim|               Sim| Mensalmente|         Sim|BoletoEletronico|        99.65|\n",
            "|  6|  Nao|         0|    Nao|        Sim|             22|         Sim|                     Sim|FibraOptica|               Nao|               Sim|               Nao|               Nao|               Sim|               Nao| Mensalmente|         Sim|   CartaoCredito|         89.1|\n",
            "|  7|  Nao|         0|    Nao|        Nao|             10|         Nao|    SemServicoTelefonico|        DSL|               Sim|               Nao|               Nao|               Nao|               Nao|               Nao| Mensalmente|         Nao|          Boleto|        29.75|\n",
            "|  8|  Sim|         0|    Sim|        Nao|             28|         Sim|                     Sim|FibraOptica|               Nao|               Nao|               Sim|               Sim|               Sim|               Sim| Mensalmente|         Sim|BoletoEletronico|        104.8|\n",
            "|  9|  Nao|         0|    Nao|        Sim|             62|         Sim|                     Nao|        DSL|               Sim|               Sim|               Nao|               Nao|               Nao|               Nao|       UmAno|         Nao|   DebitoEmConta|        56.15|\n",
            "| 10|  Nao|         0|    Sim|        Sim|             13|         Sim|                     Nao|        DSL|               Sim|               Nao|               Nao|               Nao|               Nao|               Nao| Mensalmente|         Sim|          Boleto|        49.95|\n",
            "| 11|  Nao|         0|    Nao|        Nao|             16|         Sim|                     Nao|        Nao|SemServicoInternet|SemServicoInternet|SemServicoInternet|SemServicoInternet|SemServicoInternet|SemServicoInternet|    DoisAnos|         Nao|   CartaoCredito|        18.95|\n",
            "| 12|  Nao|         0|    Sim|        Nao|             58|         Sim|                     Sim|FibraOptica|               Nao|               Nao|               Sim|               Nao|               Sim|               Sim|       UmAno|         Nao|   CartaoCredito|       100.35|\n",
            "| 13|  Sim|         0|    Nao|        Nao|             49|         Sim|                     Sim|FibraOptica|               Nao|               Sim|               Sim|               Nao|               Sim|               Sim| Mensalmente|         Sim|   DebitoEmConta|        103.7|\n",
            "| 14|  Nao|         0|    Nao|        Nao|             25|         Sim|                     Nao|FibraOptica|               Sim|               Nao|               Sim|               Sim|               Sim|               Sim| Mensalmente|         Sim|BoletoEletronico|        105.5|\n",
            "| 15|  Nao|         0|    Sim|        Sim|             69|         Sim|                     Sim|FibraOptica|               Sim|               Sim|               Sim|               Sim|               Sim|               Sim|    DoisAnos|         Nao|   CartaoCredito|       113.25|\n",
            "| 16|  Nao|         0|    Nao|        Nao|             52|         Sim|                     Nao|        Nao|SemServicoInternet|SemServicoInternet|SemServicoInternet|SemServicoInternet|SemServicoInternet|SemServicoInternet|       UmAno|         Nao|          Boleto|        20.65|\n",
            "| 17|  Nao|         0|    Nao|        Sim|             71|         Sim|                     Sim|FibraOptica|               Sim|               Nao|               Sim|               Nao|               Sim|               Sim|    DoisAnos|         Nao|   DebitoEmConta|        106.7|\n",
            "| 18|  Sim|         0|    Sim|        Sim|             10|         Sim|                     Nao|        DSL|               Nao|               Nao|               Sim|               Sim|               Nao|               Nao| Mensalmente|         Nao|   CartaoCredito|         55.2|\n",
            "| 19|  Nao|         0|    Nao|        Nao|             21|         Sim|                     Nao|FibraOptica|               Nao|               Sim|               Sim|               Nao|               Nao|               Sim| Mensalmente|         Sim|BoletoEletronico|        90.05|\n",
            "+---+-----+----------+-------+-----------+---------------+------------+------------------------+-----------+------------------+------------------+------------------+------------------+------------------+------------------+------------+------------+----------------+-------------+\n",
            "only showing top 20 rows\n",
            "\n"
          ]
        }
      ]
    },
    {
      "cell_type": "code",
      "source": [
        "dados.count()"
      ],
      "metadata": {
        "id": "DyXF17Oo-BCw",
        "colab": {
          "base_uri": "https://localhost:8080/"
        },
        "outputId": "6133058a-77f7-4569-d54a-4ea6a611db4a"
      },
      "execution_count": null,
      "outputs": [
        {
          "output_type": "execute_result",
          "data": {
            "text/plain": [
              "10348"
            ]
          },
          "metadata": {},
          "execution_count": 274
        }
      ]
    },
    {
      "cell_type": "code",
      "source": [
        "dados.select('Churn').groupBy('Churn').count().show()"
      ],
      "metadata": {
        "id": "wOXJOUgGpi9z",
        "colab": {
          "base_uri": "https://localhost:8080/"
        },
        "outputId": "67f3b3bd-5511-47ca-f4e5-593e67656d08"
      },
      "execution_count": null,
      "outputs": [
        {
          "output_type": "stream",
          "name": "stdout",
          "text": [
            "+-----+-----+\n",
            "|Churn|count|\n",
            "+-----+-----+\n",
            "|  Sim| 5174|\n",
            "|  Nao| 5174|\n",
            "+-----+-----+\n",
            "\n"
          ]
        }
      ]
    },
    {
      "cell_type": "code",
      "source": [
        "dados.printSchema()"
      ],
      "metadata": {
        "id": "K18E1wBo9A8P",
        "colab": {
          "base_uri": "https://localhost:8080/"
        },
        "outputId": "d97bd28e-1640-4a19-8704-1c134eafe653"
      },
      "execution_count": null,
      "outputs": [
        {
          "output_type": "stream",
          "name": "stdout",
          "text": [
            "root\n",
            " |-- id: integer (nullable = true)\n",
            " |-- Churn: string (nullable = true)\n",
            " |-- Mais65anos: integer (nullable = true)\n",
            " |-- Conjuge: string (nullable = true)\n",
            " |-- Dependentes: string (nullable = true)\n",
            " |-- MesesDeContrato: integer (nullable = true)\n",
            " |-- TelefoneFixo: string (nullable = true)\n",
            " |-- MaisDeUmaLinhaTelefonica: string (nullable = true)\n",
            " |-- Internet: string (nullable = true)\n",
            " |-- SegurancaOnline: string (nullable = true)\n",
            " |-- BackupOnline: string (nullable = true)\n",
            " |-- SeguroDispositivo: string (nullable = true)\n",
            " |-- SuporteTecnico: string (nullable = true)\n",
            " |-- TVaCabo: string (nullable = true)\n",
            " |-- StreamingFilmes: string (nullable = true)\n",
            " |-- TipoContrato: string (nullable = true)\n",
            " |-- ContaCorreio: string (nullable = true)\n",
            " |-- MetodoPagamento: string (nullable = true)\n",
            " |-- MesesCobrados: double (nullable = true)\n",
            "\n"
          ]
        }
      ]
    },
    {
      "cell_type": "markdown",
      "source": [
        "## **1.4 Transformando os Dados**\n",
        "\n",
        "<font size=2>**Fonte:** [Functions](https://spark.apache.org/docs/latest/api/python/reference/pyspark.sql.html#functions)</font>"
      ],
      "metadata": {
        "id": "blFAMaSBVV2u"
      }
    },
    {
      "cell_type": "code",
      "source": [
        "colunasBinarias = [\n",
        "    'Churn',\n",
        "    'Conjuge',\n",
        "    'Dependentes',\n",
        "    'TelefoneFixo',\n",
        "    'MaisDeUmaLinhaTelefonica',\n",
        "    'SegurancaOnline',\n",
        "    'BackupOnline',\n",
        "    'SeguroDispositivo',\n",
        "    'SuporteTecnico',\n",
        "    'TVaCabo',\n",
        "    'StreamingFilmes',\n",
        "    'ContaCorreio'\n",
        "]"
      ],
      "metadata": {
        "id": "mTav14ezr0Uf"
      },
      "execution_count": null,
      "outputs": []
    },
    {
      "cell_type": "code",
      "source": [
        "from pyspark.sql import functions as f"
      ],
      "metadata": {
        "id": "DokzQv2rsnbC"
      },
      "execution_count": null,
      "outputs": []
    },
    {
      "cell_type": "code",
      "source": [
        "todasColunas = [f.when(f.col(c)=='Sim', 1).otherwise(0).alias(c) for c in colunasBinarias]\n",
        "for coluna in reversed(dados.columns):\n",
        "  if coluna not in colunasBinarias:\n",
        "    todasColunas.insert(0, coluna)\n",
        "todasColunas"
      ],
      "metadata": {
        "id": "sqW_vtly9rw0",
        "colab": {
          "base_uri": "https://localhost:8080/"
        },
        "outputId": "edc32f80-67b3-4ded-aac0-fb697f4d1303"
      },
      "execution_count": null,
      "outputs": [
        {
          "output_type": "execute_result",
          "data": {
            "text/plain": [
              "['id',\n",
              " 'Mais65anos',\n",
              " 'MesesDeContrato',\n",
              " 'Internet',\n",
              " 'TipoContrato',\n",
              " 'MetodoPagamento',\n",
              " 'MesesCobrados',\n",
              " Column<'CASE WHEN (Churn = Sim) THEN 1 ELSE 0 END AS Churn'>,\n",
              " Column<'CASE WHEN (Conjuge = Sim) THEN 1 ELSE 0 END AS Conjuge'>,\n",
              " Column<'CASE WHEN (Dependentes = Sim) THEN 1 ELSE 0 END AS Dependentes'>,\n",
              " Column<'CASE WHEN (TelefoneFixo = Sim) THEN 1 ELSE 0 END AS TelefoneFixo'>,\n",
              " Column<'CASE WHEN (MaisDeUmaLinhaTelefonica = Sim) THEN 1 ELSE 0 END AS MaisDeUmaLinhaTelefonica'>,\n",
              " Column<'CASE WHEN (SegurancaOnline = Sim) THEN 1 ELSE 0 END AS SegurancaOnline'>,\n",
              " Column<'CASE WHEN (BackupOnline = Sim) THEN 1 ELSE 0 END AS BackupOnline'>,\n",
              " Column<'CASE WHEN (SeguroDispositivo = Sim) THEN 1 ELSE 0 END AS SeguroDispositivo'>,\n",
              " Column<'CASE WHEN (SuporteTecnico = Sim) THEN 1 ELSE 0 END AS SuporteTecnico'>,\n",
              " Column<'CASE WHEN (TVaCabo = Sim) THEN 1 ELSE 0 END AS TVaCabo'>,\n",
              " Column<'CASE WHEN (StreamingFilmes = Sim) THEN 1 ELSE 0 END AS StreamingFilmes'>,\n",
              " Column<'CASE WHEN (ContaCorreio = Sim) THEN 1 ELSE 0 END AS ContaCorreio'>]"
            ]
          },
          "metadata": {},
          "execution_count": 279
        }
      ]
    },
    {
      "cell_type": "code",
      "source": [
        "dados.select(todasColunas).show()"
      ],
      "metadata": {
        "id": "lhAyVrcFmKYT",
        "colab": {
          "base_uri": "https://localhost:8080/"
        },
        "outputId": "49efd84f-bbf5-4681-e79b-eb2fb096f71f"
      },
      "execution_count": null,
      "outputs": [
        {
          "output_type": "stream",
          "name": "stdout",
          "text": [
            "+---+----------+---------------+-----------+------------+----------------+-------------+-----+-------+-----------+------------+------------------------+---------------+------------+-----------------+--------------+-------+---------------+------------+\n",
            "| id|Mais65anos|MesesDeContrato|   Internet|TipoContrato| MetodoPagamento|MesesCobrados|Churn|Conjuge|Dependentes|TelefoneFixo|MaisDeUmaLinhaTelefonica|SegurancaOnline|BackupOnline|SeguroDispositivo|SuporteTecnico|TVaCabo|StreamingFilmes|ContaCorreio|\n",
            "+---+----------+---------------+-----------+------------+----------------+-------------+-----+-------+-----------+------------+------------------------+---------------+------------+-----------------+--------------+-------+---------------+------------+\n",
            "|  0|         0|              1|        DSL| Mensalmente|BoletoEletronico|        29.85|    0|      1|          0|           0|                       0|              0|           1|                0|             0|      0|              0|           1|\n",
            "|  1|         0|             34|        DSL|       UmAno|          Boleto|        56.95|    0|      0|          0|           1|                       0|              1|           0|                1|             0|      0|              0|           0|\n",
            "|  2|         0|              2|        DSL| Mensalmente|          Boleto|        53.85|    1|      0|          0|           1|                       0|              1|           1|                0|             0|      0|              0|           1|\n",
            "|  3|         0|             45|        DSL|       UmAno|   DebitoEmConta|         42.3|    0|      0|          0|           0|                       0|              1|           0|                1|             1|      0|              0|           0|\n",
            "|  4|         0|              2|FibraOptica| Mensalmente|BoletoEletronico|         70.7|    1|      0|          0|           1|                       0|              0|           0|                0|             0|      0|              0|           1|\n",
            "|  5|         0|              8|FibraOptica| Mensalmente|BoletoEletronico|        99.65|    1|      0|          0|           1|                       1|              0|           0|                1|             0|      1|              1|           1|\n",
            "|  6|         0|             22|FibraOptica| Mensalmente|   CartaoCredito|         89.1|    0|      0|          1|           1|                       1|              0|           1|                0|             0|      1|              0|           1|\n",
            "|  7|         0|             10|        DSL| Mensalmente|          Boleto|        29.75|    0|      0|          0|           0|                       0|              1|           0|                0|             0|      0|              0|           0|\n",
            "|  8|         0|             28|FibraOptica| Mensalmente|BoletoEletronico|        104.8|    1|      1|          0|           1|                       1|              0|           0|                1|             1|      1|              1|           1|\n",
            "|  9|         0|             62|        DSL|       UmAno|   DebitoEmConta|        56.15|    0|      0|          1|           1|                       0|              1|           1|                0|             0|      0|              0|           0|\n",
            "| 10|         0|             13|        DSL| Mensalmente|          Boleto|        49.95|    0|      1|          1|           1|                       0|              1|           0|                0|             0|      0|              0|           1|\n",
            "| 11|         0|             16|        Nao|    DoisAnos|   CartaoCredito|        18.95|    0|      0|          0|           1|                       0|              0|           0|                0|             0|      0|              0|           0|\n",
            "| 12|         0|             58|FibraOptica|       UmAno|   CartaoCredito|       100.35|    0|      1|          0|           1|                       1|              0|           0|                1|             0|      1|              1|           0|\n",
            "| 13|         0|             49|FibraOptica| Mensalmente|   DebitoEmConta|        103.7|    1|      0|          0|           1|                       1|              0|           1|                1|             0|      1|              1|           1|\n",
            "| 14|         0|             25|FibraOptica| Mensalmente|BoletoEletronico|        105.5|    0|      0|          0|           1|                       0|              1|           0|                1|             1|      1|              1|           1|\n",
            "| 15|         0|             69|FibraOptica|    DoisAnos|   CartaoCredito|       113.25|    0|      1|          1|           1|                       1|              1|           1|                1|             1|      1|              1|           0|\n",
            "| 16|         0|             52|        Nao|       UmAno|          Boleto|        20.65|    0|      0|          0|           1|                       0|              0|           0|                0|             0|      0|              0|           0|\n",
            "| 17|         0|             71|FibraOptica|    DoisAnos|   DebitoEmConta|        106.7|    0|      0|          1|           1|                       1|              1|           0|                1|             0|      1|              1|           0|\n",
            "| 18|         0|             10|        DSL| Mensalmente|   CartaoCredito|         55.2|    1|      1|          1|           1|                       0|              0|           0|                1|             1|      0|              0|           0|\n",
            "| 19|         0|             21|FibraOptica| Mensalmente|BoletoEletronico|        90.05|    0|      0|          0|           1|                       0|              0|           1|                1|             0|      0|              1|           1|\n",
            "+---+----------+---------------+-----------+------------+----------------+-------------+-----+-------+-----------+------------+------------------------+---------------+------------+-----------------+--------------+-------+---------------+------------+\n",
            "only showing top 20 rows\n",
            "\n"
          ]
        }
      ]
    },
    {
      "cell_type": "code",
      "source": [
        "dataset = dados.select(todasColunas)"
      ],
      "metadata": {
        "id": "Mhp-2cRy70mI"
      },
      "execution_count": null,
      "outputs": []
    },
    {
      "cell_type": "code",
      "source": [
        "dataset.show()"
      ],
      "metadata": {
        "id": "TEpK0IXUs2BF",
        "colab": {
          "base_uri": "https://localhost:8080/"
        },
        "outputId": "9141ca15-7b39-4f1c-9e40-fdefd2d95f5c"
      },
      "execution_count": null,
      "outputs": [
        {
          "output_type": "stream",
          "name": "stdout",
          "text": [
            "+---+----------+---------------+-----------+------------+----------------+-------------+-----+-------+-----------+------------+------------------------+---------------+------------+-----------------+--------------+-------+---------------+------------+\n",
            "| id|Mais65anos|MesesDeContrato|   Internet|TipoContrato| MetodoPagamento|MesesCobrados|Churn|Conjuge|Dependentes|TelefoneFixo|MaisDeUmaLinhaTelefonica|SegurancaOnline|BackupOnline|SeguroDispositivo|SuporteTecnico|TVaCabo|StreamingFilmes|ContaCorreio|\n",
            "+---+----------+---------------+-----------+------------+----------------+-------------+-----+-------+-----------+------------+------------------------+---------------+------------+-----------------+--------------+-------+---------------+------------+\n",
            "|  0|         0|              1|        DSL| Mensalmente|BoletoEletronico|        29.85|    0|      1|          0|           0|                       0|              0|           1|                0|             0|      0|              0|           1|\n",
            "|  1|         0|             34|        DSL|       UmAno|          Boleto|        56.95|    0|      0|          0|           1|                       0|              1|           0|                1|             0|      0|              0|           0|\n",
            "|  2|         0|              2|        DSL| Mensalmente|          Boleto|        53.85|    1|      0|          0|           1|                       0|              1|           1|                0|             0|      0|              0|           1|\n",
            "|  3|         0|             45|        DSL|       UmAno|   DebitoEmConta|         42.3|    0|      0|          0|           0|                       0|              1|           0|                1|             1|      0|              0|           0|\n",
            "|  4|         0|              2|FibraOptica| Mensalmente|BoletoEletronico|         70.7|    1|      0|          0|           1|                       0|              0|           0|                0|             0|      0|              0|           1|\n",
            "|  5|         0|              8|FibraOptica| Mensalmente|BoletoEletronico|        99.65|    1|      0|          0|           1|                       1|              0|           0|                1|             0|      1|              1|           1|\n",
            "|  6|         0|             22|FibraOptica| Mensalmente|   CartaoCredito|         89.1|    0|      0|          1|           1|                       1|              0|           1|                0|             0|      1|              0|           1|\n",
            "|  7|         0|             10|        DSL| Mensalmente|          Boleto|        29.75|    0|      0|          0|           0|                       0|              1|           0|                0|             0|      0|              0|           0|\n",
            "|  8|         0|             28|FibraOptica| Mensalmente|BoletoEletronico|        104.8|    1|      1|          0|           1|                       1|              0|           0|                1|             1|      1|              1|           1|\n",
            "|  9|         0|             62|        DSL|       UmAno|   DebitoEmConta|        56.15|    0|      0|          1|           1|                       0|              1|           1|                0|             0|      0|              0|           0|\n",
            "| 10|         0|             13|        DSL| Mensalmente|          Boleto|        49.95|    0|      1|          1|           1|                       0|              1|           0|                0|             0|      0|              0|           1|\n",
            "| 11|         0|             16|        Nao|    DoisAnos|   CartaoCredito|        18.95|    0|      0|          0|           1|                       0|              0|           0|                0|             0|      0|              0|           0|\n",
            "| 12|         0|             58|FibraOptica|       UmAno|   CartaoCredito|       100.35|    0|      1|          0|           1|                       1|              0|           0|                1|             0|      1|              1|           0|\n",
            "| 13|         0|             49|FibraOptica| Mensalmente|   DebitoEmConta|        103.7|    1|      0|          0|           1|                       1|              0|           1|                1|             0|      1|              1|           1|\n",
            "| 14|         0|             25|FibraOptica| Mensalmente|BoletoEletronico|        105.5|    0|      0|          0|           1|                       0|              1|           0|                1|             1|      1|              1|           1|\n",
            "| 15|         0|             69|FibraOptica|    DoisAnos|   CartaoCredito|       113.25|    0|      1|          1|           1|                       1|              1|           1|                1|             1|      1|              1|           0|\n",
            "| 16|         0|             52|        Nao|       UmAno|          Boleto|        20.65|    0|      0|          0|           1|                       0|              0|           0|                0|             0|      0|              0|           0|\n",
            "| 17|         0|             71|FibraOptica|    DoisAnos|   DebitoEmConta|        106.7|    0|      0|          1|           1|                       1|              1|           0|                1|             0|      1|              1|           0|\n",
            "| 18|         0|             10|        DSL| Mensalmente|   CartaoCredito|         55.2|    1|      1|          1|           1|                       0|              0|           0|                1|             1|      0|              0|           0|\n",
            "| 19|         0|             21|FibraOptica| Mensalmente|BoletoEletronico|        90.05|    0|      0|          0|           1|                       0|              0|           1|                1|             0|      0|              1|           1|\n",
            "+---+----------+---------------+-----------+------------+----------------+-------------+-----+-------+-----------+------------+------------------------+---------------+------------+-----------------+--------------+-------+---------------+------------+\n",
            "only showing top 20 rows\n",
            "\n"
          ]
        }
      ]
    },
    {
      "cell_type": "markdown",
      "source": [
        "## **1.5 Criando *Dummies***"
      ],
      "metadata": {
        "id": "FLn2a7ym7MLp"
      }
    },
    {
      "cell_type": "code",
      "source": [
        "dataset.printSchema()"
      ],
      "metadata": {
        "id": "E_Hs2oXj9-pq",
        "colab": {
          "base_uri": "https://localhost:8080/"
        },
        "outputId": "77f2a34b-eaeb-4833-8e4d-2d1261e45126"
      },
      "execution_count": null,
      "outputs": [
        {
          "output_type": "stream",
          "name": "stdout",
          "text": [
            "root\n",
            " |-- id: integer (nullable = true)\n",
            " |-- Mais65anos: integer (nullable = true)\n",
            " |-- MesesDeContrato: integer (nullable = true)\n",
            " |-- Internet: string (nullable = true)\n",
            " |-- TipoContrato: string (nullable = true)\n",
            " |-- MetodoPagamento: string (nullable = true)\n",
            " |-- MesesCobrados: double (nullable = true)\n",
            " |-- Churn: integer (nullable = false)\n",
            " |-- Conjuge: integer (nullable = false)\n",
            " |-- Dependentes: integer (nullable = false)\n",
            " |-- TelefoneFixo: integer (nullable = false)\n",
            " |-- MaisDeUmaLinhaTelefonica: integer (nullable = false)\n",
            " |-- SegurancaOnline: integer (nullable = false)\n",
            " |-- BackupOnline: integer (nullable = false)\n",
            " |-- SeguroDispositivo: integer (nullable = false)\n",
            " |-- SuporteTecnico: integer (nullable = false)\n",
            " |-- TVaCabo: integer (nullable = false)\n",
            " |-- StreamingFilmes: integer (nullable = false)\n",
            " |-- ContaCorreio: integer (nullable = false)\n",
            "\n"
          ]
        }
      ]
    },
    {
      "cell_type": "code",
      "source": [
        "dataset.select(['Internet', 'TipoContrato', 'MetodoPagamento']).show()"
      ],
      "metadata": {
        "id": "DFJx294nMCit",
        "colab": {
          "base_uri": "https://localhost:8080/"
        },
        "outputId": "0fd95ff1-887b-4e7d-8d8f-f0cbe673c0bd"
      },
      "execution_count": null,
      "outputs": [
        {
          "output_type": "stream",
          "name": "stdout",
          "text": [
            "+-----------+------------+----------------+\n",
            "|   Internet|TipoContrato| MetodoPagamento|\n",
            "+-----------+------------+----------------+\n",
            "|        DSL| Mensalmente|BoletoEletronico|\n",
            "|        DSL|       UmAno|          Boleto|\n",
            "|        DSL| Mensalmente|          Boleto|\n",
            "|        DSL|       UmAno|   DebitoEmConta|\n",
            "|FibraOptica| Mensalmente|BoletoEletronico|\n",
            "|FibraOptica| Mensalmente|BoletoEletronico|\n",
            "|FibraOptica| Mensalmente|   CartaoCredito|\n",
            "|        DSL| Mensalmente|          Boleto|\n",
            "|FibraOptica| Mensalmente|BoletoEletronico|\n",
            "|        DSL|       UmAno|   DebitoEmConta|\n",
            "|        DSL| Mensalmente|          Boleto|\n",
            "|        Nao|    DoisAnos|   CartaoCredito|\n",
            "|FibraOptica|       UmAno|   CartaoCredito|\n",
            "|FibraOptica| Mensalmente|   DebitoEmConta|\n",
            "|FibraOptica| Mensalmente|BoletoEletronico|\n",
            "|FibraOptica|    DoisAnos|   CartaoCredito|\n",
            "|        Nao|       UmAno|          Boleto|\n",
            "|FibraOptica|    DoisAnos|   DebitoEmConta|\n",
            "|        DSL| Mensalmente|   CartaoCredito|\n",
            "|FibraOptica| Mensalmente|BoletoEletronico|\n",
            "+-----------+------------+----------------+\n",
            "only showing top 20 rows\n",
            "\n"
          ]
        }
      ]
    },
    {
      "cell_type": "code",
      "source": [
        "dataset.groupBy('id').pivot('MetodoPagamento').agg(f.lit(1)).na.fill(0).show()"
      ],
      "metadata": {
        "id": "jHb0pPZXPrYa",
        "colab": {
          "base_uri": "https://localhost:8080/"
        },
        "outputId": "276fe505-60e0-4944-e1f9-046702b8a4fb"
      },
      "execution_count": null,
      "outputs": [
        {
          "output_type": "stream",
          "name": "stdout",
          "text": [
            "+-----+------+----------------+-------------+-------------+\n",
            "|   id|Boleto|BoletoEletronico|CartaoCredito|DebitoEmConta|\n",
            "+-----+------+----------------+-------------+-------------+\n",
            "| 3997|     0|               0|            1|            0|\n",
            "| 7554|     0|               1|            0|            0|\n",
            "| 6336|     0|               1|            0|            0|\n",
            "| 6357|     0|               1|            0|            0|\n",
            "| 9427|     0|               0|            1|            0|\n",
            "| 2659|     0|               0|            1|            0|\n",
            "|  471|     0|               1|            0|            0|\n",
            "| 4935|     0|               0|            1|            0|\n",
            "| 4818|     0|               0|            1|            0|\n",
            "| 1342|     1|               0|            0|            0|\n",
            "| 1959|     0|               1|            0|            0|\n",
            "| 9376|     0|               0|            1|            0|\n",
            "| 2366|     0|               1|            0|            0|\n",
            "| 1580|     0|               0|            0|            1|\n",
            "| 9900|     0|               1|            0|            0|\n",
            "| 9852|     1|               0|            0|            0|\n",
            "| 3918|     0|               1|            0|            0|\n",
            "| 7880|     0|               1|            0|            0|\n",
            "| 1238|     0|               1|            0|            0|\n",
            "|10206|     0|               1|            0|            0|\n",
            "+-----+------+----------------+-------------+-------------+\n",
            "only showing top 20 rows\n",
            "\n"
          ]
        }
      ]
    },
    {
      "cell_type": "code",
      "source": [
        "Internet = dataset.groupBy('id').pivot('Internet').agg(f.lit(1)).na.fill(0)\n",
        "TipoContrato = dataset.groupBy('id').pivot('TipoContrato').agg(f.lit(1)).na.fill(0)\n",
        "MetodoPagamento = dataset.groupBy('id').pivot('MetodoPagamento').agg(f.lit(1)).na.fill(0)"
      ],
      "metadata": {
        "id": "B1FK7TOmRSYF"
      },
      "execution_count": null,
      "outputs": []
    },
    {
      "cell_type": "code",
      "source": [
        "dataset\\\n",
        "    .join(Internet, 'id', how='inner')\\\n",
        "    .join(TipoContrato, 'id', how='inner')\\\n",
        "    .join(MetodoPagamento, 'id', how='inner')\\\n",
        "    .select(\n",
        "        '*',\n",
        "        f.col('DSL').alias('Internet_DSL'),\n",
        "        f.col('FibraOptica').alias('Internet_FibraOptica'),\n",
        "        f.col('Nao').alias('Internet_Nao'),\n",
        "        f.col('Mensalmente').alias('TipoContrato_Mensalmente'),\n",
        "        f.col('UmAno').alias('TipoContrato_UmAno'),\n",
        "        f.col('DoisAnos').alias('TipoContrato_DoisAnos'),\n",
        "        f.col('DebitoEmConta').alias('MetodoPagamento_DebitoEmConta'),\n",
        "        f.col('CartaoCredito').alias('MetodoPagamento_CartaoCredito'),\n",
        "        f.col('BoletoEletronico').alias('MetodoPagamento_BoletoEletronico'),\n",
        "        f.col('Boleto').alias('MetodoPagamento_Boleto')\n",
        "    ).drop(\n",
        "        'Internet', 'TipoContrato', 'MetodoPagamento', 'DSL',\n",
        "        'FibraOptica', 'Nao', 'Mensalmente', 'UmAno', 'DoisAnos',\n",
        "        'DebitoEmConta', 'CartaoCredito', 'BoletoEletronico', 'Boleto'\n",
        "    ).show()"
      ],
      "metadata": {
        "id": "HVfjs5MBw5-a",
        "colab": {
          "base_uri": "https://localhost:8080/"
        },
        "outputId": "68ce3457-bea0-43b2-b224-78878f540818"
      },
      "execution_count": null,
      "outputs": [
        {
          "output_type": "stream",
          "name": "stdout",
          "text": [
            "+----+----------+---------------+-----------------+-----+-------+-----------+------------+------------------------+---------------+------------+-----------------+--------------+-------+---------------+------------+------------+--------------------+------------+------------------------+------------------+---------------------+-----------------------------+-----------------------------+--------------------------------+----------------------+\n",
            "|  id|Mais65anos|MesesDeContrato|    MesesCobrados|Churn|Conjuge|Dependentes|TelefoneFixo|MaisDeUmaLinhaTelefonica|SegurancaOnline|BackupOnline|SeguroDispositivo|SuporteTecnico|TVaCabo|StreamingFilmes|ContaCorreio|Internet_DSL|Internet_FibraOptica|Internet_Nao|TipoContrato_Mensalmente|TipoContrato_UmAno|TipoContrato_DoisAnos|MetodoPagamento_DebitoEmConta|MetodoPagamento_CartaoCredito|MetodoPagamento_BoletoEletronico|MetodoPagamento_Boleto|\n",
            "+----+----------+---------------+-----------------+-----+-------+-----------+------------+------------------------+---------------+------------+-----------------+--------------+-------+---------------+------------+------------+--------------------+------------+------------------------+------------------+---------------------+-----------------------------+-----------------------------+--------------------------------+----------------------+\n",
            "|7982|         0|              1|45.30540797610398|    1|      0|          0|           0|                       0|              0|           0|                0|             0|      1|              1|           1|           1|                   0|           0|                       1|                 0|                    0|                            0|                            0|                               1|                     0|\n",
            "|9465|         0|             60|103.6142230120257|    1|      1|          0|           1|                       1|              0|           1|                1|             0|      1|              1|           1|           0|                   1|           0|                       1|                 0|                    0|                            0|                            0|                               1|                     0|\n",
            "|2122|         0|             12|            75.85|    0|      0|          0|           1|                       1|              0|           0|                0|             1|      1|              1|           1|           1|                   0|           0|                       0|                 1|                    0|                            0|                            0|                               0|                     1|\n",
            "|3997|         0|             69|            61.45|    0|      1|          0|           1|                       0|              0|           1|                0|             0|      0|              1|           1|           1|                   0|           0|                       0|                 0|                    1|                            0|                            1|                               0|                     0|\n",
            "|6654|         0|              7|             86.5|    1|      1|          0|           1|                       1|              0|           0|                0|             0|      1|              0|           1|           0|                   1|           0|                       1|                 0|                    0|                            0|                            0|                               1|                     0|\n",
            "|7880|         0|             14|85.03742670311915|    1|      0|          0|           1|                       1|              0|           0|                0|             0|      0|              1|           1|           0|                   1|           0|                       1|                 0|                    0|                            0|                            0|                               1|                     0|\n",
            "|4519|         0|             57|            109.4|    0|      1|          0|           1|                       1|              0|           1|                1|             1|      1|              1|           1|           0|                   1|           0|                       0|                 1|                    0|                            1|                            0|                               0|                     0|\n",
            "|6466|         0|             18|            74.15|    0|      0|          0|           1|                       1|              0|           0|                0|             0|      0|              0|           0|           0|                   1|           0|                       1|                 0|                    0|                            0|                            0|                               0|                     1|\n",
            "| 496|         0|             28|             60.9|    0|      1|          0|           1|                       0|              1|           1|                0|             1|      0|              0|           0|           1|                   0|           0|                       1|                 0|                    0|                            0|                            0|                               0|                     1|\n",
            "|7833|         0|             46| 80.8824189403559|    1|      1|          0|           1|                       0|              0|           0|                0|             0|      0|              1|           1|           0|                   1|           0|                       1|                 0|                    0|                            0|                            0|                               1|                     0|\n",
            "|1591|         0|             17|             21.1|    0|      0|          0|           1|                       0|              0|           0|                0|             0|      0|              0|           0|           0|                   0|           1|                       1|                 0|                    0|                            0|                            1|                               0|                     0|\n",
            "|2866|         0|             12|             84.6|    0|      0|          0|           1|                       0|              0|           1|                0|             0|      0|              1|           1|           0|                   1|           0|                       1|                 0|                    0|                            0|                            0|                               1|                     0|\n",
            "|8592|         0|              5|82.71735660557214|    1|      1|          0|           1|                       1|              0|           0|                0|             0|      1|              0|           1|           0|                   1|           0|                       1|                 0|                    0|                            0|                            0|                               1|                     0|\n",
            "|1829|         0|              8|            74.85|    0|      0|          0|           1|                       1|              0|           0|                0|             0|      0|              0|           1|           0|                   1|           0|                       1|                 0|                    0|                            0|                            0|                               1|                     0|\n",
            "| 463|         0|              7|             99.8|    1|      0|          0|           1|                       1|              0|           1|                0|             0|      1|              1|           1|           0|                   1|           0|                       1|                 0|                    0|                            0|                            0|                               1|                     0|\n",
            "|4900|         1|             37|             85.7|    1|      1|          0|           1|                       1|              0|           0|                0|             0|      1|              0|           1|           0|                   1|           0|                       1|                 0|                    0|                            0|                            0|                               1|                     0|\n",
            "|4818|         1|             64|             80.3|    0|      1|          0|           1|                       0|              1|           0|                1|             0|      0|              0|           0|           0|                   1|           0|                       0|                 1|                    0|                            0|                            1|                               0|                     0|\n",
            "|7554|         0|              1|50.74303124820026|    1|      0|          0|           1|                       0|              0|           1|                0|             0|      0|              0|           0|           1|                   0|           0|                       1|                 0|                    0|                            0|                            0|                               1|                     0|\n",
            "|1342|         0|              8|             20.0|    0|      0|          0|           1|                       0|              0|           0|                0|             0|      0|              0|           0|           0|                   0|           1|                       0|                 0|                    1|                            0|                            0|                               0|                     1|\n",
            "|5300|         0|              1|            80.05|    1|      1|          1|           1|                       0|              0|           0|                0|             0|      1|              0|           1|           0|                   1|           0|                       1|                 0|                    0|                            0|                            0|                               0|                     1|\n",
            "+----+----------+---------------+-----------------+-----+-------+-----------+------------+------------------------+---------------+------------+-----------------+--------------+-------+---------------+------------+------------+--------------------+------------+------------------------+------------------+---------------------+-----------------------------+-----------------------------+--------------------------------+----------------------+\n",
            "only showing top 20 rows\n",
            "\n"
          ]
        }
      ]
    },
    {
      "cell_type": "code",
      "source": [
        "dataset = dataset\\\n",
        "    .join(Internet, 'id', how='inner')\\\n",
        "    .join(TipoContrato, 'id', how='inner')\\\n",
        "    .join(MetodoPagamento, 'id', how='inner')\\\n",
        "    .select(\n",
        "        '*',\n",
        "        f.col('DSL').alias('Internet_DSL'),\n",
        "        f.col('FibraOptica').alias('Internet_FibraOptica'),\n",
        "        f.col('Nao').alias('Internet_Nao'),\n",
        "        f.col('Mensalmente').alias('TipoContrato_Mensalmente'),\n",
        "        f.col('UmAno').alias('TipoContrato_UmAno'),\n",
        "        f.col('DoisAnos').alias('TipoContrato_DoisAnos'),\n",
        "        f.col('DebitoEmConta').alias('MetodoPagamento_DebitoEmConta'),\n",
        "        f.col('CartaoCredito').alias('MetodoPagamento_CartaoCredito'),\n",
        "        f.col('BoletoEletronico').alias('MetodoPagamento_BoletoEletronico'),\n",
        "        f.col('Boleto').alias('MetodoPagamento_Boleto')\n",
        "    ).drop(\n",
        "        'Internet', 'TipoContrato', 'MetodoPagamento', 'DSL',\n",
        "        'FibraOptica', 'Nao', 'Mensalmente', 'UmAno', 'DoisAnos',\n",
        "        'DebitoEmConta', 'CartaoCredito', 'BoletoEletronico', 'Boleto'\n",
        "    )"
      ],
      "metadata": {
        "id": "D58P834Tzd99"
      },
      "execution_count": null,
      "outputs": []
    },
    {
      "cell_type": "code",
      "source": [
        "dataset.show()"
      ],
      "metadata": {
        "id": "Z5cSmXRCvmEC",
        "colab": {
          "base_uri": "https://localhost:8080/"
        },
        "outputId": "9f3cff5e-12d3-42ec-a70d-a22577c99ba7"
      },
      "execution_count": null,
      "outputs": [
        {
          "output_type": "stream",
          "name": "stdout",
          "text": [
            "+----+----------+---------------+-----------------+-----+-------+-----------+------------+------------------------+---------------+------------+-----------------+--------------+-------+---------------+------------+------------+--------------------+------------+------------------------+------------------+---------------------+-----------------------------+-----------------------------+--------------------------------+----------------------+\n",
            "|  id|Mais65anos|MesesDeContrato|    MesesCobrados|Churn|Conjuge|Dependentes|TelefoneFixo|MaisDeUmaLinhaTelefonica|SegurancaOnline|BackupOnline|SeguroDispositivo|SuporteTecnico|TVaCabo|StreamingFilmes|ContaCorreio|Internet_DSL|Internet_FibraOptica|Internet_Nao|TipoContrato_Mensalmente|TipoContrato_UmAno|TipoContrato_DoisAnos|MetodoPagamento_DebitoEmConta|MetodoPagamento_CartaoCredito|MetodoPagamento_BoletoEletronico|MetodoPagamento_Boleto|\n",
            "+----+----------+---------------+-----------------+-----+-------+-----------+------------+------------------------+---------------+------------+-----------------+--------------+-------+---------------+------------+------------+--------------------+------------+------------------------+------------------+---------------------+-----------------------------+-----------------------------+--------------------------------+----------------------+\n",
            "|7982|         0|              1|45.30540797610398|    1|      0|          0|           0|                       0|              0|           0|                0|             0|      1|              1|           1|           1|                   0|           0|                       1|                 0|                    0|                            0|                            0|                               1|                     0|\n",
            "|9465|         0|             60|103.6142230120257|    1|      1|          0|           1|                       1|              0|           1|                1|             0|      1|              1|           1|           0|                   1|           0|                       1|                 0|                    0|                            0|                            0|                               1|                     0|\n",
            "|2122|         0|             12|            75.85|    0|      0|          0|           1|                       1|              0|           0|                0|             1|      1|              1|           1|           1|                   0|           0|                       0|                 1|                    0|                            0|                            0|                               0|                     1|\n",
            "|3997|         0|             69|            61.45|    0|      1|          0|           1|                       0|              0|           1|                0|             0|      0|              1|           1|           1|                   0|           0|                       0|                 0|                    1|                            0|                            1|                               0|                     0|\n",
            "|6654|         0|              7|             86.5|    1|      1|          0|           1|                       1|              0|           0|                0|             0|      1|              0|           1|           0|                   1|           0|                       1|                 0|                    0|                            0|                            0|                               1|                     0|\n",
            "|7880|         0|             14|85.03742670311915|    1|      0|          0|           1|                       1|              0|           0|                0|             0|      0|              1|           1|           0|                   1|           0|                       1|                 0|                    0|                            0|                            0|                               1|                     0|\n",
            "|4519|         0|             57|            109.4|    0|      1|          0|           1|                       1|              0|           1|                1|             1|      1|              1|           1|           0|                   1|           0|                       0|                 1|                    0|                            1|                            0|                               0|                     0|\n",
            "|6466|         0|             18|            74.15|    0|      0|          0|           1|                       1|              0|           0|                0|             0|      0|              0|           0|           0|                   1|           0|                       1|                 0|                    0|                            0|                            0|                               0|                     1|\n",
            "| 496|         0|             28|             60.9|    0|      1|          0|           1|                       0|              1|           1|                0|             1|      0|              0|           0|           1|                   0|           0|                       1|                 0|                    0|                            0|                            0|                               0|                     1|\n",
            "|7833|         0|             46| 80.8824189403559|    1|      1|          0|           1|                       0|              0|           0|                0|             0|      0|              1|           1|           0|                   1|           0|                       1|                 0|                    0|                            0|                            0|                               1|                     0|\n",
            "|1591|         0|             17|             21.1|    0|      0|          0|           1|                       0|              0|           0|                0|             0|      0|              0|           0|           0|                   0|           1|                       1|                 0|                    0|                            0|                            1|                               0|                     0|\n",
            "|2866|         0|             12|             84.6|    0|      0|          0|           1|                       0|              0|           1|                0|             0|      0|              1|           1|           0|                   1|           0|                       1|                 0|                    0|                            0|                            0|                               1|                     0|\n",
            "|8592|         0|              5|82.71735660557214|    1|      1|          0|           1|                       1|              0|           0|                0|             0|      1|              0|           1|           0|                   1|           0|                       1|                 0|                    0|                            0|                            0|                               1|                     0|\n",
            "|1829|         0|              8|            74.85|    0|      0|          0|           1|                       1|              0|           0|                0|             0|      0|              0|           1|           0|                   1|           0|                       1|                 0|                    0|                            0|                            0|                               1|                     0|\n",
            "| 463|         0|              7|             99.8|    1|      0|          0|           1|                       1|              0|           1|                0|             0|      1|              1|           1|           0|                   1|           0|                       1|                 0|                    0|                            0|                            0|                               1|                     0|\n",
            "|4900|         1|             37|             85.7|    1|      1|          0|           1|                       1|              0|           0|                0|             0|      1|              0|           1|           0|                   1|           0|                       1|                 0|                    0|                            0|                            0|                               1|                     0|\n",
            "|4818|         1|             64|             80.3|    0|      1|          0|           1|                       0|              1|           0|                1|             0|      0|              0|           0|           0|                   1|           0|                       0|                 1|                    0|                            0|                            1|                               0|                     0|\n",
            "|7554|         0|              1|50.74303124820026|    1|      0|          0|           1|                       0|              0|           1|                0|             0|      0|              0|           0|           1|                   0|           0|                       1|                 0|                    0|                            0|                            0|                               1|                     0|\n",
            "|1342|         0|              8|             20.0|    0|      0|          0|           1|                       0|              0|           0|                0|             0|      0|              0|           0|           0|                   0|           1|                       0|                 0|                    1|                            0|                            0|                               0|                     1|\n",
            "|5300|         0|              1|            80.05|    1|      1|          1|           1|                       0|              0|           0|                0|             0|      1|              0|           1|           0|                   1|           0|                       1|                 0|                    0|                            0|                            0|                               0|                     1|\n",
            "+----+----------+---------------+-----------------+-----+-------+-----------+------------+------------------------+---------------+------------+-----------------+--------------+-------+---------------+------------+------------+--------------------+------------+------------------------+------------------+---------------------+-----------------------------+-----------------------------+--------------------------------+----------------------+\n",
            "only showing top 20 rows\n",
            "\n"
          ]
        }
      ]
    },
    {
      "cell_type": "markdown",
      "source": [],
      "metadata": {
        "id": "3cnBL2yHKZnG"
      }
    },
    {
      "cell_type": "code",
      "source": [
        "dataset.printSchema()"
      ],
      "metadata": {
        "id": "zFSSoSTYKY10",
        "colab": {
          "base_uri": "https://localhost:8080/"
        },
        "outputId": "b997032c-1203-4b7c-ce83-d54205613807"
      },
      "execution_count": null,
      "outputs": [
        {
          "output_type": "stream",
          "name": "stdout",
          "text": [
            "root\n",
            " |-- id: integer (nullable = true)\n",
            " |-- Mais65anos: integer (nullable = true)\n",
            " |-- MesesDeContrato: integer (nullable = true)\n",
            " |-- MesesCobrados: double (nullable = true)\n",
            " |-- Churn: integer (nullable = false)\n",
            " |-- Conjuge: integer (nullable = false)\n",
            " |-- Dependentes: integer (nullable = false)\n",
            " |-- TelefoneFixo: integer (nullable = false)\n",
            " |-- MaisDeUmaLinhaTelefonica: integer (nullable = false)\n",
            " |-- SegurancaOnline: integer (nullable = false)\n",
            " |-- BackupOnline: integer (nullable = false)\n",
            " |-- SeguroDispositivo: integer (nullable = false)\n",
            " |-- SuporteTecnico: integer (nullable = false)\n",
            " |-- TVaCabo: integer (nullable = false)\n",
            " |-- StreamingFilmes: integer (nullable = false)\n",
            " |-- ContaCorreio: integer (nullable = false)\n",
            " |-- Internet_DSL: integer (nullable = true)\n",
            " |-- Internet_FibraOptica: integer (nullable = true)\n",
            " |-- Internet_Nao: integer (nullable = true)\n",
            " |-- TipoContrato_Mensalmente: integer (nullable = true)\n",
            " |-- TipoContrato_UmAno: integer (nullable = true)\n",
            " |-- TipoContrato_DoisAnos: integer (nullable = true)\n",
            " |-- MetodoPagamento_DebitoEmConta: integer (nullable = true)\n",
            " |-- MetodoPagamento_CartaoCredito: integer (nullable = true)\n",
            " |-- MetodoPagamento_BoletoEletronico: integer (nullable = true)\n",
            " |-- MetodoPagamento_Boleto: integer (nullable = true)\n",
            "\n"
          ]
        }
      ]
    },
    {
      "cell_type": "code",
      "source": [
        "from pyspark.ml.feature import VectorAssembler"
      ],
      "metadata": {
        "id": "dTnCEhhZKYzC"
      },
      "execution_count": null,
      "outputs": []
    },
    {
      "cell_type": "code",
      "source": [
        "dataset = dataset.withColumnRenamed('Churn', 'label')"
      ],
      "metadata": {
        "id": "ihE4PcZ9KYwQ"
      },
      "execution_count": null,
      "outputs": []
    },
    {
      "cell_type": "code",
      "source": [
        "X = dataset.columns\n",
        "X.remove('label')\n",
        "X.remove('id')\n",
        "X"
      ],
      "metadata": {
        "id": "PiA1i__YKYto",
        "colab": {
          "base_uri": "https://localhost:8080/"
        },
        "outputId": "34c5ecc8-e6f5-4ce4-f24d-189e151c9579"
      },
      "execution_count": null,
      "outputs": [
        {
          "output_type": "execute_result",
          "data": {
            "text/plain": [
              "['Mais65anos',\n",
              " 'MesesDeContrato',\n",
              " 'MesesCobrados',\n",
              " 'Conjuge',\n",
              " 'Dependentes',\n",
              " 'TelefoneFixo',\n",
              " 'MaisDeUmaLinhaTelefonica',\n",
              " 'SegurancaOnline',\n",
              " 'BackupOnline',\n",
              " 'SeguroDispositivo',\n",
              " 'SuporteTecnico',\n",
              " 'TVaCabo',\n",
              " 'StreamingFilmes',\n",
              " 'ContaCorreio',\n",
              " 'Internet_DSL',\n",
              " 'Internet_FibraOptica',\n",
              " 'Internet_Nao',\n",
              " 'TipoContrato_Mensalmente',\n",
              " 'TipoContrato_UmAno',\n",
              " 'TipoContrato_DoisAnos',\n",
              " 'MetodoPagamento_DebitoEmConta',\n",
              " 'MetodoPagamento_CartaoCredito',\n",
              " 'MetodoPagamento_BoletoEletronico',\n",
              " 'MetodoPagamento_Boleto']"
            ]
          },
          "metadata": {},
          "execution_count": 293
        }
      ]
    },
    {
      "cell_type": "code",
      "source": [
        "assembler = VectorAssembler(inputCols = X, outputCol = 'features')"
      ],
      "metadata": {
        "id": "efKlYwS1KYqz"
      },
      "execution_count": null,
      "outputs": []
    },
    {
      "cell_type": "code",
      "source": [
        "dataset_prep = assembler.transform(dataset).select('features', 'label')"
      ],
      "metadata": {
        "id": "PeY-woLJKYoF"
      },
      "execution_count": null,
      "outputs": []
    },
    {
      "cell_type": "code",
      "source": [
        "dataset_prep.show(12, truncate = False)"
      ],
      "metadata": {
        "id": "0EZJx1yqKYlL",
        "colab": {
          "base_uri": "https://localhost:8080/"
        },
        "outputId": "d8b77b6a-8d97-44c2-b161-3c2a0d0084c4"
      },
      "execution_count": null,
      "outputs": [
        {
          "output_type": "stream",
          "name": "stdout",
          "text": [
            "+-----------------------------------------------------------------------------------------------------------+-----+\n",
            "|features                                                                                                   |label|\n",
            "+-----------------------------------------------------------------------------------------------------------+-----+\n",
            "|(24,[1,2,11,12,13,14,17,22],[1.0,45.30540797610398,1.0,1.0,1.0,1.0,1.0,1.0])                               |1    |\n",
            "|(24,[1,2,3,5,6,8,9,11,12,13,15,17,22],[60.0,103.6142230120257,1.0,1.0,1.0,1.0,1.0,1.0,1.0,1.0,1.0,1.0,1.0])|1    |\n",
            "|(24,[1,2,5,6,10,11,12,13,14,18,23],[12.0,75.85,1.0,1.0,1.0,1.0,1.0,1.0,1.0,1.0,1.0])                       |0    |\n",
            "|(24,[1,2,3,5,8,12,13,14,19,21],[69.0,61.45,1.0,1.0,1.0,1.0,1.0,1.0,1.0,1.0])                               |0    |\n",
            "|(24,[1,2,3,5,6,11,13,15,17,22],[7.0,86.5,1.0,1.0,1.0,1.0,1.0,1.0,1.0,1.0])                                 |1    |\n",
            "|(24,[1,2,5,6,12,13,15,17,22],[14.0,85.03742670311915,1.0,1.0,1.0,1.0,1.0,1.0,1.0])                         |1    |\n",
            "|(24,[1,2,3,5,6,8,9,10,11,12,13,15,18,20],[57.0,109.4,1.0,1.0,1.0,1.0,1.0,1.0,1.0,1.0,1.0,1.0,1.0,1.0])     |0    |\n",
            "|(24,[1,2,5,6,15,17,23],[18.0,74.15,1.0,1.0,1.0,1.0,1.0])                                                   |0    |\n",
            "|(24,[1,2,3,5,7,8,10,14,17,23],[28.0,60.9,1.0,1.0,1.0,1.0,1.0,1.0,1.0,1.0])                                 |0    |\n",
            "|(24,[1,2,3,5,12,13,15,17,22],[46.0,80.8824189403559,1.0,1.0,1.0,1.0,1.0,1.0,1.0])                          |1    |\n",
            "|(24,[1,2,5,16,17,21],[17.0,21.1,1.0,1.0,1.0,1.0])                                                          |0    |\n",
            "|(24,[1,2,5,8,12,13,15,17,22],[12.0,84.6,1.0,1.0,1.0,1.0,1.0,1.0,1.0])                                      |0    |\n",
            "+-----------------------------------------------------------------------------------------------------------+-----+\n",
            "only showing top 12 rows\n",
            "\n"
          ]
        }
      ]
    },
    {
      "cell_type": "code",
      "source": [
        "SEED = 101\n",
        "treino, teste = dataset_prep.randomSplit([0.7, 0.3], seed=SEED)"
      ],
      "metadata": {
        "id": "LfI2JIBGKYiY"
      },
      "execution_count": null,
      "outputs": []
    },
    {
      "cell_type": "code",
      "source": [
        "treino.show()"
      ],
      "metadata": {
        "id": "6EYUfyK2KYfk",
        "colab": {
          "base_uri": "https://localhost:8080/"
        },
        "outputId": "b0d09984-374e-44b7-f7b2-62be3119d111"
      },
      "execution_count": null,
      "outputs": [
        {
          "output_type": "stream",
          "name": "stdout",
          "text": [
            "+--------------------+-----+\n",
            "|            features|label|\n",
            "+--------------------+-----+\n",
            "|(24,[0,1,2,3,4,5,...|    0|\n",
            "|(24,[0,1,2,3,4,5,...|    0|\n",
            "|(24,[0,1,2,3,4,5,...|    0|\n",
            "|(24,[0,1,2,3,4,5,...|    0|\n",
            "|(24,[0,1,2,3,4,5,...|    0|\n",
            "|(24,[0,1,2,3,4,5,...|    1|\n",
            "|(24,[0,1,2,3,4,5,...|    0|\n",
            "|(24,[0,1,2,3,4,5,...|    1|\n",
            "|(24,[0,1,2,3,4,5,...|    0|\n",
            "|(24,[0,1,2,3,4,5,...|    0|\n",
            "|(24,[0,1,2,3,4,5,...|    0|\n",
            "|(24,[0,1,2,3,4,5,...|    0|\n",
            "|(24,[0,1,2,3,4,5,...|    0|\n",
            "|(24,[0,1,2,3,4,5,...|    0|\n",
            "|(24,[0,1,2,3,4,5,...|    0|\n",
            "|(24,[0,1,2,3,4,5,...|    1|\n",
            "|(24,[0,1,2,3,4,5,...|    0|\n",
            "|(24,[0,1,2,3,4,5,...|    0|\n",
            "|(24,[0,1,2,3,4,5,...|    0|\n",
            "|(24,[0,1,2,3,4,5,...|    0|\n",
            "+--------------------+-----+\n",
            "only showing top 20 rows\n",
            "\n"
          ]
        }
      ]
    },
    {
      "cell_type": "code",
      "source": [
        "from pyspark.ml.classification import LogisticRegression"
      ],
      "metadata": {
        "id": "zgp-iQXAKYc2"
      },
      "execution_count": null,
      "outputs": []
    },
    {
      "cell_type": "code",
      "source": [
        "lr = LogisticRegression()"
      ],
      "metadata": {
        "id": "TQLUaoKRKYZ9"
      },
      "execution_count": null,
      "outputs": []
    },
    {
      "cell_type": "code",
      "source": [
        "modelo_lr = lr.fit(treino)"
      ],
      "metadata": {
        "id": "MBaHsKAAKYXT"
      },
      "execution_count": null,
      "outputs": []
    },
    {
      "cell_type": "code",
      "source": [
        "previsoes_lr_teste= modelo_lr.transform(teste)"
      ],
      "metadata": {
        "id": "O3kATMfUKYUU"
      },
      "execution_count": null,
      "outputs": []
    },
    {
      "cell_type": "code",
      "source": [
        "previsoes_lr_teste.show(5)"
      ],
      "metadata": {
        "colab": {
          "base_uri": "https://localhost:8080/"
        },
        "id": "XBttS57VDFFq",
        "outputId": "c9413b38-e003-43ec-df5e-0717d6d33c3a"
      },
      "execution_count": null,
      "outputs": [
        {
          "output_type": "stream",
          "name": "stdout",
          "text": [
            "+--------------------+-----+--------------------+--------------------+----------+\n",
            "|            features|label|       rawPrediction|         probability|prediction|\n",
            "+--------------------+-----+--------------------+--------------------+----------+\n",
            "|(24,[0,1,2,3,4,5,...|    0|[3.02174179751551...|[0.95354674000282...|       0.0|\n",
            "|(24,[0,1,2,3,4,5,...|    0|[-0.0922192966076...|[0.47696150091605...|       1.0|\n",
            "|(24,[0,1,2,3,4,5,...|    1|[0.18744121711361...|[0.54672358463156...|       0.0|\n",
            "|(24,[0,1,2,3,4,5,...|    1|[0.91716501260103...|[0.71446410549163...|       0.0|\n",
            "|(24,[0,1,2,3,4,5,...|    0|[-0.1495904711610...|[0.46267196467801...|       1.0|\n",
            "+--------------------+-----+--------------------+--------------------+----------+\n",
            "only showing top 5 rows\n",
            "\n"
          ]
        }
      ]
    },
    {
      "cell_type": "code",
      "source": [
        "resumo_lr_treino = modelo_lr.summary"
      ],
      "metadata": {
        "id": "NOE3ArysDHTa"
      },
      "execution_count": null,
      "outputs": []
    },
    {
      "cell_type": "code",
      "source": [
        "resumo_lr_treino.accuracy"
      ],
      "metadata": {
        "colab": {
          "base_uri": "https://localhost:8080/"
        },
        "id": "N3rjRjLbDpdg",
        "outputId": "1c8e7945-9d10-4561-da8b-4bbc2056bb91"
      },
      "execution_count": null,
      "outputs": [
        {
          "output_type": "execute_result",
          "data": {
            "text/plain": [
              "0.7849014709963918"
            ]
          },
          "metadata": {},
          "execution_count": 305
        }
      ]
    },
    {
      "cell_type": "code",
      "source": [
        "print(\"Acurácia: %f\" % resumo_lr_treino.accuracy)\n",
        "print(\"Precisão: %f\" % resumo_lr_treino.precisionByLabel[1])\n",
        "print(\"Recall: %f\" % resumo_lr_treino.recallByLabel[1])\n",
        "print(\"F1: %f\" % resumo_lr_treino.fMeasureByLabel()[1])"
      ],
      "metadata": {
        "colab": {
          "base_uri": "https://localhost:8080/"
        },
        "id": "zOtKBWWtDyhv",
        "outputId": "31e3dbfb-9cc1-4b3a-d455-8b6b7b846a11"
      },
      "execution_count": null,
      "outputs": [
        {
          "output_type": "stream",
          "name": "stdout",
          "text": [
            "Acurácia: 0.784901\n",
            "Precisão: 0.770686\n",
            "Recall: 0.812517\n",
            "F1: 0.791049\n"
          ]
        }
      ]
    },
    {
      "cell_type": "code",
      "source": [
        "previsoes_lr_teste.select('label', 'prediction').show()"
      ],
      "metadata": {
        "colab": {
          "base_uri": "https://localhost:8080/"
        },
        "id": "LUYT31C5D0bg",
        "outputId": "86d2c25a-85da-4f43-c2f2-491407bb6ccf"
      },
      "execution_count": null,
      "outputs": [
        {
          "output_type": "stream",
          "name": "stdout",
          "text": [
            "+-----+----------+\n",
            "|label|prediction|\n",
            "+-----+----------+\n",
            "|    0|       0.0|\n",
            "|    0|       1.0|\n",
            "|    1|       0.0|\n",
            "|    1|       0.0|\n",
            "|    0|       1.0|\n",
            "|    0|       1.0|\n",
            "|    0|       1.0|\n",
            "|    0|       0.0|\n",
            "|    0|       0.0|\n",
            "|    0|       0.0|\n",
            "|    1|       1.0|\n",
            "|    1|       1.0|\n",
            "|    0|       0.0|\n",
            "|    0|       0.0|\n",
            "|    0|       0.0|\n",
            "|    0|       0.0|\n",
            "|    0|       0.0|\n",
            "|    0|       0.0|\n",
            "|    0|       0.0|\n",
            "|    0|       0.0|\n",
            "+-----+----------+\n",
            "only showing top 20 rows\n",
            "\n"
          ]
        }
      ]
    },
    {
      "cell_type": "code",
      "source": [
        "tp = previsoes_lr_teste.select('label', 'prediction').where((f.col('label') == 1) & (f.col('prediction') == 1)).count()"
      ],
      "metadata": {
        "id": "d61ip5KsEg1G"
      },
      "execution_count": null,
      "outputs": []
    },
    {
      "cell_type": "code",
      "source": [
        "tn = previsoes_lr_teste.select('label', 'prediction').where((f.col('label') == 0) & (f.col('prediction') == 0)).count()"
      ],
      "metadata": {
        "id": "_wgFGjKtEzxP"
      },
      "execution_count": null,
      "outputs": []
    },
    {
      "cell_type": "code",
      "source": [
        "fp = previsoes_lr_teste.select('label', 'prediction').where((f.col('label') == 0) & (f.col('prediction') == 1)).count()\n",
        "fn = previsoes_lr_teste.select('label', 'prediction').where((f.col('label') == 1) & (f.col('prediction') == 0)).count()"
      ],
      "metadata": {
        "id": "rDk-TTg8E9fU"
      },
      "execution_count": null,
      "outputs": []
    },
    {
      "cell_type": "code",
      "source": [
        "print(tp,tn,fp,fn)"
      ],
      "metadata": {
        "colab": {
          "base_uri": "https://localhost:8080/"
        },
        "id": "oD8nNkFSFJMa",
        "outputId": "07ce92e9-9a28-4b23-95fc-7028a50b5b09"
      },
      "execution_count": null,
      "outputs": [
        {
          "output_type": "stream",
          "name": "stdout",
          "text": [
            "1256 1179 400 307\n"
          ]
        }
      ]
    },
    {
      "cell_type": "code",
      "source": [
        "def calcula_mostra_matriz_confusao(df_transform_modelo, normalize=False, percentage=True):\n",
        "  tp = df_transform_modelo.select('label', 'prediction').where((f.col('label') == 1) & (f.col('prediction') == 1)).count()\n",
        "  tn = df_transform_modelo.select('label', 'prediction').where((f.col('label') == 0) & (f.col('prediction') == 0)).count()\n",
        "  fp = df_transform_modelo.select('label', 'prediction').where((f.col('label') == 0) & (f.col('prediction') == 1)).count()\n",
        "  fn = df_transform_modelo.select('label', 'prediction').where((f.col('label') == 1) & (f.col('prediction') == 0)).count()\n",
        "\n",
        "  valorP = 1\n",
        "  valorN = 1\n",
        "\n",
        "  if normalize:\n",
        "    valorP = tp + fn\n",
        "    valorN = fp + tn\n",
        "\n",
        "  if percentage and normalize:\n",
        "    valorP = valorP / 100\n",
        "    valorN = valorN / 100\n",
        "\n",
        "  print(' '*20, 'Previsto')\n",
        "  print(' '*15, 'Churn', ' '*5 ,'Não-Churn')\n",
        "  print(' '*4, 'Churn', ' '*6, int(tp/valorP), ' '*7, int(fn/valorP))\n",
        "  print('Real')\n",
        "  print(' '*4, 'Não-Churn', ' '*2, int(fp/valorN), ' '*7, int(tn/valorN))"
      ],
      "metadata": {
        "id": "jqG_lAdzFMVL"
      },
      "execution_count": null,
      "outputs": []
    },
    {
      "cell_type": "code",
      "source": [
        "calcula_mostra_matriz_confusao(previsoes_lr_teste, normalize=False)"
      ],
      "metadata": {
        "colab": {
          "base_uri": "https://localhost:8080/"
        },
        "id": "Kou16HsBFi6G",
        "outputId": "38bf1f07-d5e5-4edc-baf1-501214f7a626"
      },
      "execution_count": null,
      "outputs": [
        {
          "output_type": "stream",
          "name": "stdout",
          "text": [
            "                     Previsto\n",
            "                Churn       Não-Churn\n",
            "     Churn        1256         307\n",
            "Real\n",
            "     Não-Churn    400         1179\n"
          ]
        }
      ]
    },
    {
      "cell_type": "code",
      "source": [
        "from utils import calcula_mostra_metricas"
      ],
      "metadata": {
        "id": "vGB-gB5lFp4d"
      },
      "execution_count": null,
      "outputs": []
    },
    {
      "cell_type": "code",
      "source": [
        "from utils import calcula_mostra_metricas\n",
        "\n",
        "print(calcula_mostra_metricas(modelo_lr, previsoes_lr_teste, normalize=True))"
      ],
      "metadata": {
        "colab": {
          "base_uri": "https://localhost:8080/"
        },
        "id": "HVPs5VnmGP46",
        "outputId": "37e8fbaf-4135-4081-f668-ecf22d1358ee"
      },
      "execution_count": null,
      "outputs": [
        {
          "output_type": "stream",
          "name": "stdout",
          "text": [
            "                    Previsto\n",
            "               Churn     Não-Churn\n",
            "    Churn      80       19\n",
            "Real\n",
            "    Não-Churn  25       74\n",
            "\n",
            "Acurácia: 0.7849014709963918\n",
            "Precisão: 0.7706855791962175\n",
            "Recall: 0.8125173082248685\n",
            "F1: 0.7910488002156916\n",
            "\n"
          ]
        }
      ]
    },
    {
      "cell_type": "markdown",
      "source": [
        "Tentando com arvores de decisões"
      ],
      "metadata": {
        "id": "fWo3ydfKI0Y3"
      }
    },
    {
      "cell_type": "code",
      "source": [
        "from pyspark.ml.classification import DecisionTreeClassifier"
      ],
      "metadata": {
        "id": "QI_VIwh0I3x7"
      },
      "execution_count": null,
      "outputs": []
    },
    {
      "cell_type": "code",
      "source": [
        "dtc = DecisionTreeClassifier(seed = SEED)"
      ],
      "metadata": {
        "id": "8jWOizRrLkMe"
      },
      "execution_count": null,
      "outputs": []
    },
    {
      "cell_type": "code",
      "source": [
        "modelo_dtc = dtc.fit(treino)"
      ],
      "metadata": {
        "id": "UyRT9MbkLmef"
      },
      "execution_count": null,
      "outputs": []
    },
    {
      "cell_type": "code",
      "source": [
        "previsoes_modelo_dtc_treino = modelo_dtc.transform(treino)"
      ],
      "metadata": {
        "id": "NHbYh0gOLv_H"
      },
      "execution_count": null,
      "outputs": []
    },
    {
      "cell_type": "code",
      "source": [
        "previsoes_modelo_dtc_treino.show(10)"
      ],
      "metadata": {
        "colab": {
          "base_uri": "https://localhost:8080/"
        },
        "id": "c4vf_IPrMMT3",
        "outputId": "51df7e11-a04c-4b23-f27c-917fb8a2bf60"
      },
      "execution_count": null,
      "outputs": [
        {
          "output_type": "stream",
          "name": "stdout",
          "text": [
            "+--------------------+-----+--------------+--------------------+----------+\n",
            "|            features|label| rawPrediction|         probability|prediction|\n",
            "+--------------------+-----+--------------+--------------------+----------+\n",
            "|(24,[0,1,2,3,4,5,...|    0|[2056.0,334.0]|[0.86025104602510...|       0.0|\n",
            "|(24,[0,1,2,3,4,5,...|    0|[2056.0,334.0]|[0.86025104602510...|       0.0|\n",
            "|(24,[0,1,2,3,4,5,...|    0|    [22.0,3.0]|         [0.88,0.12]|       0.0|\n",
            "|(24,[0,1,2,3,4,5,...|    0|    [22.0,3.0]|         [0.88,0.12]|       0.0|\n",
            "|(24,[0,1,2,3,4,5,...|    0|    [22.0,3.0]|         [0.88,0.12]|       0.0|\n",
            "|(24,[0,1,2,3,4,5,...|    1|[331.0,1951.0]|[0.14504820333041...|       1.0|\n",
            "|(24,[0,1,2,3,4,5,...|    0| [239.0,205.0]|[0.53828828828828...|       0.0|\n",
            "|(24,[0,1,2,3,4,5,...|    1|[331.0,1951.0]|[0.14504820333041...|       1.0|\n",
            "|(24,[0,1,2,3,4,5,...|    0|[331.0,1951.0]|[0.14504820333041...|       1.0|\n",
            "|(24,[0,1,2,3,4,5,...|    0|[331.0,1951.0]|[0.14504820333041...|       1.0|\n",
            "+--------------------+-----+--------------+--------------------+----------+\n",
            "only showing top 10 rows\n",
            "\n"
          ]
        }
      ]
    },
    {
      "cell_type": "code",
      "source": [
        "previsoes_dtc_teste = modelo_dtc.transform(teste)"
      ],
      "metadata": {
        "id": "aeYV3N5nLwW6"
      },
      "execution_count": null,
      "outputs": []
    },
    {
      "cell_type": "code",
      "source": [
        "from pyspark.ml.evaluation import MulticlassClassificationEvaluator"
      ],
      "metadata": {
        "id": "QZ0CRNFgLwdE"
      },
      "execution_count": null,
      "outputs": []
    },
    {
      "cell_type": "code",
      "source": [
        "evaluator = MulticlassClassificationEvaluator()"
      ],
      "metadata": {
        "id": "dFPtfTI9M-TQ"
      },
      "execution_count": null,
      "outputs": []
    },
    {
      "cell_type": "code",
      "source": [
        "evaluator.evaluate(previsoes_modelo_dtc_treino, {evaluator.metricName:'accuracy'})"
      ],
      "metadata": {
        "colab": {
          "base_uri": "https://localhost:8080/"
        },
        "id": "5kQ69GjOM-ub",
        "outputId": "958c6ddd-67c8-4ef0-edd7-0c59a1e66937"
      },
      "execution_count": null,
      "outputs": [
        {
          "output_type": "execute_result",
          "data": {
            "text/plain": [
              "0.7917013599777962"
            ]
          },
          "metadata": {},
          "execution_count": 324
        }
      ]
    },
    {
      "cell_type": "code",
      "source": [
        "evaluator.evaluate(previsoes_dtc_teste, {evaluator.metricName:'accuracy'})"
      ],
      "metadata": {
        "colab": {
          "base_uri": "https://localhost:8080/"
        },
        "id": "8rEV-GxoM-xI",
        "outputId": "e970b0aa-d841-41a4-9b64-a6dab793efe1"
      },
      "execution_count": null,
      "outputs": [
        {
          "output_type": "execute_result",
          "data": {
            "text/plain": [
              "0.7714831317632082"
            ]
          },
          "metadata": {},
          "execution_count": 325
        }
      ]
    },
    {
      "cell_type": "code",
      "source": [
        "print(\"Acurácia: %f\" % evaluator.evaluate(previsoes_modelo_dtc_treino, {evaluator.metricName: \"accuracy\"}))\n",
        "print(\"Precisão: %f\" % evaluator.evaluate(previsoes_modelo_dtc_treino, {evaluator.metricName: \"precisionByLabel\", evaluator.metricLabel: 1}))\n",
        "print(\"Recall: %f\" % evaluator.evaluate(previsoes_modelo_dtc_treino, {evaluator.metricName: \"recallByLabel\", evaluator.metricLabel: 1}))\n",
        "print(\"F1: %f\" % evaluator.evaluate(previsoes_modelo_dtc_treino, {evaluator.metricName: \"fMeasureByLabel\", evaluator.metricLabel: 1}))"
      ],
      "metadata": {
        "colab": {
          "base_uri": "https://localhost:8080/"
        },
        "id": "vuIn5GlfM-0Y",
        "outputId": "52c63534-05ba-477d-9d2d-88fcea582387"
      },
      "execution_count": null,
      "outputs": [
        {
          "output_type": "stream",
          "name": "stdout",
          "text": [
            "Acurácia: 0.791701\n",
            "Precisão: 0.805090\n",
            "Recall: 0.770978\n",
            "F1: 0.787664\n"
          ]
        }
      ]
    },
    {
      "cell_type": "code",
      "source": [
        "print('Decision Tree Classifier')\n",
        "print(\"=\"*40)\n",
        "print(\"Dados de Treino\")\n",
        "print(\"=\"*40)\n",
        "print(\"Matriz de Confusão\")\n",
        "print(\"-\"*40)\n",
        "calcula_mostra_matriz_confusao(previsoes_modelo_dtc_treino, normalize=False)\n",
        "print(\"-\"*40)\n",
        "print(\"Métricas\")\n",
        "print(\"-\"*40)\n",
        "print(\"Acurácia: %f\" % evaluator.evaluate(previsoes_modelo_dtc_treino, {evaluator.metricName: \"accuracy\"}))\n",
        "print(\"Precisão: %f\" % evaluator.evaluate(previsoes_modelo_dtc_treino, {evaluator.metricName: \"precisionByLabel\", evaluator.metricLabel: 1}))\n",
        "print(\"Recall: %f\" % evaluator.evaluate(previsoes_modelo_dtc_treino, {evaluator.metricName: \"recallByLabel\", evaluator.metricLabel: 1}))\n",
        "print(\"F1: %f\" % evaluator.evaluate(previsoes_modelo_dtc_treino, {evaluator.metricName: \"fMeasureByLabel\", evaluator.metricLabel: 1}))\n",
        "print(\"\")\n",
        "print(\"=\"*40)\n",
        "print(\"Dados de Teste\")\n",
        "print(\"=\"*40)\n",
        "print(\"Matriz de Confusão\")\n",
        "print(\"-\"*40)\n",
        "calcula_mostra_matriz_confusao(previsoes_dtc_teste, normalize=False)\n",
        "print(\"-\"*40)\n",
        "print(\"Métricas\")\n",
        "print(\"-\"*40)\n",
        "print(\"Acurácia: %f\" % evaluator.evaluate(previsoes_dtc_teste, {evaluator.metricName: \"accuracy\"}))\n",
        "print(\"Precisão: %f\" % evaluator.evaluate(previsoes_dtc_teste, {evaluator.metricName: \"precisionByLabel\", evaluator.metricLabel: 1}))\n",
        "print(\"Recall: %f\" % evaluator.evaluate(previsoes_dtc_teste, {evaluator.metricName: \"recallByLabel\", evaluator.metricLabel: 1}))\n",
        "print(\"F1: %f\" % evaluator.evaluate(previsoes_dtc_teste, {evaluator.metricName: \"fMeasureByLabel\", evaluator.metricLabel: 1}))"
      ],
      "metadata": {
        "colab": {
          "base_uri": "https://localhost:8080/"
        },
        "id": "YY3YZeXWNfjr",
        "outputId": "d7b31152-6496-476c-b842-49fb637cf761"
      },
      "execution_count": null,
      "outputs": [
        {
          "output_type": "stream",
          "name": "stdout",
          "text": [
            "Decision Tree Classifier\n",
            "========================================\n",
            "Dados de Treino\n",
            "========================================\n",
            "Matriz de Confusão\n",
            "----------------------------------------\n",
            "                     Previsto\n",
            "                Churn       Não-Churn\n",
            "     Churn        2784         827\n",
            "Real\n",
            "     Não-Churn    674         2921\n",
            "----------------------------------------\n",
            "Métricas\n",
            "----------------------------------------\n",
            "Acurácia: 0.791701\n",
            "Precisão: 0.805090\n",
            "Recall: 0.770978\n",
            "F1: 0.787664\n",
            "\n",
            "========================================\n",
            "Dados de Teste\n",
            "========================================\n",
            "Matriz de Confusão\n",
            "----------------------------------------\n",
            "                     Previsto\n",
            "                Churn       Não-Churn\n",
            "     Churn        1181         382\n",
            "Real\n",
            "     Não-Churn    336         1243\n",
            "----------------------------------------\n",
            "Métricas\n",
            "----------------------------------------\n",
            "Acurácia: 0.771483\n",
            "Precisão: 0.778510\n",
            "Recall: 0.755598\n",
            "F1: 0.766883\n"
          ]
        }
      ]
    },
    {
      "cell_type": "code",
      "source": [
        "from utils2 import calcula_mostra_metricas_evaluate\n",
        "\n",
        "print(calcula_mostra_metricas_evaluate(previsoes_dtc_teste, normalize=False))"
      ],
      "metadata": {
        "colab": {
          "base_uri": "https://localhost:8080/"
        },
        "id": "ICMT5rt3ObeR",
        "outputId": "dbe33fef-ed5a-457c-911b-61f410058780"
      },
      "execution_count": null,
      "outputs": [
        {
          "output_type": "stream",
          "name": "stdout",
          "text": [
            "                    Previsto\n",
            "               Churn     Não-Churn\n",
            "    Churn      1181       382\n",
            "Real\n",
            "    Não-Churn  336       1243\n",
            "\n",
            "Acurácia: 0.7714831317632082\n",
            "Precisão: 0.7785102175346078\n",
            "Recall: 0.7555982085732565\n",
            "F1: 0.7668831168831168\n",
            "\n"
          ]
        }
      ]
    },
    {
      "cell_type": "markdown",
      "source": [
        "Random Forest Classifier"
      ],
      "metadata": {
        "id": "kgxVwH0Ao6UM"
      }
    },
    {
      "cell_type": "code",
      "source": [
        "from pyspark.ml.classification import RandomForestClassifier"
      ],
      "metadata": {
        "id": "bn9dyfyzo8jZ"
      },
      "execution_count": null,
      "outputs": []
    },
    {
      "cell_type": "code",
      "source": [
        "rfc = RandomForestClassifier(seed = SEED)"
      ],
      "metadata": {
        "id": "uVRnryHSo-E5"
      },
      "execution_count": null,
      "outputs": []
    },
    {
      "cell_type": "code",
      "source": [
        "modelo_rfc = rfc.fit(treino)"
      ],
      "metadata": {
        "id": "dBma64TxpBML"
      },
      "execution_count": null,
      "outputs": []
    },
    {
      "cell_type": "code",
      "source": [
        "previsoes_rfc_treino = modelo_rfc.transform(treino)"
      ],
      "metadata": {
        "id": "yA1DzD6kpDHc"
      },
      "execution_count": null,
      "outputs": []
    },
    {
      "cell_type": "code",
      "source": [
        "previsoes_rfc_treino.show(10)"
      ],
      "metadata": {
        "colab": {
          "base_uri": "https://localhost:8080/"
        },
        "id": "eL7q5pHCpUXl",
        "outputId": "2b1b8d8d-3339-4178-9443-d91ecc49ee8a"
      },
      "execution_count": null,
      "outputs": [
        {
          "output_type": "stream",
          "name": "stdout",
          "text": [
            "+--------------------+-----+--------------------+--------------------+----------+\n",
            "|            features|label|       rawPrediction|         probability|prediction|\n",
            "+--------------------+-----+--------------------+--------------------+----------+\n",
            "|(24,[0,1,2,3,4,5,...|    0|[15.0052773466704...|[0.75026386733352...|       0.0|\n",
            "|(24,[0,1,2,3,4,5,...|    0|[16.9295040273249...|[0.84647520136624...|       0.0|\n",
            "|(24,[0,1,2,3,4,5,...|    0|[9.13052909106814...|[0.45652645455340...|       1.0|\n",
            "|(24,[0,1,2,3,4,5,...|    0|[9.13052909106814...|[0.45652645455340...|       1.0|\n",
            "|(24,[0,1,2,3,4,5,...|    0|[8.59288938528764...|[0.42964446926438...|       1.0|\n",
            "|(24,[0,1,2,3,4,5,...|    1|[5.59647122885698...|[0.27982356144284...|       1.0|\n",
            "|(24,[0,1,2,3,4,5,...|    0|[9.33276328267787...|[0.46663816413389...|       1.0|\n",
            "|(24,[0,1,2,3,4,5,...|    1|[5.21616013157118...|[0.26080800657855...|       1.0|\n",
            "|(24,[0,1,2,3,4,5,...|    0|[5.45640255581361...|[0.27282012779068...|       1.0|\n",
            "|(24,[0,1,2,3,4,5,...|    0|[4.60442649894724...|[0.23022132494736...|       1.0|\n",
            "+--------------------+-----+--------------------+--------------------+----------+\n",
            "only showing top 10 rows\n",
            "\n"
          ]
        }
      ]
    },
    {
      "cell_type": "code",
      "source": [
        "previsoes_rfc_teste= modelo_rfc.transform(teste)"
      ],
      "metadata": {
        "id": "BmOL1WBppW0G"
      },
      "execution_count": null,
      "outputs": []
    },
    {
      "cell_type": "code",
      "source": [
        "from utils2 import calcula_mostra_metricas_evaluate\n",
        "\n",
        "print(calcula_mostra_metricas_evaluate(previsoes_rfc_teste, normalize=False))"
      ],
      "metadata": {
        "colab": {
          "base_uri": "https://localhost:8080/"
        },
        "id": "4W5qa1qIqeAL",
        "outputId": "026c1d03-4de6-4ca7-b2cd-e7cbd09590a6"
      },
      "execution_count": null,
      "outputs": [
        {
          "output_type": "stream",
          "name": "stdout",
          "text": [
            "                    Previsto\n",
            "               Churn     Não-Churn\n",
            "    Churn      1257       306\n",
            "Real\n",
            "    Não-Churn  416       1163\n",
            "\n",
            "Acurácia: 0.7702100572883513\n",
            "Precisão: 0.7513448894202033\n",
            "Recall: 0.8042226487523992\n",
            "F1: 0.7768850432632881\n",
            "\n"
          ]
        }
      ]
    },
    {
      "cell_type": "code",
      "source": [
        "print('Random Forest Classifier')\n",
        "print(\"=\"*40)\n",
        "print(\"Dados de Treino\")\n",
        "print(\"=\"*40)\n",
        "print(\"Matriz de Confusão\")\n",
        "print(\"-\"*40)\n",
        "calcula_mostra_matriz_confusao(previsoes_rfc_treino, normalize=False)\n",
        "print(\"-\"*40)\n",
        "print(\"Métricas\")\n",
        "print(\"-\"*40)\n",
        "print(\"Acurácia: %f\" % evaluator.evaluate(previsoes_rfc_treino, {evaluator.metricName: \"accuracy\"}))\n",
        "print(\"Precisão: %f\" % evaluator.evaluate(previsoes_rfc_treino, {evaluator.metricName: \"precisionByLabel\", evaluator.metricLabel: 1}))\n",
        "print(\"Recall: %f\" % evaluator.evaluate(previsoes_rfc_treino, {evaluator.metricName: \"recallByLabel\", evaluator.metricLabel: 1}))\n",
        "print(\"F1: %f\" % evaluator.evaluate(previsoes_rfc_treino, {evaluator.metricName: \"fMeasureByLabel\", evaluator.metricLabel: 1}))\n",
        "print(\"\")\n",
        "print(\"=\"*40)\n",
        "print(\"Dados de Teste\")\n",
        "print(\"=\"*40)\n",
        "print(\"Matriz de Confusão\")\n",
        "print(\"-\"*40)\n",
        "calcula_mostra_matriz_confusao(previsoes_rfc_teste, normalize=False)\n",
        "print(\"-\"*40)\n",
        "print(\"Métricas\")\n",
        "print(\"-\"*40)\n",
        "print(\"Acurácia: %f\" % evaluator.evaluate(previsoes_rfc_teste, {evaluator.metricName: \"accuracy\"}))\n",
        "print(\"Precisão: %f\" % evaluator.evaluate(previsoes_rfc_teste, {evaluator.metricName: \"precisionByLabel\", evaluator.metricLabel: 1}))\n",
        "print(\"Recall: %f\" % evaluator.evaluate(previsoes_rfc_teste, {evaluator.metricName: \"recallByLabel\", evaluator.metricLabel: 1}))\n",
        "print(\"F1: %f\" % evaluator.evaluate(previsoes_rfc_teste, {evaluator.metricName: \"fMeasureByLabel\", evaluator.metricLabel: 1}))"
      ],
      "metadata": {
        "colab": {
          "base_uri": "https://localhost:8080/"
        },
        "id": "RV_WTA76qhZ8",
        "outputId": "87343900-6315-445e-e1fb-2c8488a27fa2"
      },
      "execution_count": null,
      "outputs": [
        {
          "output_type": "stream",
          "name": "stdout",
          "text": [
            "Random Forest Classifier\n",
            "========================================\n",
            "Dados de Treino\n",
            "========================================\n",
            "Matriz de Confusão\n",
            "----------------------------------------\n",
            "                     Previsto\n",
            "                Churn       Não-Churn\n",
            "     Churn        2950         661\n",
            "Real\n",
            "     Não-Churn    884         2711\n",
            "----------------------------------------\n",
            "Métricas\n",
            "----------------------------------------\n",
            "Acurácia: 0.785595\n",
            "Precisão: 0.769431\n",
            "Recall: 0.816948\n",
            "F1: 0.792478\n",
            "\n",
            "========================================\n",
            "Dados de Teste\n",
            "========================================\n",
            "Matriz de Confusão\n",
            "----------------------------------------\n",
            "                     Previsto\n",
            "                Churn       Não-Churn\n",
            "     Churn        1257         306\n",
            "Real\n",
            "     Não-Churn    416         1163\n",
            "----------------------------------------\n",
            "Métricas\n",
            "----------------------------------------\n",
            "Acurácia: 0.770210\n",
            "Precisão: 0.751345\n",
            "Recall: 0.804223\n",
            "F1: 0.776885\n"
          ]
        }
      ]
    },
    {
      "cell_type": "code",
      "source": [
        "from metricas import compara_metricas_modelos\n",
        "from pyspark.sql import functions as f"
      ],
      "metadata": {
        "id": "pCSkK2kmqtDC"
      },
      "execution_count": null,
      "outputs": []
    },
    {
      "cell_type": "code",
      "source": [
        "#print(compara_metricas_modelos({'Logistic Regression': previsoes_lr_teste,\n",
        "                                #'DecisionTreeClassifier': previsoes_dtc_teste,\n",
        "                                #'RandomForestClassifier': previsoes_rfc_teste}))#"
      ],
      "metadata": {
        "id": "xD1crAYjux_D"
      },
      "execution_count": null,
      "outputs": []
    },
    {
      "cell_type": "markdown",
      "source": [
        "Utilizando o CrossValidation"
      ],
      "metadata": {
        "id": "eNWVfXA4wnm6"
      }
    },
    {
      "cell_type": "code",
      "source": [
        "from pyspark.ml.tuning import CrossValidator, ParamGridBuilder"
      ],
      "metadata": {
        "id": "f_t3h4J8wrTe"
      },
      "execution_count": null,
      "outputs": []
    },
    {
      "cell_type": "code",
      "source": [
        "dtc = DecisionTreeClassifier(seed = SEED)"
      ],
      "metadata": {
        "id": "ATYLWjCAytSv"
      },
      "execution_count": null,
      "outputs": []
    },
    {
      "cell_type": "code",
      "source": [
        "grid = ParamGridBuilder()\\\n",
        "      .addGrid(dtc.maxDepth,[2,5,10])\\\n",
        "      .addGrid(dtc.maxBins,[10,32,45])\\\n",
        "      .build()"
      ],
      "metadata": {
        "id": "2mq182Any5B1"
      },
      "execution_count": null,
      "outputs": []
    },
    {
      "cell_type": "code",
      "source": [
        "evaluator = MulticlassClassificationEvaluator()"
      ],
      "metadata": {
        "id": "-vWbP6cEzMzf"
      },
      "execution_count": null,
      "outputs": []
    },
    {
      "cell_type": "code",
      "source": [
        "dtc_cv = CrossValidator(\n",
        "    estimator=dtc,\n",
        "    estimatorParamMaps=grid,\n",
        "    evaluator=evaluator,\n",
        "    numFolds=3,\n",
        "    seed=SEED\n",
        ")"
      ],
      "metadata": {
        "id": "OXEz42VPzT0C"
      },
      "execution_count": null,
      "outputs": []
    },
    {
      "cell_type": "code",
      "source": [
        "modelo_dtc_cv = dtc_cv.fit(treino)"
      ],
      "metadata": {
        "id": "elD39LuEzxjh"
      },
      "execution_count": null,
      "outputs": []
    },
    {
      "cell_type": "code",
      "source": [
        "previsoes_dtc_cv_teste = modelo_dtc_cv.transform(teste)"
      ],
      "metadata": {
        "id": "OnbM-O4F3pka"
      },
      "execution_count": null,
      "outputs": []
    },
    {
      "cell_type": "code",
      "source": [
        "previsoes_dtc_cv.show()"
      ],
      "metadata": {
        "colab": {
          "base_uri": "https://localhost:8080/"
        },
        "id": "pESrpR9r4yxO",
        "outputId": "d5a27384-0817-4eee-90ed-d0ab99ec08a0"
      },
      "execution_count": null,
      "outputs": [
        {
          "output_type": "stream",
          "name": "stdout",
          "text": [
            "+--------------------+-----+-------------+--------------------+----------+\n",
            "|            features|label|rawPrediction|         probability|prediction|\n",
            "+--------------------+-----+-------------+--------------------+----------+\n",
            "|(24,[0,1,2,3,4,5,...|    0|   [26.0,0.0]|           [1.0,0.0]|       0.0|\n",
            "|(24,[0,1,2,3,4,5,...|    0|   [11.0,7.0]|[0.61111111111111...|       0.0|\n",
            "|(24,[0,1,2,3,4,5,...|    1|  [35.0,57.0]|[0.38043478260869...|       1.0|\n",
            "|(24,[0,1,2,3,4,5,...|    1|   [6.0,19.0]|         [0.24,0.76]|       1.0|\n",
            "|(24,[0,1,2,3,4,5,...|    0|  [35.0,57.0]|[0.38043478260869...|       1.0|\n",
            "|(24,[0,1,2,3,4,5,...|    0|    [9.0,8.0]|[0.52941176470588...|       0.0|\n",
            "|(24,[0,1,2,3,4,5,...|    0| [84.0,542.0]|[0.13418530351437...|       1.0|\n",
            "|(24,[0,1,2,3,4,5,...|    0|  [35.0,57.0]|[0.38043478260869...|       1.0|\n",
            "|(24,[0,1,2,3,4,5,...|    0|    [5.0,4.0]|[0.55555555555555...|       0.0|\n",
            "|(24,[0,1,2,3,4,5,...|    0|    [6.0,0.0]|           [1.0,0.0]|       0.0|\n",
            "|(24,[0,1,2,3,4,5,...|    1|  [26.0,95.0]|[0.21487603305785...|       1.0|\n",
            "|(24,[0,1,2,3,4,5,...|    1| [12.0,180.0]|     [0.0625,0.9375]|       1.0|\n",
            "|(24,[0,1,2,3,4,5,...|    0|   [23.0,0.0]|           [1.0,0.0]|       0.0|\n",
            "|(24,[0,1,2,3,4,8,...|    0|   [22.0,3.0]|         [0.88,0.12]|       0.0|\n",
            "|(24,[0,1,2,3,4,8,...|    0|   [4.0,17.0]|[0.19047619047619...|       1.0|\n",
            "|(24,[0,1,2,3,4,8,...|    0|   [12.0,1.0]|[0.92307692307692...|       0.0|\n",
            "|(24,[0,1,2,3,5,6,...|    0|   [23.0,0.0]|           [1.0,0.0]|       0.0|\n",
            "|(24,[0,1,2,3,5,6,...|    0|   [37.0,4.0]|[0.90243902439024...|       0.0|\n",
            "|(24,[0,1,2,3,5,6,...|    0|    [8.0,0.0]|           [1.0,0.0]|       0.0|\n",
            "|(24,[0,1,2,3,5,6,...|    0|   [97.0,0.0]|           [1.0,0.0]|       0.0|\n",
            "+--------------------+-----+-------------+--------------------+----------+\n",
            "only showing top 20 rows\n",
            "\n"
          ]
        }
      ]
    },
    {
      "cell_type": "code",
      "source": [
        "print('Decision Tree Classifier - Tuning')\n",
        "print(\"=\"*40)\n",
        "print(\"Dados de Teste\")\n",
        "print(\"=\"*40)\n",
        "print(\"Matriz de Confusão\")\n",
        "print(\"-\"*40)\n",
        "calcula_mostra_matriz_confusao(previsoes_dtc_cv_teste, normalize=False)\n",
        "print(\"-\"*40)\n",
        "print(\"Métricas\")\n",
        "print(\"-\"*40)\n",
        "print(\"Acurácia: %f\" % evaluator.evaluate(previsoes_dtc_cv_teste, {evaluator.metricName: \"accuracy\"}))\n",
        "print(\"Precisão: %f\" % evaluator.evaluate(previsoes_dtc_cv_teste, {evaluator.metricName: \"precisionByLabel\", evaluator.metricLabel: 1}))\n",
        "print(\"Recall: %f\" % evaluator.evaluate(previsoes_dtc_cv_teste, {evaluator.metricName: \"recallByLabel\", evaluator.metricLabel: 1}))\n",
        "print(\"F1: %f\" % evaluator.evaluate(previsoes_dtc_cv_teste, {evaluator.metricName: \"fMeasureByLabel\", evaluator.metricLabel: 1}))"
      ],
      "metadata": {
        "colab": {
          "base_uri": "https://localhost:8080/"
        },
        "id": "-k9KPhIb41D-",
        "outputId": "90baf9e2-1bce-4fcd-8cec-e2c63ddf8a7a"
      },
      "execution_count": null,
      "outputs": [
        {
          "output_type": "stream",
          "name": "stdout",
          "text": [
            "Decision Tree Classifier - Tuning\n",
            "========================================\n",
            "Dados de Teste\n",
            "========================================\n",
            "Matriz de Confusão\n",
            "----------------------------------------\n",
            "                     Previsto\n",
            "                Churn       Não-Churn\n",
            "     Churn        1327         236\n",
            "Real\n",
            "     Não-Churn    423         1156\n",
            "----------------------------------------\n",
            "Métricas\n",
            "----------------------------------------\n",
            "Acurácia: 0.790261\n",
            "Precisão: 0.758286\n",
            "Recall: 0.849008\n",
            "F1: 0.801087\n"
          ]
        }
      ]
    },
    {
      "cell_type": "code",
      "source": [
        "rfc = RandomForestClassifier(seed=SEED)"
      ],
      "metadata": {
        "id": "KvU8kPBa44wR"
      },
      "execution_count": null,
      "outputs": []
    },
    {
      "cell_type": "code",
      "source": [
        "grid = ParamGridBuilder()\\\n",
        "        .addGrid(rfc.maxDepth, [2, 5, 10])\\\n",
        "        .addGrid(rfc.maxBins, [10, 32, 45])\\\n",
        "        .addGrid(rfc.numTrees, [10, 20, 50])\\\n",
        "        .build()"
      ],
      "metadata": {
        "id": "6bWMxXw36GlG"
      },
      "execution_count": null,
      "outputs": []
    },
    {
      "cell_type": "code",
      "source": [
        "evaluator = MulticlassClassificationEvaluator()"
      ],
      "metadata": {
        "id": "cxCPGLLS6HTG"
      },
      "execution_count": null,
      "outputs": []
    },
    {
      "cell_type": "code",
      "source": [
        "rfc_cv = CrossValidator(\n",
        "    estimator=rfc,\n",
        "    estimatorParamMaps=grid,\n",
        "    evaluator=evaluator,\n",
        "    numFolds=3,\n",
        "    seed=SEED\n",
        ")"
      ],
      "metadata": {
        "id": "NOs92zMc6IB3"
      },
      "execution_count": null,
      "outputs": []
    },
    {
      "cell_type": "code",
      "source": [
        "modelo_rfc_cv = rfc_cv.fit(treino)"
      ],
      "metadata": {
        "id": "oKFIWhJU6P1z"
      },
      "execution_count": null,
      "outputs": []
    },
    {
      "cell_type": "code",
      "source": [
        "previsoes_rfc_cv_teste = modelo_rfc_cv.transform(teste)"
      ],
      "metadata": {
        "id": "mrASl1BY6KY3"
      },
      "execution_count": null,
      "outputs": []
    },
    {
      "cell_type": "code",
      "source": [
        "print('Random Forest Classifier - Tuning')\n",
        "print(\"=\"*40)\n",
        "print(\"Dados de Teste\")\n",
        "print(\"=\"*40)\n",
        "print(\"Matriz de Confusão\")\n",
        "print(\"-\"*40)\n",
        "calcula_mostra_matriz_confusao(previsoes_rfc_cv_teste, normalize=False)\n",
        "print(\"-\"*40)\n",
        "print(\"Métricas\")\n",
        "print(\"-\"*40)\n",
        "print(\"Acurácia: %f\" % evaluator.evaluate(previsoes_rfc_cv_teste, {evaluator.metricName: \"accuracy\"}))\n",
        "print(\"Precisão: %f\" % evaluator.evaluate(previsoes_rfc_cv_teste, {evaluator.metricName: \"precisionByLabel\", evaluator.metricLabel: 1}))\n",
        "print(\"Recall: %f\" % evaluator.evaluate(previsoes_rfc_cv_teste, {evaluator.metricName: \"recallByLabel\", evaluator.metricLabel: 1}))\n",
        "print(\"F1: %f\" % evaluator.evaluate(previsoes_rfc_cv_teste, {evaluator.metricName: \"fMeasureByLabel\", evaluator.metricLabel: 1}))"
      ],
      "metadata": {
        "colab": {
          "base_uri": "https://localhost:8080/"
        },
        "id": "BAa6eLG26LvY",
        "outputId": "a6dda764-2e82-416f-ec88-c391f10911af"
      },
      "execution_count": null,
      "outputs": [
        {
          "output_type": "stream",
          "name": "stdout",
          "text": [
            "Random Forest Classifier - Tuning\n",
            "========================================\n",
            "Dados de Teste\n",
            "========================================\n",
            "Matriz de Confusão\n",
            "----------------------------------------\n",
            "                     Previsto\n",
            "                Churn       Não-Churn\n",
            "     Churn        1322         241\n",
            "Real\n",
            "     Não-Churn    347         1232\n",
            "----------------------------------------\n",
            "Métricas\n",
            "----------------------------------------\n",
            "Acurácia: 0.812858\n",
            "Precisão: 0.792091\n",
            "Recall: 0.845809\n",
            "F1: 0.818069\n"
          ]
        }
      ]
    },
    {
      "cell_type": "code",
      "source": [
        "melhor_modelo_rfc_cv = modelo_rfc_cv.bestModel"
      ],
      "metadata": {
        "id": "05bb80DV6Mjp"
      },
      "execution_count": null,
      "outputs": []
    },
    {
      "cell_type": "code",
      "source": [
        "print(melhor_modelo_rfc_cv.getMaxDepth())\n",
        "print(melhor_modelo_rfc_cv.getMaxBins())\n",
        "print(melhor_modelo_rfc_cv.getNumTrees)"
      ],
      "metadata": {
        "colab": {
          "base_uri": "https://localhost:8080/"
        },
        "id": "9FNcFr288WJ8",
        "outputId": "2a764583-341b-4053-e49b-e50ac38d2f63"
      },
      "execution_count": null,
      "outputs": [
        {
          "output_type": "stream",
          "name": "stdout",
          "text": [
            "10\n",
            "45\n",
            "20\n"
          ]
        }
      ]
    },
    {
      "cell_type": "code",
      "source": [
        "rfc_tunning = RandomForestClassifier(maxDepth=10, maxBins=45, numTrees=20, seed=SEED)"
      ],
      "metadata": {
        "id": "oQsgWuLd8ave"
      },
      "execution_count": null,
      "outputs": []
    },
    {
      "cell_type": "code",
      "source": [
        "modelo_rfc_tunning = rfc_tunning.fit(dataset_prep)"
      ],
      "metadata": {
        "id": "buljt62L8evQ"
      },
      "execution_count": null,
      "outputs": []
    },
    {
      "cell_type": "code",
      "source": [
        "novo_cliente = [{\n",
        "    'Mais65anos': 0,\n",
        "    'MesesDeContrato': 1,\n",
        "    'MesesCobrados': 45.30540797610398,\n",
        "    'Conjuge': 0,\n",
        "    'Dependentes': 0,\n",
        "    'TelefoneFixo': 0,\n",
        "    'MaisDeUmaLinhaTelefonica': 0,\n",
        "    'SegurancaOnline': 0,\n",
        "    'BackupOnline': 0,\n",
        "    'SeguroDispositivo': 0,\n",
        "    'SuporteTecnico': 0,\n",
        "    'TVaCabo': 1,\n",
        "    'StreamingFilmes': 1,\n",
        "    'ContaCorreio': 1,\n",
        "    'Internet_DSL': 1,\n",
        "    'Internet_FibraOptica': 0,\n",
        "    'Internet_Nao': 0,\n",
        "    'TipoContrato_Mensalmente': 1,\n",
        "    'TipoContrato_UmAno': 0,\n",
        "    'TipoContrato_DoisAnos': 0,\n",
        "    'MetodoPagamento_DebitoEmConta': 0,\n",
        "    'MetodoPagamento_CartaoCredito': 0,\n",
        "    'MetodoPagamento_BoletoEletronico': 1,\n",
        "    'MetodoPagamento_Boleto': 0\n",
        "}]"
      ],
      "metadata": {
        "id": "y5xFYbtT8rU3"
      },
      "execution_count": null,
      "outputs": []
    },
    {
      "cell_type": "code",
      "source": [
        "novo_cliente = spark.createDataFrame(novo_cliente)\n",
        "novo_cliente.show()"
      ],
      "metadata": {
        "colab": {
          "base_uri": "https://localhost:8080/"
        },
        "id": "7drDk_wl8x3a",
        "outputId": "69cc2f18-1815-4e7b-c605-ac41d607a48b"
      },
      "execution_count": null,
      "outputs": [
        {
          "output_type": "stream",
          "name": "stdout",
          "text": [
            "+------------+-------+------------+-----------+------------+--------------------+------------+----------+------------------------+-----------------+---------------+----------------------+--------------------------------+-----------------------------+-----------------------------+---------------+-----------------+---------------+--------------+-------+------------+---------------------+------------------------+------------------+\n",
            "|BackupOnline|Conjuge|ContaCorreio|Dependentes|Internet_DSL|Internet_FibraOptica|Internet_Nao|Mais65anos|MaisDeUmaLinhaTelefonica|    MesesCobrados|MesesDeContrato|MetodoPagamento_Boleto|MetodoPagamento_BoletoEletronico|MetodoPagamento_CartaoCredito|MetodoPagamento_DebitoEmConta|SegurancaOnline|SeguroDispositivo|StreamingFilmes|SuporteTecnico|TVaCabo|TelefoneFixo|TipoContrato_DoisAnos|TipoContrato_Mensalmente|TipoContrato_UmAno|\n",
            "+------------+-------+------------+-----------+------------+--------------------+------------+----------+------------------------+-----------------+---------------+----------------------+--------------------------------+-----------------------------+-----------------------------+---------------+-----------------+---------------+--------------+-------+------------+---------------------+------------------------+------------------+\n",
            "|           0|      0|           1|          0|           1|                   0|           0|         0|                       0|45.30540797610398|              1|                     0|                               1|                            0|                            0|              0|                0|              1|             0|      1|           0|                    0|                       1|                 0|\n",
            "+------------+-------+------------+-----------+------------+--------------------+------------+----------+------------------------+-----------------+---------------+----------------------+--------------------------------+-----------------------------+-----------------------------+---------------+-----------------+---------------+--------------+-------+------------+---------------------+------------------------+------------------+\n",
            "\n"
          ]
        }
      ]
    },
    {
      "cell_type": "code",
      "source": [
        "assembler = VectorAssembler(inputCols = X, outputCol = 'features')"
      ],
      "metadata": {
        "id": "MhvlxQvk9ueo"
      },
      "execution_count": null,
      "outputs": []
    },
    {
      "cell_type": "code",
      "source": [
        "novo_cliente_vetorizado = assembler.transform(novo_cliente).select('features')"
      ],
      "metadata": {
        "id": "IzILq_A99xVg"
      },
      "execution_count": null,
      "outputs": []
    },
    {
      "cell_type": "code",
      "source": [
        "novo_cliente_vetorizado.show(truncate = False)"
      ],
      "metadata": {
        "colab": {
          "base_uri": "https://localhost:8080/"
        },
        "id": "pXROOUJH9xYA",
        "outputId": "02b17836-c2ee-4be1-8bb8-2098aae027ce"
      },
      "execution_count": null,
      "outputs": [
        {
          "output_type": "stream",
          "name": "stdout",
          "text": [
            "+----------------------------------------------------------------------------+\n",
            "|features                                                                    |\n",
            "+----------------------------------------------------------------------------+\n",
            "|(24,[1,2,11,12,13,14,17,22],[1.0,45.30540797610398,1.0,1.0,1.0,1.0,1.0,1.0])|\n",
            "+----------------------------------------------------------------------------+\n",
            "\n"
          ]
        }
      ]
    },
    {
      "cell_type": "code",
      "source": [
        "modelo_rfc_tunning.transform(novo_cliente_vetorizado).show()"
      ],
      "metadata": {
        "colab": {
          "base_uri": "https://localhost:8080/"
        },
        "id": "rU_21ciC9xac",
        "outputId": "79c3e333-c444-4488-ec37-4375f0c4a437"
      },
      "execution_count": null,
      "outputs": [
        {
          "output_type": "stream",
          "name": "stdout",
          "text": [
            "+--------------------+--------------------+--------------------+----------+\n",
            "|            features|       rawPrediction|         probability|prediction|\n",
            "+--------------------+--------------------+--------------------+----------+\n",
            "|(24,[1,2,11,12,13...|[2.16984156904747...|[0.10849207845237...|       1.0|\n",
            "+--------------------+--------------------+--------------------+----------+\n",
            "\n"
          ]
        }
      ]
    },
    {
      "cell_type": "code",
      "source": [],
      "metadata": {
        "id": "7LUKbVwF-KW1"
      },
      "execution_count": null,
      "outputs": []
    }
  ],
  "metadata": {
    "colab": {
      "provenance": []
    },
    "kernelspec": {
      "display_name": "Python 3",
      "language": "python",
      "name": "python3"
    },
    "language_info": {
      "codemirror_mode": {
        "name": "ipython",
        "version": 3
      },
      "file_extension": ".py",
      "mimetype": "text/x-python",
      "name": "python",
      "nbconvert_exporter": "python",
      "pygments_lexer": "ipython3",
      "version": "3.8.8"
    }
  },
  "nbformat": 4,
  "nbformat_minor": 0
}